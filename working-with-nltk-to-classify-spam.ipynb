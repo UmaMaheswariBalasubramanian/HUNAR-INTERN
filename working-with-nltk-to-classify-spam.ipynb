{
 "cells": [
  {
   "cell_type": "code",
   "execution_count": 1,
   "id": "0c905d8c",
   "metadata": {
    "_cell_guid": "b1076dfc-b9ad-4769-8c92-a6c4dae69d19",
    "_uuid": "8f2839f25d086af736a60e9eeb907d3b93b6e0e5",
    "execution": {
     "iopub.execute_input": "2024-03-04T19:55:02.040440Z",
     "iopub.status.busy": "2024-03-04T19:55:02.039858Z",
     "iopub.status.idle": "2024-03-04T19:55:02.950790Z",
     "shell.execute_reply": "2024-03-04T19:55:02.949795Z"
    },
    "papermill": {
     "duration": 0.930991,
     "end_time": "2024-03-04T19:55:02.953139",
     "exception": false,
     "start_time": "2024-03-04T19:55:02.022148",
     "status": "completed"
    },
    "tags": []
   },
   "outputs": [
    {
     "name": "stdout",
     "output_type": "stream",
     "text": [
      "/kaggle/input/sms-spam-collection-dataset/spam.csv\n"
     ]
    }
   ],
   "source": [
    "# This Python 3 environment comes with many helpful analytics libraries installed\n",
    "# It is defined by the kaggle/python Docker image: https://github.com/kaggle/docker-python\n",
    "# For example, here's several helpful packages to load\n",
    "\n",
    "import numpy as np # linear algebra\n",
    "import pandas as pd # data processing, CSV file I/O (e.g. pd.read_csv)\n",
    "\n",
    "# Input data files are available in the read-only \"../input/\" directory\n",
    "# For example, running this (by clicking run or pressing Shift+Enter) will list all files under the input directory\n",
    "\n",
    "import os\n",
    "for dirname, _, filenames in os.walk('/kaggle/input'):\n",
    "    for filename in filenames:\n",
    "        print(os.path.join(dirname, filename))\n",
    "\n",
    "# You can write up to 20GB to the current directory (/kaggle/working/) that gets preserved as output when you create a version using \"Save & Run All\" \n",
    "# You can also write temporary files to /kaggle/temp/, but they won't be saved outside of the current session"
   ]
  },
  {
   "cell_type": "code",
   "execution_count": 2,
   "id": "0ee9f733",
   "metadata": {
    "execution": {
     "iopub.execute_input": "2024-03-04T19:55:02.982914Z",
     "iopub.status.busy": "2024-03-04T19:55:02.982374Z",
     "iopub.status.idle": "2024-03-04T19:55:02.987170Z",
     "shell.execute_reply": "2024-03-04T19:55:02.985977Z"
    },
    "papermill": {
     "duration": 0.022166,
     "end_time": "2024-03-04T19:55:02.989417",
     "exception": false,
     "start_time": "2024-03-04T19:55:02.967251",
     "status": "completed"
    },
    "tags": []
   },
   "outputs": [],
   "source": [
    "#!pip install nltk"
   ]
  },
  {
   "cell_type": "code",
   "execution_count": 3,
   "id": "4b3a0475",
   "metadata": {
    "execution": {
     "iopub.execute_input": "2024-03-04T19:55:03.019463Z",
     "iopub.status.busy": "2024-03-04T19:55:03.019058Z",
     "iopub.status.idle": "2024-03-04T19:55:05.528610Z",
     "shell.execute_reply": "2024-03-04T19:55:05.527348Z"
    },
    "papermill": {
     "duration": 2.52872,
     "end_time": "2024-03-04T19:55:05.531834",
     "exception": false,
     "start_time": "2024-03-04T19:55:03.003114",
     "status": "completed"
    },
    "tags": []
   },
   "outputs": [],
   "source": [
    "import nltk\n",
    "import pandas as pd\n",
    "import numpy as np\n",
    "import matplotlib.pyplot as plt\n",
    "import seaborn as sns\n",
    "import warnings\n",
    "from sklearn.model_selection import train_test_split\n",
    "warnings.filterwarnings(\"ignore\")"
   ]
  },
  {
   "cell_type": "code",
   "execution_count": 4,
   "id": "15c0991f",
   "metadata": {
    "execution": {
     "iopub.execute_input": "2024-03-04T19:55:05.572179Z",
     "iopub.status.busy": "2024-03-04T19:55:05.571414Z",
     "iopub.status.idle": "2024-03-04T19:55:05.575473Z",
     "shell.execute_reply": "2024-03-04T19:55:05.574581Z"
    },
    "papermill": {
     "duration": 0.029035,
     "end_time": "2024-03-04T19:55:05.579522",
     "exception": false,
     "start_time": "2024-03-04T19:55:05.550487",
     "status": "completed"
    },
    "tags": []
   },
   "outputs": [],
   "source": [
    "#nltk.download_shell()"
   ]
  },
  {
   "cell_type": "code",
   "execution_count": 5,
   "id": "233ffe9e",
   "metadata": {
    "execution": {
     "iopub.execute_input": "2024-03-04T19:55:05.613373Z",
     "iopub.status.busy": "2024-03-04T19:55:05.612572Z",
     "iopub.status.idle": "2024-03-04T19:55:05.664772Z",
     "shell.execute_reply": "2024-03-04T19:55:05.663860Z"
    },
    "papermill": {
     "duration": 0.069492,
     "end_time": "2024-03-04T19:55:05.666980",
     "exception": false,
     "start_time": "2024-03-04T19:55:05.597488",
     "status": "completed"
    },
    "tags": []
   },
   "outputs": [
    {
     "data": {
      "text/html": [
       "<div>\n",
       "<style scoped>\n",
       "    .dataframe tbody tr th:only-of-type {\n",
       "        vertical-align: middle;\n",
       "    }\n",
       "\n",
       "    .dataframe tbody tr th {\n",
       "        vertical-align: top;\n",
       "    }\n",
       "\n",
       "    .dataframe thead th {\n",
       "        text-align: right;\n",
       "    }\n",
       "</style>\n",
       "<table border=\"1\" class=\"dataframe\">\n",
       "  <thead>\n",
       "    <tr style=\"text-align: right;\">\n",
       "      <th></th>\n",
       "      <th>v1</th>\n",
       "      <th>v2</th>\n",
       "      <th>Unnamed: 2</th>\n",
       "      <th>Unnamed: 3</th>\n",
       "      <th>Unnamed: 4</th>\n",
       "    </tr>\n",
       "  </thead>\n",
       "  <tbody>\n",
       "    <tr>\n",
       "      <th>0</th>\n",
       "      <td>ham</td>\n",
       "      <td>Go until jurong point, crazy.. Available only ...</td>\n",
       "      <td>NaN</td>\n",
       "      <td>NaN</td>\n",
       "      <td>NaN</td>\n",
       "    </tr>\n",
       "    <tr>\n",
       "      <th>1</th>\n",
       "      <td>ham</td>\n",
       "      <td>Ok lar... Joking wif u oni...</td>\n",
       "      <td>NaN</td>\n",
       "      <td>NaN</td>\n",
       "      <td>NaN</td>\n",
       "    </tr>\n",
       "    <tr>\n",
       "      <th>2</th>\n",
       "      <td>spam</td>\n",
       "      <td>Free entry in 2 a wkly comp to win FA Cup fina...</td>\n",
       "      <td>NaN</td>\n",
       "      <td>NaN</td>\n",
       "      <td>NaN</td>\n",
       "    </tr>\n",
       "    <tr>\n",
       "      <th>3</th>\n",
       "      <td>ham</td>\n",
       "      <td>U dun say so early hor... U c already then say...</td>\n",
       "      <td>NaN</td>\n",
       "      <td>NaN</td>\n",
       "      <td>NaN</td>\n",
       "    </tr>\n",
       "    <tr>\n",
       "      <th>4</th>\n",
       "      <td>ham</td>\n",
       "      <td>Nah I don't think he goes to usf, he lives aro...</td>\n",
       "      <td>NaN</td>\n",
       "      <td>NaN</td>\n",
       "      <td>NaN</td>\n",
       "    </tr>\n",
       "  </tbody>\n",
       "</table>\n",
       "</div>"
      ],
      "text/plain": [
       "     v1                                                 v2 Unnamed: 2  \\\n",
       "0   ham  Go until jurong point, crazy.. Available only ...        NaN   \n",
       "1   ham                      Ok lar... Joking wif u oni...        NaN   \n",
       "2  spam  Free entry in 2 a wkly comp to win FA Cup fina...        NaN   \n",
       "3   ham  U dun say so early hor... U c already then say...        NaN   \n",
       "4   ham  Nah I don't think he goes to usf, he lives aro...        NaN   \n",
       "\n",
       "  Unnamed: 3 Unnamed: 4  \n",
       "0        NaN        NaN  \n",
       "1        NaN        NaN  \n",
       "2        NaN        NaN  \n",
       "3        NaN        NaN  \n",
       "4        NaN        NaN  "
      ]
     },
     "execution_count": 5,
     "metadata": {},
     "output_type": "execute_result"
    }
   ],
   "source": [
    "message = pd.read_csv('/kaggle/input/sms-spam-collection-dataset/spam.csv',encoding='ISO-8859-1')\n",
    "message.head()"
   ]
  },
  {
   "cell_type": "code",
   "execution_count": 6,
   "id": "dee41190",
   "metadata": {
    "execution": {
     "iopub.execute_input": "2024-03-04T19:55:05.700905Z",
     "iopub.status.busy": "2024-03-04T19:55:05.700130Z",
     "iopub.status.idle": "2024-03-04T19:55:05.723941Z",
     "shell.execute_reply": "2024-03-04T19:55:05.721911Z"
    },
    "papermill": {
     "duration": 0.045612,
     "end_time": "2024-03-04T19:55:05.727899",
     "exception": false,
     "start_time": "2024-03-04T19:55:05.682287",
     "status": "completed"
    },
    "tags": []
   },
   "outputs": [
    {
     "data": {
      "text/html": [
       "<div>\n",
       "<style scoped>\n",
       "    .dataframe tbody tr th:only-of-type {\n",
       "        vertical-align: middle;\n",
       "    }\n",
       "\n",
       "    .dataframe tbody tr th {\n",
       "        vertical-align: top;\n",
       "    }\n",
       "\n",
       "    .dataframe thead th {\n",
       "        text-align: right;\n",
       "    }\n",
       "</style>\n",
       "<table border=\"1\" class=\"dataframe\">\n",
       "  <thead>\n",
       "    <tr style=\"text-align: right;\">\n",
       "      <th></th>\n",
       "      <th>lable</th>\n",
       "      <th>message</th>\n",
       "    </tr>\n",
       "  </thead>\n",
       "  <tbody>\n",
       "    <tr>\n",
       "      <th>0</th>\n",
       "      <td>ham</td>\n",
       "      <td>Go until jurong point, crazy.. Available only ...</td>\n",
       "    </tr>\n",
       "    <tr>\n",
       "      <th>1</th>\n",
       "      <td>ham</td>\n",
       "      <td>Ok lar... Joking wif u oni...</td>\n",
       "    </tr>\n",
       "    <tr>\n",
       "      <th>2</th>\n",
       "      <td>spam</td>\n",
       "      <td>Free entry in 2 a wkly comp to win FA Cup fina...</td>\n",
       "    </tr>\n",
       "    <tr>\n",
       "      <th>3</th>\n",
       "      <td>ham</td>\n",
       "      <td>U dun say so early hor... U c already then say...</td>\n",
       "    </tr>\n",
       "    <tr>\n",
       "      <th>4</th>\n",
       "      <td>ham</td>\n",
       "      <td>Nah I don't think he goes to usf, he lives aro...</td>\n",
       "    </tr>\n",
       "  </tbody>\n",
       "</table>\n",
       "</div>"
      ],
      "text/plain": [
       "  lable                                            message\n",
       "0   ham  Go until jurong point, crazy.. Available only ...\n",
       "1   ham                      Ok lar... Joking wif u oni...\n",
       "2  spam  Free entry in 2 a wkly comp to win FA Cup fina...\n",
       "3   ham  U dun say so early hor... U c already then say...\n",
       "4   ham  Nah I don't think he goes to usf, he lives aro..."
      ]
     },
     "execution_count": 6,
     "metadata": {},
     "output_type": "execute_result"
    }
   ],
   "source": [
    "message.drop(axis = 1,columns = ['Unnamed: 2','Unnamed: 3','Unnamed: 4'], inplace = True)\n",
    "message.columns = ['lable', 'message']\n",
    "message.head()"
   ]
  },
  {
   "cell_type": "code",
   "execution_count": 7,
   "id": "6b1dfcd0",
   "metadata": {
    "execution": {
     "iopub.execute_input": "2024-03-04T19:55:05.765386Z",
     "iopub.status.busy": "2024-03-04T19:55:05.764972Z",
     "iopub.status.idle": "2024-03-04T19:55:05.795268Z",
     "shell.execute_reply": "2024-03-04T19:55:05.794149Z"
    },
    "papermill": {
     "duration": 0.051308,
     "end_time": "2024-03-04T19:55:05.797947",
     "exception": false,
     "start_time": "2024-03-04T19:55:05.746639",
     "status": "completed"
    },
    "tags": []
   },
   "outputs": [
    {
     "data": {
      "text/html": [
       "<div>\n",
       "<style scoped>\n",
       "    .dataframe tbody tr th:only-of-type {\n",
       "        vertical-align: middle;\n",
       "    }\n",
       "\n",
       "    .dataframe tbody tr th {\n",
       "        vertical-align: top;\n",
       "    }\n",
       "\n",
       "    .dataframe thead th {\n",
       "        text-align: right;\n",
       "    }\n",
       "</style>\n",
       "<table border=\"1\" class=\"dataframe\">\n",
       "  <thead>\n",
       "    <tr style=\"text-align: right;\">\n",
       "      <th></th>\n",
       "      <th>lable</th>\n",
       "      <th>message</th>\n",
       "    </tr>\n",
       "  </thead>\n",
       "  <tbody>\n",
       "    <tr>\n",
       "      <th>count</th>\n",
       "      <td>5572</td>\n",
       "      <td>5572</td>\n",
       "    </tr>\n",
       "    <tr>\n",
       "      <th>unique</th>\n",
       "      <td>2</td>\n",
       "      <td>5169</td>\n",
       "    </tr>\n",
       "    <tr>\n",
       "      <th>top</th>\n",
       "      <td>ham</td>\n",
       "      <td>Sorry, I'll call later</td>\n",
       "    </tr>\n",
       "    <tr>\n",
       "      <th>freq</th>\n",
       "      <td>4825</td>\n",
       "      <td>30</td>\n",
       "    </tr>\n",
       "  </tbody>\n",
       "</table>\n",
       "</div>"
      ],
      "text/plain": [
       "       lable                 message\n",
       "count   5572                    5572\n",
       "unique     2                    5169\n",
       "top      ham  Sorry, I'll call later\n",
       "freq    4825                      30"
      ]
     },
     "execution_count": 7,
     "metadata": {},
     "output_type": "execute_result"
    }
   ],
   "source": [
    "message.describe()"
   ]
  },
  {
   "cell_type": "code",
   "execution_count": 8,
   "id": "f67587d6",
   "metadata": {
    "execution": {
     "iopub.execute_input": "2024-03-04T19:55:05.831009Z",
     "iopub.status.busy": "2024-03-04T19:55:05.830246Z",
     "iopub.status.idle": "2024-03-04T19:55:05.874567Z",
     "shell.execute_reply": "2024-03-04T19:55:05.873307Z"
    },
    "papermill": {
     "duration": 0.062368,
     "end_time": "2024-03-04T19:55:05.876901",
     "exception": false,
     "start_time": "2024-03-04T19:55:05.814533",
     "status": "completed"
    },
    "tags": []
   },
   "outputs": [
    {
     "data": {
      "text/html": [
       "<div>\n",
       "<style scoped>\n",
       "    .dataframe tbody tr th:only-of-type {\n",
       "        vertical-align: middle;\n",
       "    }\n",
       "\n",
       "    .dataframe tbody tr th {\n",
       "        vertical-align: top;\n",
       "    }\n",
       "\n",
       "    .dataframe thead tr th {\n",
       "        text-align: left;\n",
       "    }\n",
       "</style>\n",
       "<table border=\"1\" class=\"dataframe\">\n",
       "  <thead>\n",
       "    <tr>\n",
       "      <th></th>\n",
       "      <th>lable</th>\n",
       "      <th colspan=\"4\" halign=\"left\">message</th>\n",
       "    </tr>\n",
       "    <tr>\n",
       "      <th></th>\n",
       "      <th></th>\n",
       "      <th>count</th>\n",
       "      <th>unique</th>\n",
       "      <th>top</th>\n",
       "      <th>freq</th>\n",
       "    </tr>\n",
       "  </thead>\n",
       "  <tbody>\n",
       "    <tr>\n",
       "      <th>0</th>\n",
       "      <td>ham</td>\n",
       "      <td>4825</td>\n",
       "      <td>4516</td>\n",
       "      <td>Sorry, I'll call later</td>\n",
       "      <td>30</td>\n",
       "    </tr>\n",
       "    <tr>\n",
       "      <th>1</th>\n",
       "      <td>spam</td>\n",
       "      <td>747</td>\n",
       "      <td>653</td>\n",
       "      <td>Please call our customer service representativ...</td>\n",
       "      <td>4</td>\n",
       "    </tr>\n",
       "  </tbody>\n",
       "</table>\n",
       "</div>"
      ],
      "text/plain": [
       "  lable message                                                               \n",
       "          count unique                                                top freq\n",
       "0   ham    4825   4516                             Sorry, I'll call later   30\n",
       "1  spam     747    653  Please call our customer service representativ...    4"
      ]
     },
     "execution_count": 8,
     "metadata": {},
     "output_type": "execute_result"
    }
   ],
   "source": [
    "message.groupby('lable').describe().reset_index()"
   ]
  },
  {
   "cell_type": "code",
   "execution_count": 9,
   "id": "54755aab",
   "metadata": {
    "execution": {
     "iopub.execute_input": "2024-03-04T19:55:05.909950Z",
     "iopub.status.busy": "2024-03-04T19:55:05.908616Z",
     "iopub.status.idle": "2024-03-04T19:55:06.215569Z",
     "shell.execute_reply": "2024-03-04T19:55:06.214140Z"
    },
    "papermill": {
     "duration": 0.326607,
     "end_time": "2024-03-04T19:55:06.218561",
     "exception": false,
     "start_time": "2024-03-04T19:55:05.891954",
     "status": "completed"
    },
    "tags": []
   },
   "outputs": [
    {
     "data": {
      "text/plain": [
       "<Axes: xlabel='lable', ylabel='Count'>"
      ]
     },
     "execution_count": 9,
     "metadata": {},
     "output_type": "execute_result"
    },
    {
     "data": {
      "image/png": "[encoded data removed]",
      "text/plain": [
       "<Figure size 640x480 with 1 Axes>"
      ]
     },
     "metadata": {},
     "output_type": "display_data"
    }
   ],
   "source": [
    "sns.histplot(data = message, x= 'lable',hue= message.lable)"
   ]
  },
  {
   "cell_type": "code",
   "execution_count": 10,
   "id": "9255d6b9",
   "metadata": {
    "execution": {
     "iopub.execute_input": "2024-03-04T19:55:06.250487Z",
     "iopub.status.busy": "2024-03-04T19:55:06.250053Z",
     "iopub.status.idle": "2024-03-04T19:55:06.257212Z",
     "shell.execute_reply": "2024-03-04T19:55:06.256300Z"
    },
    "papermill": {
     "duration": 0.026096,
     "end_time": "2024-03-04T19:55:06.259804",
     "exception": false,
     "start_time": "2024-03-04T19:55:06.233708",
     "status": "completed"
    },
    "tags": []
   },
   "outputs": [],
   "source": [
    "message['length'] = message.message.apply(len)"
   ]
  },
  {
   "cell_type": "code",
   "execution_count": 11,
   "id": "6695f9f6",
   "metadata": {
    "execution": {
     "iopub.execute_input": "2024-03-04T19:55:06.292797Z",
     "iopub.status.busy": "2024-03-04T19:55:06.292391Z",
     "iopub.status.idle": "2024-03-04T19:55:06.302764Z",
     "shell.execute_reply": "2024-03-04T19:55:06.301659Z"
    },
    "papermill": {
     "duration": 0.029961,
     "end_time": "2024-03-04T19:55:06.304841",
     "exception": false,
     "start_time": "2024-03-04T19:55:06.274880",
     "status": "completed"
    },
    "tags": []
   },
   "outputs": [
    {
     "data": {
      "text/html": [
       "<div>\n",
       "<style scoped>\n",
       "    .dataframe tbody tr th:only-of-type {\n",
       "        vertical-align: middle;\n",
       "    }\n",
       "\n",
       "    .dataframe tbody tr th {\n",
       "        vertical-align: top;\n",
       "    }\n",
       "\n",
       "    .dataframe thead th {\n",
       "        text-align: right;\n",
       "    }\n",
       "</style>\n",
       "<table border=\"1\" class=\"dataframe\">\n",
       "  <thead>\n",
       "    <tr style=\"text-align: right;\">\n",
       "      <th></th>\n",
       "      <th>lable</th>\n",
       "      <th>message</th>\n",
       "      <th>length</th>\n",
       "    </tr>\n",
       "  </thead>\n",
       "  <tbody>\n",
       "    <tr>\n",
       "      <th>0</th>\n",
       "      <td>ham</td>\n",
       "      <td>Go until jurong point, crazy.. Available only ...</td>\n",
       "      <td>111</td>\n",
       "    </tr>\n",
       "    <tr>\n",
       "      <th>1</th>\n",
       "      <td>ham</td>\n",
       "      <td>Ok lar... Joking wif u oni...</td>\n",
       "      <td>29</td>\n",
       "    </tr>\n",
       "    <tr>\n",
       "      <th>2</th>\n",
       "      <td>spam</td>\n",
       "      <td>Free entry in 2 a wkly comp to win FA Cup fina...</td>\n",
       "      <td>155</td>\n",
       "    </tr>\n",
       "    <tr>\n",
       "      <th>3</th>\n",
       "      <td>ham</td>\n",
       "      <td>U dun say so early hor... U c already then say...</td>\n",
       "      <td>49</td>\n",
       "    </tr>\n",
       "    <tr>\n",
       "      <th>4</th>\n",
       "      <td>ham</td>\n",
       "      <td>Nah I don't think he goes to usf, he lives aro...</td>\n",
       "      <td>61</td>\n",
       "    </tr>\n",
       "  </tbody>\n",
       "</table>\n",
       "</div>"
      ],
      "text/plain": [
       "  lable                                            message  length\n",
       "0   ham  Go until jurong point, crazy.. Available only ...     111\n",
       "1   ham                      Ok lar... Joking wif u oni...      29\n",
       "2  spam  Free entry in 2 a wkly comp to win FA Cup fina...     155\n",
       "3   ham  U dun say so early hor... U c already then say...      49\n",
       "4   ham  Nah I don't think he goes to usf, he lives aro...      61"
      ]
     },
     "execution_count": 11,
     "metadata": {},
     "output_type": "execute_result"
    }
   ],
   "source": [
    "message.head()"
   ]
  },
  {
   "cell_type": "code",
   "execution_count": 12,
   "id": "e2febf44",
   "metadata": {
    "execution": {
     "iopub.execute_input": "2024-03-04T19:55:06.338609Z",
     "iopub.status.busy": "2024-03-04T19:55:06.337526Z",
     "iopub.status.idle": "2024-03-04T19:55:06.648279Z",
     "shell.execute_reply": "2024-03-04T19:55:06.647100Z"
    },
    "papermill": {
     "duration": 0.330156,
     "end_time": "2024-03-04T19:55:06.650680",
     "exception": false,
     "start_time": "2024-03-04T19:55:06.320524",
     "status": "completed"
    },
    "tags": []
   },
   "outputs": [
    {
     "data": {
      "text/plain": [
       "<Axes: xlabel='lable', ylabel='length'>"
      ]
     },
     "execution_count": 12,
     "metadata": {},
     "output_type": "execute_result"
    },
    {
     "data": {
      "image/png": "[encoded data removed]",
      "text/plain": [
       "<Figure size 640x480 with 1 Axes>"
      ]
     },
     "metadata": {},
     "output_type": "display_data"
    }
   ],
   "source": [
    "sns.barplot(data = message, x= 'lable', y = 'length',hue= message.lable)"
   ]
  },
  {
   "cell_type": "markdown",
   "id": "f9260cf5",
   "metadata": {
    "papermill": {
     "duration": 0.015213,
     "end_time": "2024-03-04T19:55:06.681495",
     "exception": false,
     "start_time": "2024-03-04T19:55:06.666282",
     "status": "completed"
    },
    "tags": []
   },
   "source": [
    "#### There is more characters in spam messages"
   ]
  },
  {
   "cell_type": "code",
   "execution_count": 13,
   "id": "ab783600",
   "metadata": {
    "execution": {
     "iopub.execute_input": "2024-03-04T19:55:06.714611Z",
     "iopub.status.busy": "2024-03-04T19:55:06.714173Z",
     "iopub.status.idle": "2024-03-04T19:55:07.020112Z",
     "shell.execute_reply": "2024-03-04T19:55:07.018844Z"
    },
    "papermill": {
     "duration": 0.325521,
     "end_time": "2024-03-04T19:55:07.022844",
     "exception": false,
     "start_time": "2024-03-04T19:55:06.697323",
     "status": "completed"
    },
    "tags": []
   },
   "outputs": [
    {
     "data": {
      "text/plain": [
       "<Axes: ylabel='Frequency'>"
      ]
     },
     "execution_count": 13,
     "metadata": {},
     "output_type": "execute_result"
    },
    {
     "data": {
      "image/png": "[encoded data removed]",
      "text/plain": [
       "<Figure size 640x480 with 1 Axes>"
      ]
     },
     "metadata": {},
     "output_type": "display_data"
    }
   ],
   "source": [
    "message['length'].plot.hist(bins = 50)"
   ]
  },
  {
   "cell_type": "code",
   "execution_count": 14,
   "id": "a0569399",
   "metadata": {
    "execution": {
     "iopub.execute_input": "2024-03-04T19:55:07.059154Z",
     "iopub.status.busy": "2024-03-04T19:55:07.057966Z",
     "iopub.status.idle": "2024-03-04T19:55:07.075571Z",
     "shell.execute_reply": "2024-03-04T19:55:07.074208Z"
    },
    "papermill": {
     "duration": 0.039019,
     "end_time": "2024-03-04T19:55:07.078317",
     "exception": false,
     "start_time": "2024-03-04T19:55:07.039298",
     "status": "completed"
    },
    "tags": []
   },
   "outputs": [
    {
     "data": {
      "text/html": [
       "<div>\n",
       "<style scoped>\n",
       "    .dataframe tbody tr th:only-of-type {\n",
       "        vertical-align: middle;\n",
       "    }\n",
       "\n",
       "    .dataframe tbody tr th {\n",
       "        vertical-align: top;\n",
       "    }\n",
       "\n",
       "    .dataframe thead th {\n",
       "        text-align: right;\n",
       "    }\n",
       "</style>\n",
       "<table border=\"1\" class=\"dataframe\">\n",
       "  <thead>\n",
       "    <tr style=\"text-align: right;\">\n",
       "      <th></th>\n",
       "      <th>length</th>\n",
       "    </tr>\n",
       "  </thead>\n",
       "  <tbody>\n",
       "    <tr>\n",
       "      <th>count</th>\n",
       "      <td>5572.000000</td>\n",
       "    </tr>\n",
       "    <tr>\n",
       "      <th>mean</th>\n",
       "      <td>80.118808</td>\n",
       "    </tr>\n",
       "    <tr>\n",
       "      <th>std</th>\n",
       "      <td>59.690841</td>\n",
       "    </tr>\n",
       "    <tr>\n",
       "      <th>min</th>\n",
       "      <td>2.000000</td>\n",
       "    </tr>\n",
       "    <tr>\n",
       "      <th>25%</th>\n",
       "      <td>36.000000</td>\n",
       "    </tr>\n",
       "    <tr>\n",
       "      <th>50%</th>\n",
       "      <td>61.000000</td>\n",
       "    </tr>\n",
       "    <tr>\n",
       "      <th>75%</th>\n",
       "      <td>121.000000</td>\n",
       "    </tr>\n",
       "    <tr>\n",
       "      <th>max</th>\n",
       "      <td>910.000000</td>\n",
       "    </tr>\n",
       "  </tbody>\n",
       "</table>\n",
       "</div>"
      ],
      "text/plain": [
       "            length\n",
       "count  5572.000000\n",
       "mean     80.118808\n",
       "std      59.690841\n",
       "min       2.000000\n",
       "25%      36.000000\n",
       "50%      61.000000\n",
       "75%     121.000000\n",
       "max     910.000000"
      ]
     },
     "execution_count": 14,
     "metadata": {},
     "output_type": "execute_result"
    }
   ],
   "source": [
    "message.describe()"
   ]
  },
  {
   "cell_type": "code",
   "execution_count": 15,
   "id": "1c8effcd",
   "metadata": {
    "execution": {
     "iopub.execute_input": "2024-03-04T19:55:07.112211Z",
     "iopub.status.busy": "2024-03-04T19:55:07.111836Z",
     "iopub.status.idle": "2024-03-04T19:55:07.119818Z",
     "shell.execute_reply": "2024-03-04T19:55:07.118603Z"
    },
    "papermill": {
     "duration": 0.027793,
     "end_time": "2024-03-04T19:55:07.122030",
     "exception": false,
     "start_time": "2024-03-04T19:55:07.094237",
     "status": "completed"
    },
    "tags": []
   },
   "outputs": [
    {
     "data": {
      "text/plain": [
       "\"For me the love should start with attraction.i should feel that I need her every time around me.she should be the first thing which comes in my thoughts.I would start the day and end it with her.she should be there every time I dream.love will be then when my every breath has her name.my life should happen around her.my life will be named to her.I would cry for her.will give all my happiness and take all her sorrows.I will be ready to fight with anyone for her.I will be in love when I will be doing the craziest things for her.love will be when I don't have to proove anyone that my girl is the most beautiful lady on the whole planet.I will always be singing praises for her.love will be when I start up making chicken curry and end up makiing sambar.life will be the most beautiful then.will get every morning and thank god for the day because she is with me.I would like to say a lot..will tell later..\""
      ]
     },
     "execution_count": 15,
     "metadata": {},
     "output_type": "execute_result"
    }
   ],
   "source": [
    "message[message.length == 910].message.iloc[0]"
   ]
  },
  {
   "cell_type": "code",
   "execution_count": 16,
   "id": "1703d798",
   "metadata": {
    "execution": {
     "iopub.execute_input": "2024-03-04T19:55:07.156470Z",
     "iopub.status.busy": "2024-03-04T19:55:07.156040Z",
     "iopub.status.idle": "2024-03-04T19:55:07.908984Z",
     "shell.execute_reply": "2024-03-04T19:55:07.907535Z"
    },
    "papermill": {
     "duration": 0.773217,
     "end_time": "2024-03-04T19:55:07.911403",
     "exception": false,
     "start_time": "2024-03-04T19:55:07.138186",
     "status": "completed"
    },
    "tags": []
   },
   "outputs": [
    {
     "data": {
      "text/plain": [
       "<seaborn.axisgrid.FacetGrid at 0x7de4f9fe6f50>"
      ]
     },
     "execution_count": 16,
     "metadata": {},
     "output_type": "execute_result"
    },
    {
     "data": {
      "image/png": "[encoded data removed]",
      "text/plain": [
       "<Figure size 600x300 with 2 Axes>"
      ]
     },
     "metadata": {},
     "output_type": "display_data"
    }
   ],
   "source": [
    "sns.FacetGrid(data = message, col = 'lable').map(sns.histplot, 'length', bins = 50)"
   ]
  },
  {
   "cell_type": "markdown",
   "id": "d206d244",
   "metadata": {
    "papermill": {
     "duration": 0.016559,
     "end_time": "2024-03-04T19:55:07.944907",
     "exception": false,
     "start_time": "2024-03-04T19:55:07.928348",
     "status": "completed"
    },
    "tags": []
   },
   "source": [
    "#### Now we remove the stop words and the punctuations"
   ]
  },
  {
   "cell_type": "code",
   "execution_count": 17,
   "id": "adb31e15",
   "metadata": {
    "execution": {
     "iopub.execute_input": "2024-03-04T19:55:07.980294Z",
     "iopub.status.busy": "2024-03-04T19:55:07.979803Z",
     "iopub.status.idle": "2024-03-04T19:55:07.984810Z",
     "shell.execute_reply": "2024-03-04T19:55:07.983663Z"
    },
    "papermill": {
     "duration": 0.025489,
     "end_time": "2024-03-04T19:55:07.987012",
     "exception": false,
     "start_time": "2024-03-04T19:55:07.961523",
     "status": "completed"
    },
    "tags": []
   },
   "outputs": [],
   "source": [
    "import string\n",
    "from nltk.corpus import stopwords"
   ]
  },
  {
   "cell_type": "code",
   "execution_count": 18,
   "id": "948c1261",
   "metadata": {
    "execution": {
     "iopub.execute_input": "2024-03-04T19:55:08.023434Z",
     "iopub.status.busy": "2024-03-04T19:55:08.022197Z",
     "iopub.status.idle": "2024-03-04T19:55:08.029205Z",
     "shell.execute_reply": "2024-03-04T19:55:08.028121Z"
    },
    "papermill": {
     "duration": 0.027264,
     "end_time": "2024-03-04T19:55:08.031536",
     "exception": false,
     "start_time": "2024-03-04T19:55:08.004272",
     "status": "completed"
    },
    "tags": []
   },
   "outputs": [
    {
     "name": "stdout",
     "output_type": "stream",
     "text": [
      "This is a sentance with punctuaions 1 2 3\n"
     ]
    }
   ],
   "source": [
    "def remove_punc(mess):\n",
    "    mess = [c for c in mess if c not in string.punctuation]\n",
    "    mess = ''.join(mess)\n",
    "    return mess\n",
    "\n",
    "mess = 'This is a sentance with, punctuaions: 1.) 2.) 3.)'\n",
    "\n",
    "mod = remove_punc(mess)\n",
    "\n",
    "print(mod)\n"
   ]
  },
  {
   "cell_type": "code",
   "execution_count": 19,
   "id": "51125bca",
   "metadata": {
    "execution": {
     "iopub.execute_input": "2024-03-04T19:55:08.068088Z",
     "iopub.status.busy": "2024-03-04T19:55:08.067099Z",
     "iopub.status.idle": "2024-03-04T19:55:08.073224Z",
     "shell.execute_reply": "2024-03-04T19:55:08.072044Z"
    },
    "papermill": {
     "duration": 0.026936,
     "end_time": "2024-03-04T19:55:08.075662",
     "exception": false,
     "start_time": "2024-03-04T19:55:08.048726",
     "status": "completed"
    },
    "tags": []
   },
   "outputs": [],
   "source": [
    "def remove_stopwords(mess):\n",
    "    lst = mess.split(' ')\n",
    "    mess = [word for word in lst if word not in stopwords.words('english')]\n",
    "    return mess"
   ]
  },
  {
   "cell_type": "markdown",
   "id": "aeb4bd98",
   "metadata": {
    "papermill": {
     "duration": 0.01648,
     "end_time": "2024-03-04T19:55:08.171996",
     "exception": false,
     "start_time": "2024-03-04T19:55:08.155516",
     "status": "completed"
    },
    "tags": []
   },
   "source": [
    "#### Now we make a function to remove the stop words and the punctuation and return the clean set of words"
   ]
  },
  {
   "cell_type": "code",
   "execution_count": 20,
   "id": "745ae780",
   "metadata": {
    "execution": {
     "iopub.execute_input": "2024-03-04T19:55:08.208558Z",
     "iopub.status.busy": "2024-03-04T19:55:08.208112Z",
     "iopub.status.idle": "2024-03-04T19:55:08.214440Z",
     "shell.execute_reply": "2024-03-04T19:55:08.213038Z"
    },
    "papermill": {
     "duration": 0.028023,
     "end_time": "2024-03-04T19:55:08.217093",
     "exception": false,
     "start_time": "2024-03-04T19:55:08.189070",
     "status": "completed"
    },
    "tags": []
   },
   "outputs": [],
   "source": [
    "def text_process(mess):\n",
    "    '''\n",
    "    1. remove punctuation\n",
    "    2. remove stop words\n",
    "    3. return message\n",
    "    '''\n",
    "    nopunc = remove_punc(mess)\n",
    "    nostop = remove_stopwords(mess)\n",
    "    return nostop"
   ]
  },
  {
   "cell_type": "code",
   "execution_count": 21,
   "id": "0144c75e",
   "metadata": {
    "execution": {
     "iopub.execute_input": "2024-03-04T19:55:08.253669Z",
     "iopub.status.busy": "2024-03-04T19:55:08.252484Z",
     "iopub.status.idle": "2024-03-04T19:55:08.297661Z",
     "shell.execute_reply": "2024-03-04T19:55:08.296004Z"
    },
    "papermill": {
     "duration": 0.065817,
     "end_time": "2024-03-04T19:55:08.300278",
     "exception": false,
     "start_time": "2024-03-04T19:55:08.234461",
     "status": "completed"
    },
    "tags": []
   },
   "outputs": [
    {
     "data": {
      "text/plain": [
       "0    [Go, jurong, point,, crazy.., Available, bugis...\n",
       "1                 [Ok, lar..., Joking, wif, u, oni...]\n",
       "2    [Free, entry, 2, wkly, comp, win, FA, Cup, fin...\n",
       "3    [U, dun, say, early, hor..., U, c, already, sa...\n",
       "4    [Nah, I, think, goes, usf,, lives, around, tho...\n",
       "5    [FreeMsg, Hey, darling, 3, week's, word, back!...\n",
       "6    [Even, brother, like, speak, me., They, treat,...\n",
       "7    [As, per, request, 'Melle, Melle, (Oru, Minnam...\n",
       "8    [WINNER!!, As, valued, network, customer, sele...\n",
       "9    [Had, mobile, 11, months, more?, U, R, entitle...\n",
       "Name: message, dtype: object"
      ]
     },
     "execution_count": 21,
     "metadata": {},
     "output_type": "execute_result"
    }
   ],
   "source": [
    "message['message'].head(10).apply(text_process)"
   ]
  },
  {
   "cell_type": "markdown",
   "id": "3bb1e925",
   "metadata": {
    "papermill": {
     "duration": 0.016778,
     "end_time": "2024-03-04T19:55:08.333986",
     "exception": false,
     "start_time": "2024-03-04T19:55:08.317208",
     "status": "completed"
    },
    "tags": []
   },
   "source": [
    "#### Count how many times does a word occur in each message(known as term frequency)\n",
    "#### Weigh the counts so that the frequent tokens get lower weight (inverse document frequency)\n",
    "#### Normalize the vectors to unit lenght, to abstract from the original text length (L2 morm)"
   ]
  },
  {
   "cell_type": "markdown",
   "id": "ecdfa5f6",
   "metadata": {
    "papermill": {
     "duration": 0.016376,
     "end_time": "2024-03-04T19:55:08.367316",
     "exception": false,
     "start_time": "2024-03-04T19:55:08.350940",
     "status": "completed"
    },
    "tags": []
   },
   "source": [
    "#### Now we use a count vectorizer to create a 2-D sparse matrix with the message as columns and the word counts as indexs (number of times a particular word has occoured in the message)"
   ]
  },
  {
   "cell_type": "code",
   "execution_count": 22,
   "id": "fb9e09dc",
   "metadata": {
    "execution": {
     "iopub.execute_input": "2024-03-04T19:55:08.404444Z",
     "iopub.status.busy": "2024-03-04T19:55:08.403225Z",
     "iopub.status.idle": "2024-03-04T19:55:08.410179Z",
     "shell.execute_reply": "2024-03-04T19:55:08.409027Z"
    },
    "papermill": {
     "duration": 0.027985,
     "end_time": "2024-03-04T19:55:08.412292",
     "exception": false,
     "start_time": "2024-03-04T19:55:08.384307",
     "status": "completed"
    },
    "tags": []
   },
   "outputs": [
    {
     "data": {
      "text/plain": [
       "Index(['lable', 'message', 'length'], dtype='object')"
      ]
     },
     "execution_count": 22,
     "metadata": {},
     "output_type": "execute_result"
    }
   ],
   "source": [
    "message.columns"
   ]
  },
  {
   "cell_type": "code",
   "execution_count": 23,
   "id": "7c5dbb68",
   "metadata": {
    "execution": {
     "iopub.execute_input": "2024-03-04T19:55:08.449518Z",
     "iopub.status.busy": "2024-03-04T19:55:08.448443Z",
     "iopub.status.idle": "2024-03-04T19:55:08.460999Z",
     "shell.execute_reply": "2024-03-04T19:55:08.459600Z"
    },
    "papermill": {
     "duration": 0.034129,
     "end_time": "2024-03-04T19:55:08.463685",
     "exception": false,
     "start_time": "2024-03-04T19:55:08.429556",
     "status": "completed"
    },
    "tags": []
   },
   "outputs": [],
   "source": [
    "X = message['message']\n",
    "y = pd.Series(map(lambda x:1 if x=='ham' else 0,message['lable']))\n",
    "\n",
    "X_train, X_test, y_train, y_test = train_test_split(X,y, test_size = 0.33)"
   ]
  },
  {
   "cell_type": "code",
   "execution_count": 24,
   "id": "1b24aff2",
   "metadata": {
    "execution": {
     "iopub.execute_input": "2024-03-04T19:55:08.499311Z",
     "iopub.status.busy": "2024-03-04T19:55:08.498916Z",
     "iopub.status.idle": "2024-03-04T19:55:08.504296Z",
     "shell.execute_reply": "2024-03-04T19:55:08.503058Z"
    },
    "papermill": {
     "duration": 0.026105,
     "end_time": "2024-03-04T19:55:08.506768",
     "exception": false,
     "start_time": "2024-03-04T19:55:08.480663",
     "status": "completed"
    },
    "tags": []
   },
   "outputs": [],
   "source": [
    "from sklearn.feature_extraction.text import CountVectorizer"
   ]
  },
  {
   "cell_type": "code",
   "execution_count": 25,
   "id": "617d44c9",
   "metadata": {
    "execution": {
     "iopub.execute_input": "2024-03-04T19:55:08.544488Z",
     "iopub.status.busy": "2024-03-04T19:55:08.544029Z",
     "iopub.status.idle": "2024-03-04T19:55:15.654876Z",
     "shell.execute_reply": "2024-03-04T19:55:15.653765Z"
    },
    "papermill": {
     "duration": 7.13201,
     "end_time": "2024-03-04T19:55:15.657655",
     "exception": false,
     "start_time": "2024-03-04T19:55:08.525645",
     "status": "completed"
    },
    "tags": []
   },
   "outputs": [],
   "source": [
    "bow_transformer = CountVectorizer(analyzer = text_process).fit(X_train)#fit(message['message'])"
   ]
  },
  {
   "cell_type": "code",
   "execution_count": 26,
   "id": "f75623fa",
   "metadata": {
    "execution": {
     "iopub.execute_input": "2024-03-04T19:55:15.699154Z",
     "iopub.status.busy": "2024-03-04T19:55:15.698684Z",
     "iopub.status.idle": "2024-03-04T19:55:15.705113Z",
     "shell.execute_reply": "2024-03-04T19:55:15.703887Z"
    },
    "papermill": {
     "duration": 0.032694,
     "end_time": "2024-03-04T19:55:15.709152",
     "exception": false,
     "start_time": "2024-03-04T19:55:15.676458",
     "status": "completed"
    },
    "tags": []
   },
   "outputs": [
    {
     "name": "stdout",
     "output_type": "stream",
     "text": [
      "12088\n"
     ]
    }
   ],
   "source": [
    "print(len(bow_transformer.vocabulary_))"
   ]
  },
  {
   "cell_type": "markdown",
   "id": "74295170",
   "metadata": {
    "papermill": {
     "duration": 0.021479,
     "end_time": "2024-03-04T19:55:15.754089",
     "exception": false,
     "start_time": "2024-03-04T19:55:15.732610",
     "status": "completed"
    },
    "tags": []
   },
   "source": [
    "#### number of unique and useful words is given above"
   ]
  },
  {
   "cell_type": "code",
   "execution_count": 27,
   "id": "8f38d7a7",
   "metadata": {
    "execution": {
     "iopub.execute_input": "2024-03-04T19:55:15.793123Z",
     "iopub.status.busy": "2024-03-04T19:55:15.792335Z",
     "iopub.status.idle": "2024-03-04T19:55:15.799312Z",
     "shell.execute_reply": "2024-03-04T19:55:15.798238Z"
    },
    "papermill": {
     "duration": 0.027838,
     "end_time": "2024-03-04T19:55:15.801508",
     "exception": false,
     "start_time": "2024-03-04T19:55:15.773670",
     "status": "completed"
    },
    "tags": []
   },
   "outputs": [
    {
     "data": {
      "text/plain": [
       "\"Nah I don't think he goes to usf, he lives around here though\""
      ]
     },
     "execution_count": 27,
     "metadata": {},
     "output_type": "execute_result"
    }
   ],
   "source": [
    "message['message'][4]"
   ]
  },
  {
   "cell_type": "code",
   "execution_count": 28,
   "id": "6caf6b8f",
   "metadata": {
    "execution": {
     "iopub.execute_input": "2024-03-04T19:55:15.838084Z",
     "iopub.status.busy": "2024-03-04T19:55:15.837411Z",
     "iopub.status.idle": "2024-03-04T19:55:15.846282Z",
     "shell.execute_reply": "2024-03-04T19:55:15.844819Z"
    },
    "papermill": {
     "duration": 0.030063,
     "end_time": "2024-03-04T19:55:15.848641",
     "exception": false,
     "start_time": "2024-03-04T19:55:15.818578",
     "status": "completed"
    },
    "tags": []
   },
   "outputs": [
    {
     "name": "stdout",
     "output_type": "stream",
     "text": [
      "  (0, 2325)\t1\n",
      "  (0, 2958)\t1\n",
      "  (0, 4849)\t1\n",
      "  (0, 7073)\t1\n",
      "  (0, 8134)\t1\n",
      "  (0, 10973)\t1\n",
      "  (0, 10995)\t1\n",
      "  (0, 11394)\t1\n"
     ]
    }
   ],
   "source": [
    "bow5 = bow_transformer.transform([message['message'][4]])\n",
    "print(bow5)"
   ]
  },
  {
   "cell_type": "code",
   "execution_count": 29,
   "id": "33f24995",
   "metadata": {
    "execution": {
     "iopub.execute_input": "2024-03-04T19:55:15.886121Z",
     "iopub.status.busy": "2024-03-04T19:55:15.885447Z",
     "iopub.status.idle": "2024-03-04T19:55:15.891935Z",
     "shell.execute_reply": "2024-03-04T19:55:15.890890Z"
    },
    "papermill": {
     "duration": 0.027407,
     "end_time": "2024-03-04T19:55:15.893936",
     "exception": false,
     "start_time": "2024-03-04T19:55:15.866529",
     "status": "completed"
    },
    "tags": []
   },
   "outputs": [
    {
     "data": {
      "text/plain": [
       "8"
      ]
     },
     "execution_count": 29,
     "metadata": {},
     "output_type": "execute_result"
    }
   ],
   "source": [
    "bow5.nnz"
   ]
  },
  {
   "cell_type": "markdown",
   "id": "9a5416d1",
   "metadata": {
    "papermill": {
     "duration": 0.017596,
     "end_time": "2024-03-04T19:55:15.929000",
     "exception": false,
     "start_time": "2024-03-04T19:55:15.911404",
     "status": "completed"
    },
    "tags": []
   },
   "source": [
    "#### number of unique words with the stop words removed"
   ]
  },
  {
   "cell_type": "code",
   "execution_count": 30,
   "id": "d0f03bae",
   "metadata": {
    "execution": {
     "iopub.execute_input": "2024-03-04T19:55:15.966543Z",
     "iopub.status.busy": "2024-03-04T19:55:15.965853Z",
     "iopub.status.idle": "2024-03-04T19:55:15.981013Z",
     "shell.execute_reply": "2024-03-04T19:55:15.979802Z"
    },
    "papermill": {
     "duration": 0.036412,
     "end_time": "2024-03-04T19:55:15.983390",
     "exception": false,
     "start_time": "2024-03-04T19:55:15.946978",
     "status": "completed"
    },
    "tags": []
   },
   "outputs": [
    {
     "data": {
      "text/plain": [
       "'sashimi...'"
      ]
     },
     "execution_count": 30,
     "metadata": {},
     "output_type": "execute_result"
    }
   ],
   "source": [
    "bow_transformer.get_feature_names_out()[10000]"
   ]
  },
  {
   "cell_type": "code",
   "execution_count": 31,
   "id": "dbe82ad0",
   "metadata": {
    "execution": {
     "iopub.execute_input": "2024-03-04T19:55:16.020041Z",
     "iopub.status.busy": "2024-03-04T19:55:16.019348Z",
     "iopub.status.idle": "2024-03-04T19:55:23.285608Z",
     "shell.execute_reply": "2024-03-04T19:55:23.284418Z"
    },
    "papermill": {
     "duration": 7.287749,
     "end_time": "2024-03-04T19:55:23.288437",
     "exception": false,
     "start_time": "2024-03-04T19:55:16.000688",
     "status": "completed"
    },
    "tags": []
   },
   "outputs": [],
   "source": [
    "message_bow = bow_transformer.transform(X_train)"
   ]
  },
  {
   "cell_type": "code",
   "execution_count": 32,
   "id": "a1f2da72",
   "metadata": {
    "execution": {
     "iopub.execute_input": "2024-03-04T19:55:23.326072Z",
     "iopub.status.busy": "2024-03-04T19:55:23.325266Z",
     "iopub.status.idle": "2024-03-04T19:55:23.332156Z",
     "shell.execute_reply": "2024-03-04T19:55:23.330922Z"
    },
    "papermill": {
     "duration": 0.028377,
     "end_time": "2024-03-04T19:55:23.334445",
     "exception": false,
     "start_time": "2024-03-04T19:55:23.306068",
     "status": "completed"
    },
    "tags": []
   },
   "outputs": [
    {
     "data": {
      "text/plain": [
       "39621"
      ]
     },
     "execution_count": 32,
     "metadata": {},
     "output_type": "execute_result"
    }
   ],
   "source": [
    "message_bow.nnz"
   ]
  },
  {
   "cell_type": "markdown",
   "id": "5eb35875",
   "metadata": {
    "papermill": {
     "duration": 0.017238,
     "end_time": "2024-03-04T19:55:23.369183",
     "exception": false,
     "start_time": "2024-03-04T19:55:23.351945",
     "status": "completed"
    },
    "tags": []
   },
   "source": [
    "#### The number of non zero elemnts in the sparse matrix is given above"
   ]
  },
  {
   "cell_type": "code",
   "execution_count": 33,
   "id": "608d3d42",
   "metadata": {
    "execution": {
     "iopub.execute_input": "2024-03-04T19:55:23.408388Z",
     "iopub.status.busy": "2024-03-04T19:55:23.407582Z",
     "iopub.status.idle": "2024-03-04T19:55:23.414047Z",
     "shell.execute_reply": "2024-03-04T19:55:23.412905Z"
    },
    "papermill": {
     "duration": 0.028368,
     "end_time": "2024-03-04T19:55:23.416244",
     "exception": false,
     "start_time": "2024-03-04T19:55:23.387876",
     "status": "completed"
    },
    "tags": []
   },
   "outputs": [
    {
     "name": "stdout",
     "output_type": "stream",
     "text": [
      "Shape of the Sparse Matrix:  (3733, 12088)\n"
     ]
    }
   ],
   "source": [
    "print('Shape of the Sparse Matrix: ', message_bow.shape)"
   ]
  },
  {
   "cell_type": "markdown",
   "id": "2adf9367",
   "metadata": {
    "papermill": {
     "duration": 0.017559,
     "end_time": "2024-03-04T19:55:23.451537",
     "exception": false,
     "start_time": "2024-03-04T19:55:23.433978",
     "status": "completed"
    },
    "tags": []
   },
   "source": [
    "#### We now take the sparse matrix and assign the TF-IDF numbers to the corresponding words. The greater the number the lesser will be the score of the corresponding word (feature in the sparse matrix)"
   ]
  },
  {
   "cell_type": "code",
   "execution_count": 34,
   "id": "e7c99aab",
   "metadata": {
    "execution": {
     "iopub.execute_input": "2024-03-04T19:55:23.488992Z",
     "iopub.status.busy": "2024-03-04T19:55:23.488166Z",
     "iopub.status.idle": "2024-03-04T19:55:23.493189Z",
     "shell.execute_reply": "2024-03-04T19:55:23.492446Z"
    },
    "papermill": {
     "duration": 0.026388,
     "end_time": "2024-03-04T19:55:23.495503",
     "exception": false,
     "start_time": "2024-03-04T19:55:23.469115",
     "status": "completed"
    },
    "tags": []
   },
   "outputs": [],
   "source": [
    "from sklearn.feature_extraction.text import TfidfTransformer"
   ]
  },
  {
   "cell_type": "code",
   "execution_count": 35,
   "id": "ebcc126d",
   "metadata": {
    "execution": {
     "iopub.execute_input": "2024-03-04T19:55:23.532441Z",
     "iopub.status.busy": "2024-03-04T19:55:23.532003Z",
     "iopub.status.idle": "2024-03-04T19:55:23.539163Z",
     "shell.execute_reply": "2024-03-04T19:55:23.538246Z"
    },
    "papermill": {
     "duration": 0.028467,
     "end_time": "2024-03-04T19:55:23.541459",
     "exception": false,
     "start_time": "2024-03-04T19:55:23.512992",
     "status": "completed"
    },
    "tags": []
   },
   "outputs": [],
   "source": [
    "tfidf_transformer = TfidfTransformer().fit(message_bow)"
   ]
  },
  {
   "cell_type": "code",
   "execution_count": 36,
   "id": "4898a183",
   "metadata": {
    "execution": {
     "iopub.execute_input": "2024-03-04T19:55:23.579084Z",
     "iopub.status.busy": "2024-03-04T19:55:23.578274Z",
     "iopub.status.idle": "2024-03-04T19:55:23.590286Z",
     "shell.execute_reply": "2024-03-04T19:55:23.589372Z"
    },
    "papermill": {
     "duration": 0.033591,
     "end_time": "2024-03-04T19:55:23.592866",
     "exception": false,
     "start_time": "2024-03-04T19:55:23.559275",
     "status": "completed"
    },
    "tags": []
   },
   "outputs": [],
   "source": [
    "tfidf5 = tfidf_transformer.transform(bow5)"
   ]
  },
  {
   "cell_type": "code",
   "execution_count": 37,
   "id": "afb2a89e",
   "metadata": {
    "execution": {
     "iopub.execute_input": "2024-03-04T19:55:23.631369Z",
     "iopub.status.busy": "2024-03-04T19:55:23.630593Z",
     "iopub.status.idle": "2024-03-04T19:55:23.637136Z",
     "shell.execute_reply": "2024-03-04T19:55:23.635728Z"
    },
    "papermill": {
     "duration": 0.028442,
     "end_time": "2024-03-04T19:55:23.639606",
     "exception": false,
     "start_time": "2024-03-04T19:55:23.611164",
     "status": "completed"
    },
    "tags": []
   },
   "outputs": [
    {
     "name": "stdout",
     "output_type": "stream",
     "text": [
      "  (0, 11394)\t0.4513513217842967\n",
      "  (0, 10995)\t0.3780157230718993\n",
      "  (0, 10973)\t0.26105187616541176\n",
      "  (0, 8134)\t0.4513513217842967\n",
      "  (0, 7073)\t0.3447620406741026\n",
      "  (0, 4849)\t0.29844934850101335\n",
      "  (0, 2958)\t0.3932342348207544\n",
      "  (0, 2325)\t0.1376733741962067\n"
     ]
    }
   ],
   "source": [
    "print(tfidf5)"
   ]
  },
  {
   "cell_type": "code",
   "execution_count": 38,
   "id": "b1859e81",
   "metadata": {
    "execution": {
     "iopub.execute_input": "2024-03-04T19:55:23.679727Z",
     "iopub.status.busy": "2024-03-04T19:55:23.678386Z",
     "iopub.status.idle": "2024-03-04T19:55:23.685981Z",
     "shell.execute_reply": "2024-03-04T19:55:23.685025Z"
    },
    "papermill": {
     "duration": 0.030921,
     "end_time": "2024-03-04T19:55:23.688410",
     "exception": false,
     "start_time": "2024-03-04T19:55:23.657489",
     "status": "completed"
    },
    "tags": []
   },
   "outputs": [
    {
     "data": {
      "text/plain": [
       "8.532088143541722"
      ]
     },
     "execution_count": 38,
     "metadata": {},
     "output_type": "execute_result"
    }
   ],
   "source": [
    "tfidf_transformer.idf_[bow_transformer.vocabulary_['University']]"
   ]
  },
  {
   "cell_type": "code",
   "execution_count": 39,
   "id": "c8eff1fd",
   "metadata": {
    "execution": {
     "iopub.execute_input": "2024-03-04T19:55:23.727259Z",
     "iopub.status.busy": "2024-03-04T19:55:23.726249Z",
     "iopub.status.idle": "2024-03-04T19:55:23.733329Z",
     "shell.execute_reply": "2024-03-04T19:55:23.732379Z"
    },
    "papermill": {
     "duration": 0.028772,
     "end_time": "2024-03-04T19:55:23.735568",
     "exception": false,
     "start_time": "2024-03-04T19:55:23.706796",
     "status": "completed"
    },
    "tags": []
   },
   "outputs": [
    {
     "data": {
      "text/plain": [
       "4059"
      ]
     },
     "execution_count": 39,
     "metadata": {},
     "output_type": "execute_result"
    }
   ],
   "source": [
    "bow_transformer.vocabulary_['University']"
   ]
  },
  {
   "cell_type": "code",
   "execution_count": 40,
   "id": "bfff0a0a",
   "metadata": {
    "execution": {
     "iopub.execute_input": "2024-03-04T19:55:23.774496Z",
     "iopub.status.busy": "2024-03-04T19:55:23.773723Z",
     "iopub.status.idle": "2024-03-04T19:55:23.780490Z",
     "shell.execute_reply": "2024-03-04T19:55:23.779401Z"
    },
    "papermill": {
     "duration": 0.028605,
     "end_time": "2024-03-04T19:55:23.782567",
     "exception": false,
     "start_time": "2024-03-04T19:55:23.753962",
     "status": "completed"
    },
    "tags": []
   },
   "outputs": [
    {
     "data": {
      "text/plain": [
       "8.126623035433559"
      ]
     },
     "execution_count": 40,
     "metadata": {},
     "output_type": "execute_result"
    }
   ],
   "source": [
    "tfidf_transformer.idf_[bow_transformer.vocabulary_['Find']]"
   ]
  },
  {
   "cell_type": "code",
   "execution_count": 41,
   "id": "28deb440",
   "metadata": {
    "execution": {
     "iopub.execute_input": "2024-03-04T19:55:23.820757Z",
     "iopub.status.busy": "2024-03-04T19:55:23.820292Z",
     "iopub.status.idle": "2024-03-04T19:55:23.827067Z",
     "shell.execute_reply": "2024-03-04T19:55:23.825919Z"
    },
    "papermill": {
     "duration": 0.028784,
     "end_time": "2024-03-04T19:55:23.829379",
     "exception": false,
     "start_time": "2024-03-04T19:55:23.800595",
     "status": "completed"
    },
    "tags": []
   },
   "outputs": [
    {
     "data": {
      "text/plain": [
       "1942"
      ]
     },
     "execution_count": 41,
     "metadata": {},
     "output_type": "execute_result"
    }
   ],
   "source": [
    "bow_transformer.vocabulary_['Find']"
   ]
  },
  {
   "cell_type": "code",
   "execution_count": 42,
   "id": "cbb17a22",
   "metadata": {
    "execution": {
     "iopub.execute_input": "2024-03-04T19:55:23.868273Z",
     "iopub.status.busy": "2024-03-04T19:55:23.867828Z",
     "iopub.status.idle": "2024-03-04T19:55:23.876289Z",
     "shell.execute_reply": "2024-03-04T19:55:23.875186Z"
    },
    "papermill": {
     "duration": 0.030414,
     "end_time": "2024-03-04T19:55:23.878473",
     "exception": false,
     "start_time": "2024-03-04T19:55:23.848059",
     "status": "completed"
    },
    "tags": []
   },
   "outputs": [
    {
     "data": {
      "text/plain": [
       "6.089741108172518"
      ]
     },
     "execution_count": 42,
     "metadata": {},
     "output_type": "execute_result"
    }
   ],
   "source": [
    "tfidf_transformer.idf_[bow_transformer.vocabulary_['Free']]"
   ]
  },
  {
   "cell_type": "code",
   "execution_count": 43,
   "id": "9a12cd8a",
   "metadata": {
    "execution": {
     "iopub.execute_input": "2024-03-04T19:55:23.920442Z",
     "iopub.status.busy": "2024-03-04T19:55:23.919215Z",
     "iopub.status.idle": "2024-03-04T19:55:23.926099Z",
     "shell.execute_reply": "2024-03-04T19:55:23.924944Z"
    },
    "papermill": {
     "duration": 0.030086,
     "end_time": "2024-03-04T19:55:23.928227",
     "exception": false,
     "start_time": "2024-03-04T19:55:23.898141",
     "status": "completed"
    },
    "tags": []
   },
   "outputs": [
    {
     "data": {
      "text/plain": [
       "1965"
      ]
     },
     "execution_count": 43,
     "metadata": {},
     "output_type": "execute_result"
    }
   ],
   "source": [
    "bow_transformer.vocabulary_['Free']"
   ]
  },
  {
   "cell_type": "code",
   "execution_count": 44,
   "id": "572de932",
   "metadata": {
    "execution": {
     "iopub.execute_input": "2024-03-04T19:55:23.967086Z",
     "iopub.status.busy": "2024-03-04T19:55:23.966417Z",
     "iopub.status.idle": "2024-03-04T19:55:23.975741Z",
     "shell.execute_reply": "2024-03-04T19:55:23.974513Z"
    },
    "papermill": {
     "duration": 0.031584,
     "end_time": "2024-03-04T19:55:23.978102",
     "exception": false,
     "start_time": "2024-03-04T19:55:23.946518",
     "status": "completed"
    },
    "tags": []
   },
   "outputs": [],
   "source": [
    "messages_tfidf = tfidf_transformer.transform(message_bow)"
   ]
  },
  {
   "cell_type": "markdown",
   "id": "e8143455",
   "metadata": {
    "papermill": {
     "duration": 0.018587,
     "end_time": "2024-03-04T19:55:24.014906",
     "exception": false,
     "start_time": "2024-03-04T19:55:23.996319",
     "status": "completed"
    },
    "tags": []
   },
   "source": [
    "#### for each of the non-zero elements in the sparse matrix we now have a corresponding numberthat represents the weight of that word with respect to the entire corpus of words. The non zero elemenst correspond to the occourances of the unique woords for each message"
   ]
  },
  {
   "cell_type": "code",
   "execution_count": 45,
   "id": "0e3d23eb",
   "metadata": {
    "execution": {
     "iopub.execute_input": "2024-03-04T19:55:24.054337Z",
     "iopub.status.busy": "2024-03-04T19:55:24.053884Z",
     "iopub.status.idle": "2024-03-04T19:55:24.059635Z",
     "shell.execute_reply": "2024-03-04T19:55:24.058537Z"
    },
    "papermill": {
     "duration": 0.028699,
     "end_time": "2024-03-04T19:55:24.062153",
     "exception": false,
     "start_time": "2024-03-04T19:55:24.033454",
     "status": "completed"
    },
    "tags": []
   },
   "outputs": [
    {
     "name": "stdout",
     "output_type": "stream",
     "text": [
      "  (0, 9788)\t0.16820296468839976\n",
      "  (0, 9496)\t0.2119338196008167\n",
      "  (0, 9092)\t0.243335865421394\n",
      "  (0, 8510)\t0.2648524924558953\n",
      "  (0, 5701)\t0.20444768364451033\n",
      "  (0, 4943)\t0.19337580460277243\n",
      "  (0, 4391)\t0.12482670236561326\n",
      "  (0, 3719)\t0.2119338196008167\n",
      "  (0, 3512)\t0.2648524924558953\n",
      "  (0, 3495)\t0.2648524924558953\n",
      "  (0, 3233)\t0.2648524924558953\n",
      "  (0, 3126)\t0.2648524924558953\n",
      "  (0, 1969)\t0.2648524924558953\n",
      "  (0, 1898)\t0.16254335148083238\n",
      "  (0, 1641)\t0.2648524924558953\n",
      "  (0, 1423)\t0.2648524924558953\n",
      "  (0, 879)\t0.2648524924558953\n",
      "  (0, 90)\t0.2648524924558953\n"
     ]
    }
   ],
   "source": [
    "print(messages_tfidf[5])"
   ]
  },
  {
   "cell_type": "markdown",
   "id": "54467b35",
   "metadata": {
    "papermill": {
     "duration": 0.01913,
     "end_time": "2024-03-04T19:55:24.099999",
     "exception": false,
     "start_time": "2024-03-04T19:55:24.080869",
     "status": "completed"
    },
    "tags": []
   },
   "source": [
    "#### Now we can user Classifers to classify spam vs ham from the vector set"
   ]
  },
  {
   "cell_type": "code",
   "execution_count": 46,
   "id": "62887f59",
   "metadata": {
    "execution": {
     "iopub.execute_input": "2024-03-04T19:55:24.138279Z",
     "iopub.status.busy": "2024-03-04T19:55:24.137902Z",
     "iopub.status.idle": "2024-03-04T19:55:24.146709Z",
     "shell.execute_reply": "2024-03-04T19:55:24.145518Z"
    },
    "papermill": {
     "duration": 0.030952,
     "end_time": "2024-03-04T19:55:24.149216",
     "exception": false,
     "start_time": "2024-03-04T19:55:24.118264",
     "status": "completed"
    },
    "tags": []
   },
   "outputs": [],
   "source": [
    "from sklearn.naive_bayes import MultinomialNB\n",
    "from sklearn.metrics import roc_auc_score\n",
    "from sklearn.metrics import classification_report, confusion_matrix\n",
    "from sklearn.pipeline import Pipeline"
   ]
  },
  {
   "cell_type": "code",
   "execution_count": 47,
   "id": "517ca7a0",
   "metadata": {
    "execution": {
     "iopub.execute_input": "2024-03-04T19:55:24.188687Z",
     "iopub.status.busy": "2024-03-04T19:55:24.187873Z",
     "iopub.status.idle": "2024-03-04T19:55:24.194262Z",
     "shell.execute_reply": "2024-03-04T19:55:24.193170Z"
    },
    "papermill": {
     "duration": 0.028585,
     "end_time": "2024-03-04T19:55:24.196603",
     "exception": false,
     "start_time": "2024-03-04T19:55:24.168018",
     "status": "completed"
    },
    "tags": []
   },
   "outputs": [
    {
     "data": {
      "text/plain": [
       "(3733,)"
      ]
     },
     "execution_count": 47,
     "metadata": {},
     "output_type": "execute_result"
    }
   ],
   "source": [
    "y_train.shape"
   ]
  },
  {
   "cell_type": "code",
   "execution_count": 48,
   "id": "b1c7aa97",
   "metadata": {
    "execution": {
     "iopub.execute_input": "2024-03-04T19:55:24.236125Z",
     "iopub.status.busy": "2024-03-04T19:55:24.235328Z",
     "iopub.status.idle": "2024-03-04T19:55:24.242724Z",
     "shell.execute_reply": "2024-03-04T19:55:24.241699Z"
    },
    "papermill": {
     "duration": 0.029792,
     "end_time": "2024-03-04T19:55:24.244866",
     "exception": false,
     "start_time": "2024-03-04T19:55:24.215074",
     "status": "completed"
    },
    "tags": []
   },
   "outputs": [
    {
     "data": {
      "text/plain": [
       "(3733, 12088)"
      ]
     },
     "execution_count": 48,
     "metadata": {},
     "output_type": "execute_result"
    }
   ],
   "source": [
    "messages_tfidf.shape"
   ]
  },
  {
   "cell_type": "code",
   "execution_count": 49,
   "id": "9b234836",
   "metadata": {
    "execution": {
     "iopub.execute_input": "2024-03-04T19:55:24.285199Z",
     "iopub.status.busy": "2024-03-04T19:55:24.284057Z",
     "iopub.status.idle": "2024-03-04T19:55:24.294061Z",
     "shell.execute_reply": "2024-03-04T19:55:24.292817Z"
    },
    "papermill": {
     "duration": 0.033072,
     "end_time": "2024-03-04T19:55:24.296703",
     "exception": false,
     "start_time": "2024-03-04T19:55:24.263631",
     "status": "completed"
    },
    "tags": []
   },
   "outputs": [],
   "source": [
    "ham_detection = MultinomialNB().fit(messages_tfidf, y_train)"
   ]
  },
  {
   "cell_type": "code",
   "execution_count": 50,
   "id": "9f54a3ce",
   "metadata": {
    "execution": {
     "iopub.execute_input": "2024-03-04T19:55:24.336620Z",
     "iopub.status.busy": "2024-03-04T19:55:24.336186Z",
     "iopub.status.idle": "2024-03-04T19:55:24.343321Z",
     "shell.execute_reply": "2024-03-04T19:55:24.342564Z"
    },
    "papermill": {
     "duration": 0.029428,
     "end_time": "2024-03-04T19:55:24.345429",
     "exception": false,
     "start_time": "2024-03-04T19:55:24.316001",
     "status": "completed"
    },
    "tags": []
   },
   "outputs": [
    {
     "data": {
      "text/plain": [
       "array([1])"
      ]
     },
     "execution_count": 50,
     "metadata": {},
     "output_type": "execute_result"
    }
   ],
   "source": [
    "ham_detection.predict(messages_tfidf[50])"
   ]
  },
  {
   "cell_type": "markdown",
   "id": "9a8d9eb2",
   "metadata": {
    "papermill": {
     "duration": 0.018558,
     "end_time": "2024-03-04T19:55:24.382632",
     "exception": false,
     "start_time": "2024-03-04T19:55:24.364074",
     "status": "completed"
    },
    "tags": []
   },
   "source": [
    "#### Now we make a pipeline to manage the workflow of the entire process as we would need to do the same process for the test set as well "
   ]
  },
  {
   "cell_type": "code",
   "execution_count": 51,
   "id": "6258a00d",
   "metadata": {
    "execution": {
     "iopub.execute_input": "2024-03-04T19:55:24.421869Z",
     "iopub.status.busy": "2024-03-04T19:55:24.421470Z",
     "iopub.status.idle": "2024-03-04T19:55:24.426323Z",
     "shell.execute_reply": "2024-03-04T19:55:24.425413Z"
    },
    "papermill": {
     "duration": 0.026867,
     "end_time": "2024-03-04T19:55:24.428267",
     "exception": false,
     "start_time": "2024-03-04T19:55:24.401400",
     "status": "completed"
    },
    "tags": []
   },
   "outputs": [],
   "source": [
    "pipeline = Pipeline([\n",
    "    ('bow',CountVectorizer(analyzer = text_process)),\n",
    "    ('tfidf',TfidfTransformer()),\n",
    "    ('classifier', MultinomialNB())\n",
    "], verbose=True)"
   ]
  },
  {
   "cell_type": "code",
   "execution_count": 52,
   "id": "bfe87d8e",
   "metadata": {
    "execution": {
     "iopub.execute_input": "2024-03-04T19:55:24.467679Z",
     "iopub.status.busy": "2024-03-04T19:55:24.467278Z",
     "iopub.status.idle": "2024-03-04T19:55:31.584089Z",
     "shell.execute_reply": "2024-03-04T19:55:31.582910Z"
    },
    "papermill": {
     "duration": 7.139177,
     "end_time": "2024-03-04T19:55:31.586430",
     "exception": false,
     "start_time": "2024-03-04T19:55:24.447253",
     "status": "completed"
    },
    "tags": []
   },
   "outputs": [
    {
     "name": "stdout",
     "output_type": "stream",
     "text": [
      "[Pipeline] ............... (step 1 of 3) Processing bow, total=   7.1s\n",
      "[Pipeline] ............. (step 2 of 3) Processing tfidf, total=   0.0s\n",
      "[Pipeline] ........ (step 3 of 3) Processing classifier, total=   0.0s\n"
     ]
    },
    {
     "data": {
      "text/html": [
       "<style>#sk-container-id-1 {color: black;background-color: white;}#sk-container-id-1 pre{padding: 0;}#sk-container-id-1 div.sk-toggleable {background-color: white;}#sk-container-id-1 label.sk-toggleable__label {cursor: pointer;display: block;width: 100%;margin-bottom: 0;padding: 0.3em;box-sizing: border-box;text-align: center;}#sk-container-id-1 label.sk-toggleable__label-arrow:before {content: \"▸\";float: left;margin-right: 0.25em;color: #696969;}#sk-container-id-1 label.sk-toggleable__label-arrow:hover:before {color: black;}#sk-container-id-1 div.sk-estimator:hover label.sk-toggleable__label-arrow:before {color: black;}#sk-container-id-1 div.sk-toggleable__content {max-height: 0;max-width: 0;overflow: hidden;text-align: left;background-color: #f0f8ff;}#sk-container-id-1 div.sk-toggleable__content pre {margin: 0.2em;color: black;border-radius: 0.25em;background-color: #f0f8ff;}#sk-container-id-1 input.sk-toggleable__control:checked~div.sk-toggleable__content {max-height: 200px;max-width: 100%;overflow: auto;}#sk-container-id-1 input.sk-toggleable__control:checked~label.sk-toggleable__label-arrow:before {content: \"▾\";}#sk-container-id-1 div.sk-estimator input.sk-toggleable__control:checked~label.sk-toggleable__label {background-color: #d4ebff;}#sk-container-id-1 div.sk-label input.sk-toggleable__control:checked~label.sk-toggleable__label {background-color: #d4ebff;}#sk-container-id-1 input.sk-hidden--visually {border: 0;clip: rect(1px 1px 1px 1px);clip: rect(1px, 1px, 1px, 1px);height: 1px;margin: -1px;overflow: hidden;padding: 0;position: absolute;width: 1px;}#sk-container-id-1 div.sk-estimator {font-family: monospace;background-color: #f0f8ff;border: 1px dotted black;border-radius: 0.25em;box-sizing: border-box;margin-bottom: 0.5em;}#sk-container-id-1 div.sk-estimator:hover {background-color: #d4ebff;}#sk-container-id-1 div.sk-parallel-item::after {content: \"\";width: 100%;border-bottom: 1px solid gray;flex-grow: 1;}#sk-container-id-1 div.sk-label:hover label.sk-toggleable__label {background-color: #d4ebff;}#sk-container-id-1 div.sk-serial::before {content: \"\";position: absolute;border-left: 1px solid gray;box-sizing: border-box;top: 0;bottom: 0;left: 50%;z-index: 0;}#sk-container-id-1 div.sk-serial {display: flex;flex-direction: column;align-items: center;background-color: white;padding-right: 0.2em;padding-left: 0.2em;position: relative;}#sk-container-id-1 div.sk-item {position: relative;z-index: 1;}#sk-container-id-1 div.sk-parallel {display: flex;align-items: stretch;justify-content: center;background-color: white;position: relative;}#sk-container-id-1 div.sk-item::before, #sk-container-id-1 div.sk-parallel-item::before {content: \"\";position: absolute;border-left: 1px solid gray;box-sizing: border-box;top: 0;bottom: 0;left: 50%;z-index: -1;}#sk-container-id-1 div.sk-parallel-item {display: flex;flex-direction: column;z-index: 1;position: relative;background-color: white;}#sk-container-id-1 div.sk-parallel-item:first-child::after {align-self: flex-end;width: 50%;}#sk-container-id-1 div.sk-parallel-item:last-child::after {align-self: flex-start;width: 50%;}#sk-container-id-1 div.sk-parallel-item:only-child::after {width: 0;}#sk-container-id-1 div.sk-dashed-wrapped {border: 1px dashed gray;margin: 0 0.4em 0.5em 0.4em;box-sizing: border-box;padding-bottom: 0.4em;background-color: white;}#sk-container-id-1 div.sk-label label {font-family: monospace;font-weight: bold;display: inline-block;line-height: 1.2em;}#sk-container-id-1 div.sk-label-container {text-align: center;}#sk-container-id-1 div.sk-container {/* jupyter's `normalize.less` sets `[hidden] { display: none; }` but bootstrap.min.css set `[hidden] { display: none !important; }` so we also need the `!important` here to be able to override the default hidden behavior on the sphinx rendered scikit-learn.org. See: https://github.com/scikit-learn/scikit-learn/issues/21755 */display: inline-block !important;position: relative;}#sk-container-id-1 div.sk-text-repr-fallback {display: none;}</style><div id=\"sk-container-id-1\" class=\"sk-top-container\"><div class=\"sk-text-repr-fallback\"><pre>Pipeline(steps=[(&#x27;bow&#x27;,\n",
       "                 CountVectorizer(analyzer=&lt;function text_process at 0x7de4d9409120&gt;)),\n",
       "                (&#x27;tfidf&#x27;, TfidfTransformer()),\n",
       "                (&#x27;classifier&#x27;, MultinomialNB())],\n",
       "         verbose=True)</pre><b>In a Jupyter environment, please rerun this cell to show the HTML representation or trust the notebook. <br />On GitHub, the HTML representation is unable to render, please try loading this page with nbviewer.org.</b></div><div class=\"sk-container\" hidden><div class=\"sk-item sk-dashed-wrapped\"><div class=\"sk-label-container\"><div class=\"sk-label sk-toggleable\"><input class=\"sk-toggleable__control sk-hidden--visually\" id=\"sk-estimator-id-1\" type=\"checkbox\" ><label for=\"sk-estimator-id-1\" class=\"sk-toggleable__label sk-toggleable__label-arrow\">Pipeline</label><div class=\"sk-toggleable__content\"><pre>Pipeline(steps=[(&#x27;bow&#x27;,\n",
       "                 CountVectorizer(analyzer=&lt;function text_process at 0x7de4d9409120&gt;)),\n",
       "                (&#x27;tfidf&#x27;, TfidfTransformer()),\n",
       "                (&#x27;classifier&#x27;, MultinomialNB())],\n",
       "         verbose=True)</pre></div></div></div><div class=\"sk-serial\"><div class=\"sk-item\"><div class=\"sk-estimator sk-toggleable\"><input class=\"sk-toggleable__control sk-hidden--visually\" id=\"sk-estimator-id-2\" type=\"checkbox\" ><label for=\"sk-estimator-id-2\" class=\"sk-toggleable__label sk-toggleable__label-arrow\">CountVectorizer</label><div class=\"sk-toggleable__content\"><pre>CountVectorizer(analyzer=&lt;function text_process at 0x7de4d9409120&gt;)</pre></div></div></div><div class=\"sk-item\"><div class=\"sk-estimator sk-toggleable\"><input class=\"sk-toggleable__control sk-hidden--visually\" id=\"sk-estimator-id-3\" type=\"checkbox\" ><label for=\"sk-estimator-id-3\" class=\"sk-toggleable__label sk-toggleable__label-arrow\">TfidfTransformer</label><div class=\"sk-toggleable__content\"><pre>TfidfTransformer()</pre></div></div></div><div class=\"sk-item\"><div class=\"sk-estimator sk-toggleable\"><input class=\"sk-toggleable__control sk-hidden--visually\" id=\"sk-estimator-id-4\" type=\"checkbox\" ><label for=\"sk-estimator-id-4\" class=\"sk-toggleable__label sk-toggleable__label-arrow\">MultinomialNB</label><div class=\"sk-toggleable__content\"><pre>MultinomialNB()</pre></div></div></div></div></div></div></div>"
      ],
      "text/plain": [
       "Pipeline(steps=[('bow',\n",
       "                 CountVectorizer(analyzer=<function text_process at 0x7de4d9409120>)),\n",
       "                ('tfidf', TfidfTransformer()),\n",
       "                ('classifier', MultinomialNB())],\n",
       "         verbose=True)"
      ]
     },
     "execution_count": 52,
     "metadata": {},
     "output_type": "execute_result"
    }
   ],
   "source": [
    "pipeline.fit(X_train,y_train)"
   ]
  },
  {
   "cell_type": "code",
   "execution_count": 53,
   "id": "0c857f76",
   "metadata": {
    "execution": {
     "iopub.execute_input": "2024-03-04T19:55:31.628173Z",
     "iopub.status.busy": "2024-03-04T19:55:31.627406Z",
     "iopub.status.idle": "2024-03-04T19:55:31.633036Z",
     "shell.execute_reply": "2024-03-04T19:55:31.631777Z"
    },
    "papermill": {
     "duration": 0.029207,
     "end_time": "2024-03-04T19:55:31.635237",
     "exception": false,
     "start_time": "2024-03-04T19:55:31.606030",
     "status": "completed"
    },
    "tags": []
   },
   "outputs": [
    {
     "name": "stdout",
     "output_type": "stream",
     "text": [
      "(3733,) (3733,)\n"
     ]
    }
   ],
   "source": [
    "print(X_train.shape, y_train.shape)"
   ]
  },
  {
   "cell_type": "code",
   "execution_count": 54,
   "id": "74fb67f5",
   "metadata": {
    "execution": {
     "iopub.execute_input": "2024-03-04T19:55:31.682020Z",
     "iopub.status.busy": "2024-03-04T19:55:31.680676Z",
     "iopub.status.idle": "2024-03-04T19:55:31.687121Z",
     "shell.execute_reply": "2024-03-04T19:55:31.685866Z"
    },
    "papermill": {
     "duration": 0.033081,
     "end_time": "2024-03-04T19:55:31.689274",
     "exception": false,
     "start_time": "2024-03-04T19:55:31.656193",
     "status": "completed"
    },
    "tags": []
   },
   "outputs": [
    {
     "name": "stdout",
     "output_type": "stream",
     "text": [
      "(1839,) (1839,)\n"
     ]
    }
   ],
   "source": [
    "print(X_test.shape, y_test.shape)"
   ]
  },
  {
   "cell_type": "code",
   "execution_count": 55,
   "id": "fe38d0ee",
   "metadata": {
    "execution": {
     "iopub.execute_input": "2024-03-04T19:55:31.731686Z",
     "iopub.status.busy": "2024-03-04T19:55:31.730934Z",
     "iopub.status.idle": "2024-03-04T19:55:35.113681Z",
     "shell.execute_reply": "2024-03-04T19:55:35.112494Z"
    },
    "papermill": {
     "duration": 3.407401,
     "end_time": "2024-03-04T19:55:35.116318",
     "exception": false,
     "start_time": "2024-03-04T19:55:31.708917",
     "status": "completed"
    },
    "tags": []
   },
   "outputs": [],
   "source": [
    "prediction = pipeline.predict(X_test)"
   ]
  },
  {
   "cell_type": "code",
   "execution_count": 56,
   "id": "46d70319",
   "metadata": {
    "execution": {
     "iopub.execute_input": "2024-03-04T19:55:35.157654Z",
     "iopub.status.busy": "2024-03-04T19:55:35.157223Z",
     "iopub.status.idle": "2024-03-04T19:55:35.173192Z",
     "shell.execute_reply": "2024-03-04T19:55:35.171965Z"
    },
    "papermill": {
     "duration": 0.039818,
     "end_time": "2024-03-04T19:55:35.175743",
     "exception": false,
     "start_time": "2024-03-04T19:55:35.135925",
     "status": "completed"
    },
    "tags": []
   },
   "outputs": [
    {
     "name": "stdout",
     "output_type": "stream",
     "text": [
      "              precision    recall  f1-score   support\n",
      "\n",
      "           0       1.00      0.61      0.76       244\n",
      "           1       0.94      1.00      0.97      1595\n",
      "\n",
      "    accuracy                           0.95      1839\n",
      "   macro avg       0.97      0.81      0.86      1839\n",
      "weighted avg       0.95      0.95      0.94      1839\n",
      "\n"
     ]
    }
   ],
   "source": [
    "print(classification_report(y_test, prediction))"
   ]
  },
  {
   "cell_type": "markdown",
   "id": "2ab20da5",
   "metadata": {
    "papermill": {
     "duration": 0.019292,
     "end_time": "2024-03-04T19:55:35.215049",
     "exception": false,
     "start_time": "2024-03-04T19:55:35.195757",
     "status": "completed"
    },
    "tags": []
   },
   "source": [
    "### We have 96% accuracy for this model\n",
    "### Looking forward to the doing the same classifications using pretrained models"
   ]
  },
  {
   "cell_type": "code",
   "execution_count": null,
   "id": "0d74d222",
   "metadata": {
    "papermill": {
     "duration": 0.019704,
     "end_time": "2024-03-04T19:55:35.255028",
     "exception": false,
     "start_time": "2024-03-04T19:55:35.235324",
     "status": "completed"
    },
    "tags": []
   },
   "outputs": [],
   "source": []
  }
 ],
 "metadata": {
  "kaggle": {
   "accelerator": "none",
   "dataSources": [
    {
     "datasetId": 483,
     "sourceId": 982,
     "sourceType": "datasetVersion"
    }
   ],
   "dockerImageVersionId": 30664,
   "isGpuEnabled": false,
   "isInternetEnabled": true,
   "language": "python",
   "sourceType": "notebook"
  },
  "kernelspec": {
   "display_name": "Python 3",
   "language": "python",
   "name": "python3"
  },
  "language_info": {
   "codemirror_mode": {
    "name": "ipython",
    "version": 3
   },
   "file_extension": ".py",
   "mimetype": "text/x-python",
   "name": "python",
   "nbconvert_exporter": "python",
   "pygments_lexer": "ipython3",
   "version": "3.10.13"
  },
  "papermill": {
   "default_parameters": {},
   "duration": 37.370655,
   "end_time": "2024-03-04T19:55:36.096896",
   "environment_variables": {},
   "exception": null,
   "input_path": "__notebook__.ipynb",
   "output_path": "__notebook__.ipynb",
   "parameters": {},
   "start_time": "2024-03-04T19:54:58.726241",
   "version": "2.5.0"
  }
 },
 "nbformat": 4,
 "nbformat_minor": 5
}
