{
 "cells": [
  {
   "cell_type": "code",
   "execution_count": 1,
   "id": "fae2f08e",
   "metadata": {
    "execution": {
     "iopub.execute_input": "2024-03-20T17:23:01.369320Z",
     "iopub.status.busy": "2024-03-20T17:23:01.368065Z",
     "iopub.status.idle": "2024-03-20T17:23:02.066968Z",
     "shell.execute_reply": "2024-03-20T17:23:02.065944Z"
    },
    "papermill": {
     "duration": 0.709075,
     "end_time": "2024-03-20T17:23:02.069119",
     "exception": false,
     "start_time": "2024-03-20T17:23:01.360044",
     "status": "completed"
    },
    "tags": []
   },
   "outputs": [
    {
     "data": {
      "text/html": [
       "<div>\n",
       "<style scoped>\n",
       "    .dataframe tbody tr th:only-of-type {\n",
       "        vertical-align: middle;\n",
       "    }\n",
       "\n",
       "    .dataframe tbody tr th {\n",
       "        vertical-align: top;\n",
       "    }\n",
       "\n",
       "    .dataframe thead th {\n",
       "        text-align: right;\n",
       "    }\n",
       "</style>\n",
       "<table border=\"1\" class=\"dataframe\">\n",
       "  <thead>\n",
       "    <tr style=\"text-align: right;\">\n",
       "      <th></th>\n",
       "      <th>v1</th>\n",
       "      <th>v2</th>\n",
       "      <th>Unnamed: 2</th>\n",
       "      <th>Unnamed: 3</th>\n",
       "      <th>Unnamed: 4</th>\n",
       "    </tr>\n",
       "  </thead>\n",
       "  <tbody>\n",
       "    <tr>\n",
       "      <th>0</th>\n",
       "      <td>ham</td>\n",
       "      <td>Go until jurong point, crazy.. Available only ...</td>\n",
       "      <td>NaN</td>\n",
       "      <td>NaN</td>\n",
       "      <td>NaN</td>\n",
       "    </tr>\n",
       "    <tr>\n",
       "      <th>1</th>\n",
       "      <td>ham</td>\n",
       "      <td>Ok lar... Joking wif u oni...</td>\n",
       "      <td>NaN</td>\n",
       "      <td>NaN</td>\n",
       "      <td>NaN</td>\n",
       "    </tr>\n",
       "    <tr>\n",
       "      <th>2</th>\n",
       "      <td>spam</td>\n",
       "      <td>Free entry in 2 a wkly comp to win FA Cup fina...</td>\n",
       "      <td>NaN</td>\n",
       "      <td>NaN</td>\n",
       "      <td>NaN</td>\n",
       "    </tr>\n",
       "    <tr>\n",
       "      <th>3</th>\n",
       "      <td>ham</td>\n",
       "      <td>U dun say so early hor... U c already then say...</td>\n",
       "      <td>NaN</td>\n",
       "      <td>NaN</td>\n",
       "      <td>NaN</td>\n",
       "    </tr>\n",
       "    <tr>\n",
       "      <th>4</th>\n",
       "      <td>ham</td>\n",
       "      <td>Nah I don't think he goes to usf, he lives aro...</td>\n",
       "      <td>NaN</td>\n",
       "      <td>NaN</td>\n",
       "      <td>NaN</td>\n",
       "    </tr>\n",
       "  </tbody>\n",
       "</table>\n",
       "</div>"
      ],
      "text/plain": [
       "     v1                                                 v2 Unnamed: 2  \\\n",
       "0   ham  Go until jurong point, crazy.. Available only ...        NaN   \n",
       "1   ham                      Ok lar... Joking wif u oni...        NaN   \n",
       "2  spam  Free entry in 2 a wkly comp to win FA Cup fina...        NaN   \n",
       "3   ham  U dun say so early hor... U c already then say...        NaN   \n",
       "4   ham  Nah I don't think he goes to usf, he lives aro...        NaN   \n",
       "\n",
       "  Unnamed: 3 Unnamed: 4  \n",
       "0        NaN        NaN  \n",
       "1        NaN        NaN  \n",
       "2        NaN        NaN  \n",
       "3        NaN        NaN  \n",
       "4        NaN        NaN  "
      ]
     },
     "execution_count": 1,
     "metadata": {},
     "output_type": "execute_result"
    }
   ],
   "source": [
    "import numpy as np\n",
    "import pandas as pd\n",
    "df = pd.read_csv('/kaggle/input/sms-spam-collection-dataset/spam.csv',encoding ='latin1')\n",
    "df.head()"
   ]
  },
  {
   "cell_type": "code",
   "execution_count": 2,
   "id": "fb650e04",
   "metadata": {
    "execution": {
     "iopub.execute_input": "2024-03-20T17:23:02.080165Z",
     "iopub.status.busy": "2024-03-20T17:23:02.079918Z",
     "iopub.status.idle": "2024-03-20T17:23:02.087446Z",
     "shell.execute_reply": "2024-03-20T17:23:02.086897Z"
    },
    "papermill": {
     "duration": 0.014539,
     "end_time": "2024-03-20T17:23:02.088868",
     "exception": false,
     "start_time": "2024-03-20T17:23:02.074329",
     "status": "completed"
    },
    "tags": []
   },
   "outputs": [],
   "source": [
    "spam_df = df.drop(['Unnamed: 2', 'Unnamed: 3', 'Unnamed: 4'], axis=1)"
   ]
  },
  {
   "cell_type": "code",
   "execution_count": 3,
   "id": "dcb597cc",
   "metadata": {
    "execution": {
     "iopub.execute_input": "2024-03-20T17:23:02.099350Z",
     "iopub.status.busy": "2024-03-20T17:23:02.099097Z",
     "iopub.status.idle": "2024-03-20T17:23:02.106015Z",
     "shell.execute_reply": "2024-03-20T17:23:02.105231Z"
    },
    "papermill": {
     "duration": 0.014214,
     "end_time": "2024-03-20T17:23:02.107792",
     "exception": false,
     "start_time": "2024-03-20T17:23:02.093578",
     "status": "completed"
    },
    "tags": []
   },
   "outputs": [
    {
     "data": {
      "text/html": [
       "<div>\n",
       "<style scoped>\n",
       "    .dataframe tbody tr th:only-of-type {\n",
       "        vertical-align: middle;\n",
       "    }\n",
       "\n",
       "    .dataframe tbody tr th {\n",
       "        vertical-align: top;\n",
       "    }\n",
       "\n",
       "    .dataframe thead th {\n",
       "        text-align: right;\n",
       "    }\n",
       "</style>\n",
       "<table border=\"1\" class=\"dataframe\">\n",
       "  <thead>\n",
       "    <tr style=\"text-align: right;\">\n",
       "      <th></th>\n",
       "      <th>v1</th>\n",
       "      <th>v2</th>\n",
       "    </tr>\n",
       "  </thead>\n",
       "  <tbody>\n",
       "    <tr>\n",
       "      <th>0</th>\n",
       "      <td>ham</td>\n",
       "      <td>Go until jurong point, crazy.. Available only ...</td>\n",
       "    </tr>\n",
       "    <tr>\n",
       "      <th>1</th>\n",
       "      <td>ham</td>\n",
       "      <td>Ok lar... Joking wif u oni...</td>\n",
       "    </tr>\n",
       "    <tr>\n",
       "      <th>2</th>\n",
       "      <td>spam</td>\n",
       "      <td>Free entry in 2 a wkly comp to win FA Cup fina...</td>\n",
       "    </tr>\n",
       "    <tr>\n",
       "      <th>3</th>\n",
       "      <td>ham</td>\n",
       "      <td>U dun say so early hor... U c already then say...</td>\n",
       "    </tr>\n",
       "    <tr>\n",
       "      <th>4</th>\n",
       "      <td>ham</td>\n",
       "      <td>Nah I don't think he goes to usf, he lives aro...</td>\n",
       "    </tr>\n",
       "  </tbody>\n",
       "</table>\n",
       "</div>"
      ],
      "text/plain": [
       "     v1                                                 v2\n",
       "0   ham  Go until jurong point, crazy.. Available only ...\n",
       "1   ham                      Ok lar... Joking wif u oni...\n",
       "2  spam  Free entry in 2 a wkly comp to win FA Cup fina...\n",
       "3   ham  U dun say so early hor... U c already then say...\n",
       "4   ham  Nah I don't think he goes to usf, he lives aro..."
      ]
     },
     "execution_count": 3,
     "metadata": {},
     "output_type": "execute_result"
    }
   ],
   "source": [
    "spam_df.head()"
   ]
  },
  {
   "cell_type": "code",
   "execution_count": 4,
   "id": "21a1fc52",
   "metadata": {
    "execution": {
     "iopub.execute_input": "2024-03-20T17:23:02.119332Z",
     "iopub.status.busy": "2024-03-20T17:23:02.118824Z",
     "iopub.status.idle": "2024-03-20T17:23:03.092633Z",
     "shell.execute_reply": "2024-03-20T17:23:03.091829Z"
    },
    "papermill": {
     "duration": 0.982053,
     "end_time": "2024-03-20T17:23:03.095149",
     "exception": false,
     "start_time": "2024-03-20T17:23:02.113096",
     "status": "completed"
    },
    "tags": []
   },
   "outputs": [],
   "source": [
    "#converting the value of ham and spam into 1 or 0\n",
    "from sklearn.preprocessing import LabelEncoder\n",
    "encoder = LabelEncoder()\n",
    "spam_df['v1'] = encoder.fit_transform(spam_df['v1'])"
   ]
  },
  {
   "cell_type": "code",
   "execution_count": 5,
   "id": "4cf32228",
   "metadata": {
    "execution": {
     "iopub.execute_input": "2024-03-20T17:23:03.106638Z",
     "iopub.status.busy": "2024-03-20T17:23:03.106303Z",
     "iopub.status.idle": "2024-03-20T17:23:03.116088Z",
     "shell.execute_reply": "2024-03-20T17:23:03.115244Z"
    },
    "papermill": {
     "duration": 0.017809,
     "end_time": "2024-03-20T17:23:03.118143",
     "exception": false,
     "start_time": "2024-03-20T17:23:03.100334",
     "status": "completed"
    },
    "tags": []
   },
   "outputs": [
    {
     "data": {
      "text/plain": [
       "v1    0\n",
       "v2    0\n",
       "dtype: int64"
      ]
     },
     "execution_count": 5,
     "metadata": {},
     "output_type": "execute_result"
    }
   ],
   "source": [
    "#validation things worked so far\n",
    "spam_df.head()\n",
    "spam_df.isnull().sum()"
   ]
  },
  {
   "cell_type": "code",
   "execution_count": 6,
   "id": "e003933a",
   "metadata": {
    "execution": {
     "iopub.execute_input": "2024-03-20T17:23:03.129899Z",
     "iopub.status.busy": "2024-03-20T17:23:03.129602Z",
     "iopub.status.idle": "2024-03-20T17:23:03.140541Z",
     "shell.execute_reply": "2024-03-20T17:23:03.139755Z"
    },
    "papermill": {
     "duration": 0.018853,
     "end_time": "2024-03-20T17:23:03.142336",
     "exception": false,
     "start_time": "2024-03-20T17:23:03.123483",
     "status": "completed"
    },
    "tags": []
   },
   "outputs": [
    {
     "data": {
      "text/plain": [
       "403"
      ]
     },
     "execution_count": 6,
     "metadata": {},
     "output_type": "execute_result"
    }
   ],
   "source": [
    "#check the duplicate values\n",
    "spam_df.duplicated().sum()"
   ]
  },
  {
   "cell_type": "code",
   "execution_count": 7,
   "id": "78543279",
   "metadata": {
    "execution": {
     "iopub.execute_input": "2024-03-20T17:23:03.154525Z",
     "iopub.status.busy": "2024-03-20T17:23:03.154020Z",
     "iopub.status.idle": "2024-03-20T17:23:03.165133Z",
     "shell.execute_reply": "2024-03-20T17:23:03.164582Z"
    },
    "papermill": {
     "duration": 0.018591,
     "end_time": "2024-03-20T17:23:03.166513",
     "exception": false,
     "start_time": "2024-03-20T17:23:03.147922",
     "status": "completed"
    },
    "tags": []
   },
   "outputs": [
    {
     "data": {
      "text/plain": [
       "0"
      ]
     },
     "execution_count": 7,
     "metadata": {},
     "output_type": "execute_result"
    }
   ],
   "source": [
    "#removing the duplicate value\n",
    "spam_df = spam_df.drop_duplicates(keep = 'first')\n",
    "spam_df.duplicated().sum()"
   ]
  },
  {
   "cell_type": "code",
   "execution_count": 8,
   "id": "8f0510f5",
   "metadata": {
    "execution": {
     "iopub.execute_input": "2024-03-20T17:23:03.179236Z",
     "iopub.status.busy": "2024-03-20T17:23:03.178802Z",
     "iopub.status.idle": "2024-03-20T17:23:03.186591Z",
     "shell.execute_reply": "2024-03-20T17:23:03.185570Z"
    },
    "papermill": {
     "duration": 0.016626,
     "end_time": "2024-03-20T17:23:03.188399",
     "exception": false,
     "start_time": "2024-03-20T17:23:03.171773",
     "status": "completed"
    },
    "tags": []
   },
   "outputs": [
    {
     "data": {
      "text/html": [
       "<div>\n",
       "<style scoped>\n",
       "    .dataframe tbody tr th:only-of-type {\n",
       "        vertical-align: middle;\n",
       "    }\n",
       "\n",
       "    .dataframe tbody tr th {\n",
       "        vertical-align: top;\n",
       "    }\n",
       "\n",
       "    .dataframe thead th {\n",
       "        text-align: right;\n",
       "    }\n",
       "</style>\n",
       "<table border=\"1\" class=\"dataframe\">\n",
       "  <thead>\n",
       "    <tr style=\"text-align: right;\">\n",
       "      <th></th>\n",
       "      <th>v1</th>\n",
       "      <th>v2</th>\n",
       "    </tr>\n",
       "  </thead>\n",
       "  <tbody>\n",
       "    <tr>\n",
       "      <th>0</th>\n",
       "      <td>0</td>\n",
       "      <td>Go until jurong point, crazy.. Available only ...</td>\n",
       "    </tr>\n",
       "    <tr>\n",
       "      <th>1</th>\n",
       "      <td>0</td>\n",
       "      <td>Ok lar... Joking wif u oni...</td>\n",
       "    </tr>\n",
       "    <tr>\n",
       "      <th>2</th>\n",
       "      <td>1</td>\n",
       "      <td>Free entry in 2 a wkly comp to win FA Cup fina...</td>\n",
       "    </tr>\n",
       "    <tr>\n",
       "      <th>3</th>\n",
       "      <td>0</td>\n",
       "      <td>U dun say so early hor... U c already then say...</td>\n",
       "    </tr>\n",
       "    <tr>\n",
       "      <th>4</th>\n",
       "      <td>0</td>\n",
       "      <td>Nah I don't think he goes to usf, he lives aro...</td>\n",
       "    </tr>\n",
       "  </tbody>\n",
       "</table>\n",
       "</div>"
      ],
      "text/plain": [
       "   v1                                                 v2\n",
       "0   0  Go until jurong point, crazy.. Available only ...\n",
       "1   0                      Ok lar... Joking wif u oni...\n",
       "2   1  Free entry in 2 a wkly comp to win FA Cup fina...\n",
       "3   0  U dun say so early hor... U c already then say...\n",
       "4   0  Nah I don't think he goes to usf, he lives aro..."
      ]
     },
     "execution_count": 8,
     "metadata": {},
     "output_type": "execute_result"
    }
   ],
   "source": [
    "spam_df.head()"
   ]
  },
  {
   "cell_type": "code",
   "execution_count": 9,
   "id": "00993663",
   "metadata": {
    "execution": {
     "iopub.execute_input": "2024-03-20T17:23:03.200892Z",
     "iopub.status.busy": "2024-03-20T17:23:03.200642Z",
     "iopub.status.idle": "2024-03-20T17:23:15.876488Z",
     "shell.execute_reply": "2024-03-20T17:23:15.875246Z"
    },
    "papermill": {
     "duration": 12.683997,
     "end_time": "2024-03-20T17:23:15.878297",
     "exception": false,
     "start_time": "2024-03-20T17:23:03.194300",
     "status": "completed"
    },
    "tags": []
   },
   "outputs": [
    {
     "name": "stdout",
     "output_type": "stream",
     "text": [
      "Requirement already satisfied: nltk in /opt/conda/lib/python3.10/site-packages (3.2.4)\r\n",
      "Requirement already satisfied: six in /opt/conda/lib/python3.10/site-packages (from nltk) (1.16.0)\r\n",
      "[nltk_data] Downloading package punkt to /usr/share/nltk_data...\n",
      "[nltk_data]   Package punkt is already up-to-date!\n"
     ]
    },
    {
     "data": {
      "text/html": [
       "<div>\n",
       "<style scoped>\n",
       "    .dataframe tbody tr th:only-of-type {\n",
       "        vertical-align: middle;\n",
       "    }\n",
       "\n",
       "    .dataframe tbody tr th {\n",
       "        vertical-align: top;\n",
       "    }\n",
       "\n",
       "    .dataframe thead th {\n",
       "        text-align: right;\n",
       "    }\n",
       "</style>\n",
       "<table border=\"1\" class=\"dataframe\">\n",
       "  <thead>\n",
       "    <tr style=\"text-align: right;\">\n",
       "      <th></th>\n",
       "      <th>v1</th>\n",
       "      <th>v2</th>\n",
       "      <th>num_character</th>\n",
       "      <th>num_words</th>\n",
       "      <th>num_sentence</th>\n",
       "    </tr>\n",
       "  </thead>\n",
       "  <tbody>\n",
       "    <tr>\n",
       "      <th>0</th>\n",
       "      <td>0</td>\n",
       "      <td>Go until jurong point, crazy.. Available only ...</td>\n",
       "      <td>111</td>\n",
       "      <td>23</td>\n",
       "      <td>2</td>\n",
       "    </tr>\n",
       "    <tr>\n",
       "      <th>1</th>\n",
       "      <td>0</td>\n",
       "      <td>Ok lar... Joking wif u oni...</td>\n",
       "      <td>29</td>\n",
       "      <td>8</td>\n",
       "      <td>2</td>\n",
       "    </tr>\n",
       "    <tr>\n",
       "      <th>2</th>\n",
       "      <td>1</td>\n",
       "      <td>Free entry in 2 a wkly comp to win FA Cup fina...</td>\n",
       "      <td>155</td>\n",
       "      <td>37</td>\n",
       "      <td>2</td>\n",
       "    </tr>\n",
       "    <tr>\n",
       "      <th>3</th>\n",
       "      <td>0</td>\n",
       "      <td>U dun say so early hor... U c already then say...</td>\n",
       "      <td>49</td>\n",
       "      <td>13</td>\n",
       "      <td>1</td>\n",
       "    </tr>\n",
       "    <tr>\n",
       "      <th>4</th>\n",
       "      <td>0</td>\n",
       "      <td>Nah I don't think he goes to usf, he lives aro...</td>\n",
       "      <td>61</td>\n",
       "      <td>15</td>\n",
       "      <td>1</td>\n",
       "    </tr>\n",
       "  </tbody>\n",
       "</table>\n",
       "</div>"
      ],
      "text/plain": [
       "   v1                                                 v2  num_character  \\\n",
       "0   0  Go until jurong point, crazy.. Available only ...            111   \n",
       "1   0                      Ok lar... Joking wif u oni...             29   \n",
       "2   1  Free entry in 2 a wkly comp to win FA Cup fina...            155   \n",
       "3   0  U dun say so early hor... U c already then say...             49   \n",
       "4   0  Nah I don't think he goes to usf, he lives aro...             61   \n",
       "\n",
       "   num_words  num_sentence  \n",
       "0         23             2  \n",
       "1          8             2  \n",
       "2         37             2  \n",
       "3         13             1  \n",
       "4         15             1  "
      ]
     },
     "execution_count": 9,
     "metadata": {},
     "output_type": "execute_result"
    }
   ],
   "source": [
    "spam_df['num_character'] = spam_df['v2'].apply(len)\n",
    "!pip  install nltk\n",
    "import nltk\n",
    "nltk.download('punkt')\n",
    "spam_df['num_words'] = spam_df['v2'].apply(lambda x:len(nltk.word_tokenize(x)))\n",
    "spam_df['num_sentence'] = spam_df['v2'].apply(lambda x : len(nltk.sent_tokenize(x)))\n",
    "spam_df.head()"
   ]
  },
  {
   "cell_type": "markdown",
   "id": "6151a683",
   "metadata": {
    "papermill": {
     "duration": 0.005629,
     "end_time": "2024-03-20T17:23:15.890816",
     "exception": false,
     "start_time": "2024-03-20T17:23:15.885187",
     "status": "completed"
    },
    "tags": []
   },
   "source": [
    "# DATA PROCESSING"
   ]
  },
  {
   "cell_type": "code",
   "execution_count": 10,
   "id": "a85ade10",
   "metadata": {
    "execution": {
     "iopub.execute_input": "2024-03-20T17:23:15.903886Z",
     "iopub.status.busy": "2024-03-20T17:23:15.903560Z",
     "iopub.status.idle": "2024-03-20T17:23:15.916440Z",
     "shell.execute_reply": "2024-03-20T17:23:15.915353Z"
    },
    "papermill": {
     "duration": 0.021676,
     "end_time": "2024-03-20T17:23:15.918224",
     "exception": false,
     "start_time": "2024-03-20T17:23:15.896548",
     "status": "completed"
    },
    "tags": []
   },
   "outputs": [
    {
     "name": "stdout",
     "output_type": "stream",
     "text": [
      "[nltk_data] Downloading package stopwords to /usr/share/nltk_data...\n",
      "[nltk_data]   Package stopwords is already up-to-date!\n"
     ]
    }
   ],
   "source": [
    "#here we are going to convert the text data into suitable format\n",
    "from nltk.corpus import stopwords\n",
    "from nltk.stem.porter import PorterStemmer\n",
    "nltk.download('stopwords')\n",
    "import string\n",
    "\n",
    "def transformTexts(text):\n",
    "    text = text.lower()\n",
    "    #tokenizing the text based on the words in the text\n",
    "    text = nltk.word_tokenize(text)\n",
    "    #including all those characters which are alphabet or number\n",
    "    y = []\n",
    "    for i in text:\n",
    "        if i.isalnum:\n",
    "            y.append(i)\n",
    "            \n",
    "    #storing the value of y into the vaiable text\n",
    "    text = y[:]\n",
    "    y.clear()\n",
    "    \n",
    "    #Removing the unnecessary words such as 'how are you ' or something which is not importent \n",
    "    #down here the stopwords.words('english') is nothing but all the lame set of words as described above\n",
    "    for i in text:\n",
    "        if i not in stopwords.words('english') and i not in string.punctuation:\n",
    "            y.append(i)\n",
    "            \n",
    "    #the last step is nothing but steming in the steming we basically convert every verb form into the simple form such as\n",
    "    #if we have dancing or danced we will convert them into dance and so on for this need to import something  hehehehe\n",
    "    \n",
    "    text = y[:]\n",
    "    y.clear()\n",
    "    ps = PorterStemmer()\n",
    "    \n",
    "    for i in text:\n",
    "        y.append(ps.stem(i))\n",
    "    \n",
    "    text = y[:]\n",
    "    y.clear()\n",
    "    \n",
    "    return \" \".join(text)"
   ]
  },
  {
   "cell_type": "code",
   "execution_count": 11,
   "id": "a4676a0e",
   "metadata": {
    "execution": {
     "iopub.execute_input": "2024-03-20T17:23:15.931583Z",
     "iopub.status.busy": "2024-03-20T17:23:15.931289Z",
     "iopub.status.idle": "2024-03-20T17:23:15.941552Z",
     "shell.execute_reply": "2024-03-20T17:23:15.940671Z"
    },
    "papermill": {
     "duration": 0.018687,
     "end_time": "2024-03-20T17:23:15.943081",
     "exception": false,
     "start_time": "2024-03-20T17:23:15.924394",
     "status": "completed"
    },
    "tags": []
   },
   "outputs": [
    {
     "data": {
      "text/plain": [
       "'hi shehriar eat salad danc tell danc well last time'"
      ]
     },
     "execution_count": 11,
     "metadata": {},
     "output_type": "execute_result"
    }
   ],
   "source": [
    "transformTexts('Hi Shehriar how are you? Did you eat my salad?And if you are dancing tell me I danced very well last time')"
   ]
  },
  {
   "cell_type": "markdown",
   "id": "1b58de94",
   "metadata": {
    "papermill": {
     "duration": 0.005745,
     "end_time": "2024-03-20T17:23:15.954765",
     "exception": false,
     "start_time": "2024-03-20T17:23:15.949020",
     "status": "completed"
    },
    "tags": []
   },
   "source": [
    "Now I am going to run this function for whole of the text we have in our dataset and then create a new column to add \n",
    "transformed text there"
   ]
  },
  {
   "cell_type": "code",
   "execution_count": 12,
   "id": "8ab9a29c",
   "metadata": {
    "execution": {
     "iopub.execute_input": "2024-03-20T17:23:15.967490Z",
     "iopub.status.busy": "2024-03-20T17:23:15.967189Z",
     "iopub.status.idle": "2024-03-20T17:23:27.561556Z",
     "shell.execute_reply": "2024-03-20T17:23:27.560701Z"
    },
    "papermill": {
     "duration": 11.603039,
     "end_time": "2024-03-20T17:23:27.563630",
     "exception": false,
     "start_time": "2024-03-20T17:23:15.960591",
     "status": "completed"
    },
    "tags": []
   },
   "outputs": [],
   "source": [
    "spam_df['transformed'] = spam_df['v2'].apply(transformTexts)"
   ]
  },
  {
   "cell_type": "code",
   "execution_count": 13,
   "id": "a1843284",
   "metadata": {
    "execution": {
     "iopub.execute_input": "2024-03-20T17:23:27.577260Z",
     "iopub.status.busy": "2024-03-20T17:23:27.576973Z",
     "iopub.status.idle": "2024-03-20T17:23:27.586521Z",
     "shell.execute_reply": "2024-03-20T17:23:27.585002Z"
    },
    "papermill": {
     "duration": 0.017997,
     "end_time": "2024-03-20T17:23:27.588133",
     "exception": false,
     "start_time": "2024-03-20T17:23:27.570136",
     "status": "completed"
    },
    "tags": []
   },
   "outputs": [
    {
     "data": {
      "text/html": [
       "<div>\n",
       "<style scoped>\n",
       "    .dataframe tbody tr th:only-of-type {\n",
       "        vertical-align: middle;\n",
       "    }\n",
       "\n",
       "    .dataframe tbody tr th {\n",
       "        vertical-align: top;\n",
       "    }\n",
       "\n",
       "    .dataframe thead th {\n",
       "        text-align: right;\n",
       "    }\n",
       "</style>\n",
       "<table border=\"1\" class=\"dataframe\">\n",
       "  <thead>\n",
       "    <tr style=\"text-align: right;\">\n",
       "      <th></th>\n",
       "      <th>v1</th>\n",
       "      <th>v2</th>\n",
       "      <th>num_character</th>\n",
       "      <th>num_words</th>\n",
       "      <th>num_sentence</th>\n",
       "      <th>transformed</th>\n",
       "    </tr>\n",
       "  </thead>\n",
       "  <tbody>\n",
       "    <tr>\n",
       "      <th>0</th>\n",
       "      <td>0</td>\n",
       "      <td>Go until jurong point, crazy.. Available only ...</td>\n",
       "      <td>111</td>\n",
       "      <td>23</td>\n",
       "      <td>2</td>\n",
       "      <td>go jurong point crazy.. avail bugi n great wor...</td>\n",
       "    </tr>\n",
       "    <tr>\n",
       "      <th>1</th>\n",
       "      <td>0</td>\n",
       "      <td>Ok lar... Joking wif u oni...</td>\n",
       "      <td>29</td>\n",
       "      <td>8</td>\n",
       "      <td>2</td>\n",
       "      <td>ok lar ... joke wif u oni ...</td>\n",
       "    </tr>\n",
       "    <tr>\n",
       "      <th>2</th>\n",
       "      <td>1</td>\n",
       "      <td>Free entry in 2 a wkly comp to win FA Cup fina...</td>\n",
       "      <td>155</td>\n",
       "      <td>37</td>\n",
       "      <td>2</td>\n",
       "      <td>free entri 2 wkli comp win fa cup final tkt 21...</td>\n",
       "    </tr>\n",
       "    <tr>\n",
       "      <th>3</th>\n",
       "      <td>0</td>\n",
       "      <td>U dun say so early hor... U c already then say...</td>\n",
       "      <td>49</td>\n",
       "      <td>13</td>\n",
       "      <td>1</td>\n",
       "      <td>u dun say earli hor ... u c alreadi say ...</td>\n",
       "    </tr>\n",
       "    <tr>\n",
       "      <th>4</th>\n",
       "      <td>0</td>\n",
       "      <td>Nah I don't think he goes to usf, he lives aro...</td>\n",
       "      <td>61</td>\n",
       "      <td>15</td>\n",
       "      <td>1</td>\n",
       "      <td>nah n't think goe usf live around though</td>\n",
       "    </tr>\n",
       "  </tbody>\n",
       "</table>\n",
       "</div>"
      ],
      "text/plain": [
       "   v1                                                 v2  num_character  \\\n",
       "0   0  Go until jurong point, crazy.. Available only ...            111   \n",
       "1   0                      Ok lar... Joking wif u oni...             29   \n",
       "2   1  Free entry in 2 a wkly comp to win FA Cup fina...            155   \n",
       "3   0  U dun say so early hor... U c already then say...             49   \n",
       "4   0  Nah I don't think he goes to usf, he lives aro...             61   \n",
       "\n",
       "   num_words  num_sentence                                        transformed  \n",
       "0         23             2  go jurong point crazy.. avail bugi n great wor...  \n",
       "1          8             2                      ok lar ... joke wif u oni ...  \n",
       "2         37             2  free entri 2 wkli comp win fa cup final tkt 21...  \n",
       "3         13             1        u dun say earli hor ... u c alreadi say ...  \n",
       "4         15             1           nah n't think goe usf live around though  "
      ]
     },
     "execution_count": 13,
     "metadata": {},
     "output_type": "execute_result"
    }
   ],
   "source": [
    "spam_df.head()"
   ]
  },
  {
   "cell_type": "markdown",
   "id": "0c49dbc6",
   "metadata": {
    "papermill": {
     "duration": 0.00603,
     "end_time": "2024-03-20T17:23:27.600565",
     "exception": false,
     "start_time": "2024-03-20T17:23:27.594535",
     "status": "completed"
    },
    "tags": []
   },
   "source": [
    "now we are going to figure the importent or some of the most used words from the spam text"
   ]
  },
  {
   "cell_type": "code",
   "execution_count": 14,
   "id": "8af8eec3",
   "metadata": {
    "execution": {
     "iopub.execute_input": "2024-03-20T17:23:27.614140Z",
     "iopub.status.busy": "2024-03-20T17:23:27.613672Z",
     "iopub.status.idle": "2024-03-20T17:23:37.704843Z",
     "shell.execute_reply": "2024-03-20T17:23:37.703896Z"
    },
    "papermill": {
     "duration": 10.100133,
     "end_time": "2024-03-20T17:23:37.706834",
     "exception": false,
     "start_time": "2024-03-20T17:23:27.606701",
     "status": "completed"
    },
    "tags": []
   },
   "outputs": [
    {
     "name": "stdout",
     "output_type": "stream",
     "text": [
      "Requirement already satisfied: wordcloud in /opt/conda/lib/python3.10/site-packages (1.9.3)\r\n",
      "Requirement already satisfied: numpy>=1.6.1 in /opt/conda/lib/python3.10/site-packages (from wordcloud) (1.26.4)\r\n",
      "Requirement already satisfied: pillow in /opt/conda/lib/python3.10/site-packages (from wordcloud) (9.5.0)\r\n",
      "Requirement already satisfied: matplotlib in /opt/conda/lib/python3.10/site-packages (from wordcloud) (3.7.5)\r\n",
      "Requirement already satisfied: contourpy>=1.0.1 in /opt/conda/lib/python3.10/site-packages (from matplotlib->wordcloud) (1.2.0)\r\n",
      "Requirement already satisfied: cycler>=0.10 in /opt/conda/lib/python3.10/site-packages (from matplotlib->wordcloud) (0.12.1)\r\n",
      "Requirement already satisfied: fonttools>=4.22.0 in /opt/conda/lib/python3.10/site-packages (from matplotlib->wordcloud) (4.47.0)\r\n",
      "Requirement already satisfied: kiwisolver>=1.0.1 in /opt/conda/lib/python3.10/site-packages (from matplotlib->wordcloud) (1.4.5)\r\n",
      "Requirement already satisfied: packaging>=20.0 in /opt/conda/lib/python3.10/site-packages (from matplotlib->wordcloud) (21.3)\r\n",
      "Requirement already satisfied: pyparsing>=2.3.1 in /opt/conda/lib/python3.10/site-packages (from matplotlib->wordcloud) (3.1.1)\r\n",
      "Requirement already satisfied: python-dateutil>=2.7 in /opt/conda/lib/python3.10/site-packages (from matplotlib->wordcloud) (2.8.2)\r\n",
      "Requirement already satisfied: six>=1.5 in /opt/conda/lib/python3.10/site-packages (from python-dateutil>=2.7->matplotlib->wordcloud) (1.16.0)\r\n"
     ]
    },
    {
     "data": {
      "text/plain": [
       "<matplotlib.image.AxesImage at 0x7c62da27f280>"
      ]
     },
     "execution_count": 14,
     "metadata": {},
     "output_type": "execute_result"
    },
    {
     "data": {
      "image/png": "[encoded data removed]",
      "text/plain": [
       "<Figure size 640x480 with 1 Axes>"
      ]
     },
     "metadata": {},
     "output_type": "display_data"
    }
   ],
   "source": [
    "!pip install wordcloud\n",
    "from wordcloud import WordCloud\n",
    "import matplotlib.pyplot as plt\n",
    "wc = WordCloud(width = 500,height = 500,min_font_size = 10,background_color = 'white')\n",
    "spam_wc = wc.generate(spam_df[spam_df['v1'] == 1]['transformed'].str.cat(sep = \" \"))\n",
    "plt.imshow(spam_wc)"
   ]
  },
  {
   "cell_type": "markdown",
   "id": "2c184aca",
   "metadata": {
    "papermill": {
     "duration": 0.007533,
     "end_time": "2024-03-20T17:23:37.722948",
     "exception": false,
     "start_time": "2024-03-20T17:23:37.715415",
     "status": "completed"
    },
    "tags": []
   },
   "source": [
    "now our next step is to extract all the 30 words which has more frequency in both ham and spam"
   ]
  },
  {
   "cell_type": "code",
   "execution_count": 15,
   "id": "15565025",
   "metadata": {
    "execution": {
     "iopub.execute_input": "2024-03-20T17:23:37.741116Z",
     "iopub.status.busy": "2024-03-20T17:23:37.740716Z",
     "iopub.status.idle": "2024-03-20T17:23:37.771060Z",
     "shell.execute_reply": "2024-03-20T17:23:37.770442Z"
    },
    "papermill": {
     "duration": 0.041478,
     "end_time": "2024-03-20T17:23:37.772811",
     "exception": false,
     "start_time": "2024-03-20T17:23:37.731333",
     "status": "completed"
    },
    "tags": []
   },
   "outputs": [],
   "source": [
    "spam_corpus = []\n",
    "for msg in spam_df[spam_df['v1']==1]['transformed'].tolist():\n",
    "    for word in msg.split():\n",
    "        spam_corpus.append(word)\n",
    "        \n",
    "#same for the ham messages \n",
    "ham_corpus = []\n",
    "for msg in spam_df[spam_df['v1']==0]['transformed'].tolist():\n",
    "    for word in msg:\n",
    "        ham_corpus.append(word)"
   ]
  },
  {
   "cell_type": "code",
   "execution_count": 16,
   "id": "e68fb2c2",
   "metadata": {
    "execution": {
     "iopub.execute_input": "2024-03-20T17:23:37.790015Z",
     "iopub.status.busy": "2024-03-20T17:23:37.789726Z",
     "iopub.status.idle": "2024-03-20T17:23:37.797427Z",
     "shell.execute_reply": "2024-03-20T17:23:37.796698Z"
    },
    "papermill": {
     "duration": 0.017954,
     "end_time": "2024-03-20T17:23:37.798952",
     "exception": false,
     "start_time": "2024-03-20T17:23:37.780998",
     "status": "completed"
    },
    "tags": []
   },
   "outputs": [
    {
     "data": {
      "text/html": [
       "<div>\n",
       "<style scoped>\n",
       "    .dataframe tbody tr th:only-of-type {\n",
       "        vertical-align: middle;\n",
       "    }\n",
       "\n",
       "    .dataframe tbody tr th {\n",
       "        vertical-align: top;\n",
       "    }\n",
       "\n",
       "    .dataframe thead th {\n",
       "        text-align: right;\n",
       "    }\n",
       "</style>\n",
       "<table border=\"1\" class=\"dataframe\">\n",
       "  <thead>\n",
       "    <tr style=\"text-align: right;\">\n",
       "      <th></th>\n",
       "      <th>0</th>\n",
       "    </tr>\n",
       "  </thead>\n",
       "  <tbody>\n",
       "    <tr>\n",
       "      <th>0</th>\n",
       "      <td>free</td>\n",
       "    </tr>\n",
       "    <tr>\n",
       "      <th>1</th>\n",
       "      <td>entri</td>\n",
       "    </tr>\n",
       "    <tr>\n",
       "      <th>2</th>\n",
       "      <td>2</td>\n",
       "    </tr>\n",
       "    <tr>\n",
       "      <th>3</th>\n",
       "      <td>wkli</td>\n",
       "    </tr>\n",
       "    <tr>\n",
       "      <th>4</th>\n",
       "      <td>comp</td>\n",
       "    </tr>\n",
       "  </tbody>\n",
       "</table>\n",
       "</div>"
      ],
      "text/plain": [
       "       0\n",
       "0   free\n",
       "1  entri\n",
       "2      2\n",
       "3   wkli\n",
       "4   comp"
      ]
     },
     "execution_count": 16,
     "metadata": {},
     "output_type": "execute_result"
    }
   ],
   "source": [
    "spam_corpus_df = pd.DataFrame(spam_corpus)\n",
    "spam_corpus_df.head()"
   ]
  },
  {
   "cell_type": "code",
   "execution_count": 17,
   "id": "d8f16922",
   "metadata": {
    "execution": {
     "iopub.execute_input": "2024-03-20T17:23:37.817037Z",
     "iopub.status.busy": "2024-03-20T17:23:37.816766Z",
     "iopub.status.idle": "2024-03-20T17:23:37.820159Z",
     "shell.execute_reply": "2024-03-20T17:23:37.819426Z"
    },
    "papermill": {
     "duration": 0.014077,
     "end_time": "2024-03-20T17:23:37.822068",
     "exception": false,
     "start_time": "2024-03-20T17:23:37.807991",
     "status": "completed"
    },
    "tags": []
   },
   "outputs": [],
   "source": [
    "# # !pip install seaborn\n",
    "# from collections import Counter\n",
    "# import seaborn as sns\n",
    "# sns.barplot(pd.DataFrame(Counter(ham_corpus).most_common(30))[0],pd.DataFrame(Counter(ham_corpus).most_common(30))[1])"
   ]
  },
  {
   "cell_type": "markdown",
   "id": "00ca5237",
   "metadata": {
    "papermill": {
     "duration": 0.007849,
     "end_time": "2024-03-20T17:23:37.837987",
     "exception": false,
     "start_time": "2024-03-20T17:23:37.830138",
     "status": "completed"
    },
    "tags": []
   },
   "source": [
    "# MODEL SELECTION"
   ]
  },
  {
   "cell_type": "markdown",
   "id": "ec6d3fe4",
   "metadata": {
    "papermill": {
     "duration": 0.007921,
     "end_time": "2024-03-20T17:23:37.853832",
     "exception": false,
     "start_time": "2024-03-20T17:23:37.845911",
     "status": "completed"
    },
    "tags": []
   },
   "source": [
    "in this we will select the most appropiate model for our data set"
   ]
  },
  {
   "cell_type": "code",
   "execution_count": 18,
   "id": "6d3416b3",
   "metadata": {
    "execution": {
     "iopub.execute_input": "2024-03-20T17:23:37.871896Z",
     "iopub.status.busy": "2024-03-20T17:23:37.871591Z",
     "iopub.status.idle": "2024-03-20T17:23:37.979009Z",
     "shell.execute_reply": "2024-03-20T17:23:37.977984Z"
    },
    "papermill": {
     "duration": 0.119064,
     "end_time": "2024-03-20T17:23:37.981062",
     "exception": false,
     "start_time": "2024-03-20T17:23:37.861998",
     "status": "completed"
    },
    "tags": []
   },
   "outputs": [
    {
     "data": {
      "text/plain": [
       "array([[0., 0., 0., ..., 0., 0., 0.],\n",
       "       [0., 0., 0., ..., 0., 0., 0.],\n",
       "       [0., 0., 0., ..., 0., 0., 0.],\n",
       "       ...,\n",
       "       [0., 0., 0., ..., 0., 0., 0.],\n",
       "       [0., 0., 0., ..., 0., 0., 0.],\n",
       "       [0., 0., 0., ..., 0., 0., 0.]])"
      ]
     },
     "execution_count": 18,
     "metadata": {},
     "output_type": "execute_result"
    }
   ],
   "source": [
    "from sklearn.naive_bayes import GaussianNB, MultinomialNB, BernoulliNB\n",
    "from sklearn.feature_extraction.text import CountVectorizer,TfidfVectorizer\n",
    "cv = CountVectorizer()\n",
    "tfidf = TfidfVectorizer(max_features=3000)\n",
    "gb = GaussianNB()\n",
    "mb = MultinomialNB()\n",
    "bb = BernoulliNB()\n",
    "\n",
    "#seperating X and y\n",
    "X = tfidf.fit_transform(spam_df['transformed']).toarray()\n",
    "y = spam_df['v1']\n",
    "X"
   ]
  },
  {
   "cell_type": "code",
   "execution_count": 19,
   "id": "cb37d333",
   "metadata": {
    "execution": {
     "iopub.execute_input": "2024-03-20T17:23:37.999419Z",
     "iopub.status.busy": "2024-03-20T17:23:37.999103Z",
     "iopub.status.idle": "2024-03-20T17:23:38.030267Z",
     "shell.execute_reply": "2024-03-20T17:23:38.029341Z"
    },
    "papermill": {
     "duration": 0.042484,
     "end_time": "2024-03-20T17:23:38.032083",
     "exception": false,
     "start_time": "2024-03-20T17:23:37.989599",
     "status": "completed"
    },
    "tags": []
   },
   "outputs": [
    {
     "data": {
      "text/plain": [
       "(4135, 3000)"
      ]
     },
     "execution_count": 19,
     "metadata": {},
     "output_type": "execute_result"
    }
   ],
   "source": [
    "from sklearn.model_selection import train_test_split\n",
    "X_train,X_test,y_train,y_test = train_test_split(X,y,test_size = 0.2)\n",
    "X_train.shape"
   ]
  },
  {
   "cell_type": "markdown",
   "id": "d9605af1",
   "metadata": {
    "papermill": {
     "duration": 0.008147,
     "end_time": "2024-03-20T17:23:38.049038",
     "exception": false,
     "start_time": "2024-03-20T17:23:38.040891",
     "status": "completed"
    },
    "tags": []
   },
   "source": [
    "# Checking the three model for better result "
   ]
  },
  {
   "cell_type": "code",
   "execution_count": 20,
   "id": "9463b7b9",
   "metadata": {
    "execution": {
     "iopub.execute_input": "2024-03-20T17:23:38.066997Z",
     "iopub.status.busy": "2024-03-20T17:23:38.066704Z",
     "iopub.status.idle": "2024-03-20T17:23:38.109718Z",
     "shell.execute_reply": "2024-03-20T17:23:38.108861Z"
    },
    "papermill": {
     "duration": 0.054208,
     "end_time": "2024-03-20T17:23:38.111613",
     "exception": false,
     "start_time": "2024-03-20T17:23:38.057405",
     "status": "completed"
    },
    "tags": []
   },
   "outputs": [
    {
     "data": {
      "text/plain": [
       "0.9845223700120919"
      ]
     },
     "execution_count": 20,
     "metadata": {},
     "output_type": "execute_result"
    }
   ],
   "source": [
    "# gb.fit(X_train,y_train)\n",
    "# gb.score(X_test,y_test)\n",
    "mb.fit(X_train, y_train)\n",
    "mb.score(X_train, y_train)\n",
    "# bb.fit(X_train,y_train)\n",
    "# bb.score(X_test,y_test)"
   ]
  },
  {
   "cell_type": "markdown",
   "id": "93e0aa87",
   "metadata": {
    "papermill": {
     "duration": 0.011212,
     "end_time": "2024-03-20T17:23:38.134592",
     "exception": false,
     "start_time": "2024-03-20T17:23:38.123380",
     "status": "completed"
    },
    "tags": []
   },
   "source": [
    "so experimenting on the model I came to realize that the mb is fittest one among the three I do not want try more models\n",
    "becuase I am very lazy hehehehehe"
   ]
  },
  {
   "cell_type": "code",
   "execution_count": 21,
   "id": "a1f8af91",
   "metadata": {
    "execution": {
     "iopub.execute_input": "2024-03-20T17:23:38.158626Z",
     "iopub.status.busy": "2024-03-20T17:23:38.158063Z",
     "iopub.status.idle": "2024-03-20T17:23:38.174964Z",
     "shell.execute_reply": "2024-03-20T17:23:38.174131Z"
    },
    "papermill": {
     "duration": 0.030998,
     "end_time": "2024-03-20T17:23:38.176838",
     "exception": false,
     "start_time": "2024-03-20T17:23:38.145840",
     "status": "completed"
    },
    "tags": []
   },
   "outputs": [],
   "source": [
    "import pickle\n",
    "pickle.dump(tfidf, open('vectorizer.pkl', 'wb'))\n",
    "pickle.dump(mb, open('model.pkl', 'wb'))"
   ]
  }
 ],
 "metadata": {
  "kaggle": {
   "accelerator": "none",
   "dataSources": [
    {
     "datasetId": 483,
     "sourceId": 982,
     "sourceType": "datasetVersion"
    }
   ],
   "dockerImageVersionId": 30664,
   "isGpuEnabled": false,
   "isInternetEnabled": true,
   "language": "python",
   "sourceType": "notebook"
  },
  "kernelspec": {
   "display_name": "Python 3",
   "language": "python",
   "name": "python3"
  },
  "language_info": {
   "codemirror_mode": {
    "name": "ipython",
    "version": 3
   },
   "file_extension": ".py",
   "mimetype": "text/x-python",
   "name": "python",
   "nbconvert_exporter": "python",
   "pygments_lexer": "ipython3",
   "version": "3.10.13"
  },
  "papermill": {
   "default_parameters": {},
   "duration": 39.787715,
   "end_time": "2024-03-20T17:23:38.707791",
   "environment_variables": {},
   "exception": null,
   "input_path": "__notebook__.ipynb",
   "output_path": "__notebook__.ipynb",
   "parameters": {},
   "start_time": "2024-03-20T17:22:58.920076",
   "version": "2.5.0"
  }
 },
 "nbformat": 4,
 "nbformat_minor": 5
}
