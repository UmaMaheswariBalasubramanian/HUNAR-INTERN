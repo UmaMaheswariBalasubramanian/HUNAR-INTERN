{
 "cells": [
  {
   "cell_type": "code",
   "execution_count": 1,
   "id": "88ed7e1a",
   "metadata": {
    "_cell_guid": "b1076dfc-b9ad-4769-8c92-a6c4dae69d19",
    "_uuid": "8f2839f25d086af736a60e9eeb907d3b93b6e0e5",
    "execution": {
     "iopub.execute_input": "2024-04-09T07:05:39.744044Z",
     "iopub.status.busy": "2024-04-09T07:05:39.743456Z",
     "iopub.status.idle": "2024-04-09T07:05:39.752282Z",
     "shell.execute_reply": "2024-04-09T07:05:39.752882Z",
     "shell.execute_reply.started": "2024-04-09T06:56:19.153321Z"
    },
    "papermill": {
     "duration": 0.035508,
     "end_time": "2024-04-09T07:05:39.753160",
     "exception": false,
     "start_time": "2024-04-09T07:05:39.717652",
     "status": "completed"
    },
    "tags": []
   },
   "outputs": [
    {
     "name": "stdout",
     "output_type": "stream",
     "text": [
      "/kaggle/input/sms-spam-collection-dataset/spam.csv\n"
     ]
    }
   ],
   "source": [
    "#Estudo de caso 5 do curso de Introduação à Ciência de Dados Aplicada à Cibersegurança\n",
    "\n",
    "#Importando bibliotecas básicas\n",
    "\n",
    "import numpy as np # vetores e matrizes \n",
    "import pandas as pd # processamento dos dados, arquivo CSV I/O (e.g. pd.read_csv)\n",
    "\n",
    "# Input data files are available in the read-only \"../input/\" directory\n",
    "# For example, running this (by clicking run or pressing Shift+Enter) will list all files under the input directory\n",
    "\n",
    "import os\n",
    "for dirname, _, filenames in os.walk('/kaggle/input'):\n",
    "    for filename in filenames:\n",
    "        print(os.path.join(dirname, filename))\n",
    "\n",
    "# You can write up to 20GB to the current directory (/kaggle/working/) that gets preserved as output when you create a version using \"Save & Run All\" \n",
    "# You can also write temporary files to /kaggle/temp/, but they won't be saved outside of the current session"
   ]
  },
  {
   "cell_type": "markdown",
   "id": "9af9e50f",
   "metadata": {
    "papermill": {
     "duration": 0.015124,
     "end_time": "2024-04-09T07:05:39.783609",
     "exception": false,
     "start_time": "2024-04-09T07:05:39.768485",
     "status": "completed"
    },
    "tags": []
   },
   "source": [
    "# Jefferson Lopes\n",
    "# Cibersegurança - 2024/1"
   ]
  },
  {
   "cell_type": "code",
   "execution_count": 2,
   "id": "c443e8e0",
   "metadata": {
    "execution": {
     "iopub.execute_input": "2024-04-09T07:05:39.822626Z",
     "iopub.status.busy": "2024-04-09T07:05:39.821994Z",
     "iopub.status.idle": "2024-04-09T07:05:39.877660Z",
     "shell.execute_reply": "2024-04-09T07:05:39.877265Z",
     "shell.execute_reply.started": "2024-04-09T06:56:19.196644Z"
    },
    "papermill": {
     "duration": 0.075893,
     "end_time": "2024-04-09T07:05:39.877829",
     "exception": false,
     "start_time": "2024-04-09T07:05:39.801936",
     "status": "completed"
    },
    "tags": []
   },
   "outputs": [
    {
     "data": {
      "text/html": [
       "<div>\n",
       "<style scoped>\n",
       "    .dataframe tbody tr th:only-of-type {\n",
       "        vertical-align: middle;\n",
       "    }\n",
       "\n",
       "    .dataframe tbody tr th {\n",
       "        vertical-align: top;\n",
       "    }\n",
       "\n",
       "    .dataframe thead th {\n",
       "        text-align: right;\n",
       "    }\n",
       "</style>\n",
       "<table border=\"1\" class=\"dataframe\">\n",
       "  <thead>\n",
       "    <tr style=\"text-align: right;\">\n",
       "      <th></th>\n",
       "      <th>label</th>\n",
       "      <th>message</th>\n",
       "    </tr>\n",
       "  </thead>\n",
       "  <tbody>\n",
       "    <tr>\n",
       "      <th>0</th>\n",
       "      <td>ham</td>\n",
       "      <td>Go until jurong point, crazy.. Available only ...</td>\n",
       "    </tr>\n",
       "    <tr>\n",
       "      <th>1</th>\n",
       "      <td>ham</td>\n",
       "      <td>Ok lar... Joking wif u oni...</td>\n",
       "    </tr>\n",
       "    <tr>\n",
       "      <th>2</th>\n",
       "      <td>spam</td>\n",
       "      <td>Free entry in 2 a wkly comp to win FA Cup fina...</td>\n",
       "    </tr>\n",
       "    <tr>\n",
       "      <th>3</th>\n",
       "      <td>ham</td>\n",
       "      <td>U dun say so early hor... U c already then say...</td>\n",
       "    </tr>\n",
       "    <tr>\n",
       "      <th>4</th>\n",
       "      <td>ham</td>\n",
       "      <td>Nah I don't think he goes to usf, he lives aro...</td>\n",
       "    </tr>\n",
       "  </tbody>\n",
       "</table>\n",
       "</div>"
      ],
      "text/plain": [
       "  label                                            message\n",
       "0   ham  Go until jurong point, crazy.. Available only ...\n",
       "1   ham                      Ok lar... Joking wif u oni...\n",
       "2  spam  Free entry in 2 a wkly comp to win FA Cup fina...\n",
       "3   ham  U dun say so early hor... U c already then say...\n",
       "4   ham  Nah I don't think he goes to usf, he lives aro..."
      ]
     },
     "execution_count": 2,
     "metadata": {},
     "output_type": "execute_result"
    }
   ],
   "source": [
    "# Importando a base de dados para o pandas\n",
    "\n",
    "sms = pd.read_csv(\"/kaggle/input/sms-spam-collection-dataset/spam.csv\", encoding = \"ISO-8859-1\", usecols=[0,1], skiprows=1,\n",
    "                  names=[\"label\", \"message\"])\n",
    "sms.head()"
   ]
  },
  {
   "cell_type": "code",
   "execution_count": 3,
   "id": "16861e5b",
   "metadata": {
    "execution": {
     "iopub.execute_input": "2024-04-09T07:05:39.915899Z",
     "iopub.status.busy": "2024-04-09T07:05:39.915206Z",
     "iopub.status.idle": "2024-04-09T07:05:39.923105Z",
     "shell.execute_reply": "2024-04-09T07:05:39.923615Z",
     "shell.execute_reply.started": "2024-04-09T06:56:19.262890Z"
    },
    "papermill": {
     "duration": 0.031031,
     "end_time": "2024-04-09T07:05:39.923799",
     "exception": false,
     "start_time": "2024-04-09T07:05:39.892768",
     "status": "completed"
    },
    "tags": []
   },
   "outputs": [],
   "source": [
    "sms.label = sms.label.map({\"ham\":0, \"spam\":1})"
   ]
  },
  {
   "cell_type": "code",
   "execution_count": 4,
   "id": "1ed73629",
   "metadata": {
    "execution": {
     "iopub.execute_input": "2024-04-09T07:05:39.962005Z",
     "iopub.status.busy": "2024-04-09T07:05:39.961401Z",
     "iopub.status.idle": "2024-04-09T07:05:39.964746Z",
     "shell.execute_reply": "2024-04-09T07:05:39.965241Z",
     "shell.execute_reply.started": "2024-04-09T06:56:19.285323Z"
    },
    "papermill": {
     "duration": 0.02579,
     "end_time": "2024-04-09T07:05:39.965382",
     "exception": false,
     "start_time": "2024-04-09T07:05:39.939592",
     "status": "completed"
    },
    "tags": []
   },
   "outputs": [
    {
     "data": {
      "text/plain": [
       "0    4825\n",
       "1     747\n",
       "Name: label, dtype: int64"
      ]
     },
     "execution_count": 4,
     "metadata": {},
     "output_type": "execute_result"
    }
   ],
   "source": [
    "# mais casos negativos (ham) que positivos (spams) \n",
    "sms.label.value_counts()"
   ]
  },
  {
   "cell_type": "code",
   "execution_count": 5,
   "id": "bd64c21c",
   "metadata": {
    "execution": {
     "iopub.execute_input": "2024-04-09T07:05:40.001159Z",
     "iopub.status.busy": "2024-04-09T07:05:40.000487Z",
     "iopub.status.idle": "2024-04-09T07:05:40.911725Z",
     "shell.execute_reply": "2024-04-09T07:05:40.911103Z",
     "shell.execute_reply.started": "2024-04-09T06:56:19.303366Z"
    },
    "papermill": {
     "duration": 0.931094,
     "end_time": "2024-04-09T07:05:40.911852",
     "exception": false,
     "start_time": "2024-04-09T07:05:39.980758",
     "status": "completed"
    },
    "tags": []
   },
   "outputs": [],
   "source": [
    "#Dividindo a base em treino e teste\n",
    "from sklearn.model_selection import train_test_split\n",
    "features_train, features_test, labels_train, labels_test = train_test_split(sms.message, \n",
    "                                                                            sms.label, \n",
    "                                                                            test_size=0.2)"
   ]
  },
  {
   "cell_type": "code",
   "execution_count": 6,
   "id": "ad2d5a3c",
   "metadata": {
    "execution": {
     "iopub.execute_input": "2024-04-09T07:05:40.947042Z",
     "iopub.status.busy": "2024-04-09T07:05:40.946519Z",
     "iopub.status.idle": "2024-04-09T07:05:41.047448Z",
     "shell.execute_reply": "2024-04-09T07:05:41.046735Z",
     "shell.execute_reply.started": "2024-04-09T06:56:20.507556Z"
    },
    "papermill": {
     "duration": 0.119962,
     "end_time": "2024-04-09T07:05:41.047622",
     "exception": false,
     "start_time": "2024-04-09T07:05:40.927660",
     "status": "completed"
    },
    "tags": []
   },
   "outputs": [
    {
     "data": {
      "text/plain": [
       "CountVectorizer()"
      ]
     },
     "execution_count": 6,
     "metadata": {},
     "output_type": "execute_result"
    }
   ],
   "source": [
    "# Criando o documento de treino\n",
    "\n",
    "from sklearn.feature_extraction.text import CountVectorizer\n",
    "\n",
    "couvec = CountVectorizer()\n",
    "couvec.fit(features_train)"
   ]
  },
  {
   "cell_type": "code",
   "execution_count": 7,
   "id": "dad39101",
   "metadata": {
    "execution": {
     "iopub.execute_input": "2024-04-09T07:05:41.082657Z",
     "iopub.status.busy": "2024-04-09T07:05:41.082106Z",
     "iopub.status.idle": "2024-04-09T07:05:41.091803Z",
     "shell.execute_reply": "2024-04-09T07:05:41.092246Z",
     "shell.execute_reply.started": "2024-04-09T06:56:20.680570Z"
    },
    "papermill": {
     "duration": 0.028136,
     "end_time": "2024-04-09T07:05:41.092407",
     "exception": false,
     "start_time": "2024-04-09T07:05:41.064271",
     "status": "completed"
    },
    "tags": []
   },
   "outputs": [
    {
     "name": "stdout",
     "output_type": "stream",
     "text": [
      "Número de características vetorizadas: 7742\n",
      "Exemplos de características treinadas: ['000', '000pes', '008704050406', '0089', '01223585236', '01223585334', '0125698789', '02', '0207']\n"
     ]
    }
   ],
   "source": [
    "# número de características ou tokens\n",
    "trained_features = couvec.get_feature_names()\n",
    "print(\"Número de características vetorizadas:\", len(trained_features))\n",
    "print(\"Exemplos de características treinadas:\", trained_features[1:10])"
   ]
  },
  {
   "cell_type": "code",
   "execution_count": 8,
   "id": "adfa9979",
   "metadata": {
    "execution": {
     "iopub.execute_input": "2024-04-09T07:05:41.138021Z",
     "iopub.status.busy": "2024-04-09T07:05:41.132648Z",
     "iopub.status.idle": "2024-04-09T07:05:41.206481Z",
     "shell.execute_reply": "2024-04-09T07:05:41.206937Z",
     "shell.execute_reply.started": "2024-04-09T06:56:20.695547Z"
    },
    "papermill": {
     "duration": 0.098578,
     "end_time": "2024-04-09T07:05:41.207088",
     "exception": false,
     "start_time": "2024-04-09T07:05:41.108510",
     "status": "completed"
    },
    "tags": []
   },
   "outputs": [
    {
     "name": "stdout",
     "output_type": "stream",
     "text": [
      "Shape of dtm_train: (4457, 7742)\n",
      "  (0, 3441)\t1\n",
      "  (0, 3287)\t1\n",
      "  (0, 3174)\t1\n",
      "  (0, 2189)\t1\n",
      "  (0, 3349)\t1\n",
      "  (0, 7686)\t1\n",
      "  (0, 6390)\t1\n",
      "  (0, 6916)\t1\n",
      "  (0, 6159)\t1\n",
      "  (0, 6798)\t1\n",
      "  (0, 7421)\t1\n",
      "  (1, 6916)\t1\n",
      "  (1, 6798)\t1\n",
      "  (1, 6600)\t1\n",
      "  (1, 5526)\t1\n",
      "  (1, 7537)\t1\n",
      "  (1, 7499)\t1\n",
      "  (1, 6960)\t1\n",
      "  (1, 6305)\t1\n",
      "  (1, 2496)\t1\n",
      "  (1, 5235)\t1\n",
      "  (1, 3593)\t1\n",
      "  (1, 3951)\t1\n",
      "  (1, 7471)\t1\n",
      "  (1, 2041)\t1\n",
      "  (1, 911)\t1\n",
      "  (1, 3738)\t1\n",
      "  (1, 3633)\t1\n",
      "  (1, 7080)\t1\n",
      "  (1, 987)\t1\n",
      "  (1, 663)\t1\n",
      "  (1, 543)\t1\n",
      "  (1, 6337)\t1\n",
      "  (1, 7095)\t1\n"
     ]
    }
   ],
   "source": [
    "# tokenized train documents\n",
    "\n",
    "dtm_train = couvec.fit_transform(features_train)\n",
    "print(\"Shape of dtm_train:\", dtm_train.shape)\n",
    "print(dtm_train[0:2]) # first two rows of sparse matrix"
   ]
  },
  {
   "cell_type": "code",
   "execution_count": 9,
   "id": "e7b075e1",
   "metadata": {
    "execution": {
     "iopub.execute_input": "2024-04-09T07:05:41.261363Z",
     "iopub.status.busy": "2024-04-09T07:05:41.260501Z",
     "iopub.status.idle": "2024-04-09T07:05:41.265210Z",
     "shell.execute_reply": "2024-04-09T07:05:41.264622Z",
     "shell.execute_reply.started": "2024-04-09T06:56:20.842012Z"
    },
    "papermill": {
     "duration": 0.040676,
     "end_time": "2024-04-09T07:05:41.265352",
     "exception": false,
     "start_time": "2024-04-09T07:05:41.224676",
     "status": "completed"
    },
    "tags": []
   },
   "outputs": [
    {
     "name": "stdout",
     "output_type": "stream",
     "text": [
      "Shape of dtm_test: (1115, 7742)\n"
     ]
    }
   ],
   "source": [
    "# tokenized test documents\n",
    "\n",
    "dtm_test = couvec.transform(features_test)\n",
    "print(\"Shape of dtm_test:\", dtm_test.shape)"
   ]
  },
  {
   "cell_type": "code",
   "execution_count": 10,
   "id": "2958a988",
   "metadata": {
    "execution": {
     "iopub.execute_input": "2024-04-09T07:05:41.303637Z",
     "iopub.status.busy": "2024-04-09T07:05:41.303011Z",
     "iopub.status.idle": "2024-04-09T07:05:41.308971Z",
     "shell.execute_reply": "2024-04-09T07:05:41.308414Z",
     "shell.execute_reply.started": "2024-04-09T06:56:20.882638Z"
    },
    "papermill": {
     "duration": 0.026862,
     "end_time": "2024-04-09T07:05:41.309110",
     "exception": false,
     "start_time": "2024-04-09T07:05:41.282248",
     "status": "completed"
    },
    "tags": []
   },
   "outputs": [],
   "source": [
    "# Construíndo e avaliando o modelo \n",
    "\n",
    "# Multimodal Naive Bayes \n",
    "# O classificador multimodal Naive Bays é útil para classificar características discretas. \n",
    "# (e.g., número de palavras para classificação de textos). \n",
    "# A distribuição multimodal requer geralmente contadores inteiros como features.\n",
    "\n",
    "# Importando e instanciando o modelo Nayve Bayes Multimodal\n",
    "from sklearn.naive_bayes import MultinomialNB\n",
    "nb = MultinomialNB()"
   ]
  },
  {
   "cell_type": "code",
   "execution_count": 11,
   "id": "a4756253",
   "metadata": {
    "execution": {
     "iopub.execute_input": "2024-04-09T07:05:41.347391Z",
     "iopub.status.busy": "2024-04-09T07:05:41.346748Z",
     "iopub.status.idle": "2024-04-09T07:05:41.353320Z",
     "shell.execute_reply": "2024-04-09T07:05:41.352876Z",
     "shell.execute_reply.started": "2024-04-09T06:56:20.892188Z"
    },
    "papermill": {
     "duration": 0.027711,
     "end_time": "2024-04-09T07:05:41.353442",
     "exception": false,
     "start_time": "2024-04-09T07:05:41.325731",
     "status": "completed"
    },
    "tags": []
   },
   "outputs": [
    {
     "data": {
      "text/plain": [
       "MultinomialNB()"
      ]
     },
     "execution_count": 11,
     "metadata": {},
     "output_type": "execute_result"
    }
   ],
   "source": [
    "# Treinando o modelo\n",
    "\n",
    "nb.fit(dtm_train, labels_train)"
   ]
  },
  {
   "cell_type": "code",
   "execution_count": 12,
   "id": "7f1d8a9c",
   "metadata": {
    "execution": {
     "iopub.execute_input": "2024-04-09T07:05:41.391184Z",
     "iopub.status.busy": "2024-04-09T07:05:41.390634Z",
     "iopub.status.idle": "2024-04-09T07:05:41.393941Z",
     "shell.execute_reply": "2024-04-09T07:05:41.393384Z",
     "shell.execute_reply.started": "2024-04-09T06:56:20.905762Z"
    },
    "papermill": {
     "duration": 0.023998,
     "end_time": "2024-04-09T07:05:41.394074",
     "exception": false,
     "start_time": "2024-04-09T07:05:41.370076",
     "status": "completed"
    },
    "tags": []
   },
   "outputs": [],
   "source": [
    "# Fazendo predições\n",
    "\n",
    "labels_pred = nb.predict(dtm_test)"
   ]
  },
  {
   "cell_type": "code",
   "execution_count": 13,
   "id": "32c164c9",
   "metadata": {
    "execution": {
     "iopub.execute_input": "2024-04-09T07:05:41.431657Z",
     "iopub.status.busy": "2024-04-09T07:05:41.430916Z",
     "iopub.status.idle": "2024-04-09T07:05:41.437255Z",
     "shell.execute_reply": "2024-04-09T07:05:41.436666Z",
     "shell.execute_reply.started": "2024-04-09T06:56:20.911787Z"
    },
    "papermill": {
     "duration": 0.026211,
     "end_time": "2024-04-09T07:05:41.437389",
     "exception": false,
     "start_time": "2024-04-09T07:05:41.411178",
     "status": "completed"
    },
    "tags": []
   },
   "outputs": [
    {
     "data": {
      "text/plain": [
       "0.9838565022421525"
      ]
     },
     "execution_count": 13,
     "metadata": {},
     "output_type": "execute_result"
    }
   ],
   "source": [
    "# Acurácia\n",
    "from sklearn import metrics\n",
    "metrics.accuracy_score(labels_test, labels_pred)"
   ]
  },
  {
   "cell_type": "code",
   "execution_count": 14,
   "id": "713a5337",
   "metadata": {
    "execution": {
     "iopub.execute_input": "2024-04-09T07:05:41.477116Z",
     "iopub.status.busy": "2024-04-09T07:05:41.476452Z",
     "iopub.status.idle": "2024-04-09T07:05:41.482520Z",
     "shell.execute_reply": "2024-04-09T07:05:41.482979Z",
     "shell.execute_reply.started": "2024-04-09T06:56:20.924872Z"
    },
    "papermill": {
     "duration": 0.028243,
     "end_time": "2024-04-09T07:05:41.483159",
     "exception": false,
     "start_time": "2024-04-09T07:05:41.454916",
     "status": "completed"
    },
    "tags": []
   },
   "outputs": [
    {
     "data": {
      "text/plain": [
       "array([[952,   5],\n",
       "       [ 13, 145]])"
      ]
     },
     "execution_count": 14,
     "metadata": {},
     "output_type": "execute_result"
    }
   ],
   "source": [
    "# Criando a matrix de confusão para precisão e recall (essas são duas outrss métricas de avaliação) \n",
    "metrics.confusion_matrix(labels_test, labels_pred)"
   ]
  },
  {
   "cell_type": "code",
   "execution_count": 15,
   "id": "1824b535",
   "metadata": {
    "execution": {
     "iopub.execute_input": "2024-04-09T07:05:41.524759Z",
     "iopub.status.busy": "2024-04-09T07:05:41.521889Z",
     "iopub.status.idle": "2024-04-09T07:05:41.530423Z",
     "shell.execute_reply": "2024-04-09T07:05:41.529947Z",
     "shell.execute_reply.started": "2024-04-09T06:56:20.936668Z"
    },
    "papermill": {
     "duration": 0.029412,
     "end_time": "2024-04-09T07:05:41.530535",
     "exception": false,
     "start_time": "2024-04-09T07:05:41.501123",
     "status": "completed"
    },
    "tags": []
   },
   "outputs": [
    {
     "name": "stdout",
     "output_type": "stream",
     "text": [
      "Recall: 0.9177215189873418\n",
      "Precisão: 0.9666666666666667\n"
     ]
    }
   ],
   "source": [
    "# Percentagem do total de spams detectados i.e.recall\n",
    "print(\"Recall:\", metrics.recall_score(labels_test, labels_pred))\n",
    "\n",
    "# Percentagem das predições positivas (spams) corretas, i.e. precisão\n",
    "print(\"Precisão:\", metrics.precision_score(labels_test, labels_pred))"
   ]
  },
  {
   "cell_type": "code",
   "execution_count": 16,
   "id": "7910c154",
   "metadata": {
    "execution": {
     "iopub.execute_input": "2024-04-09T07:05:41.570897Z",
     "iopub.status.busy": "2024-04-09T07:05:41.570381Z",
     "iopub.status.idle": "2024-04-09T07:05:41.574191Z",
     "shell.execute_reply": "2024-04-09T07:05:41.573667Z",
     "shell.execute_reply.started": "2024-04-09T06:56:20.948121Z"
    },
    "papermill": {
     "duration": 0.026084,
     "end_time": "2024-04-09T07:05:41.574302",
     "exception": false,
     "start_time": "2024-04-09T07:05:41.548218",
     "status": "completed"
    },
    "tags": []
   },
   "outputs": [
    {
     "name": "stdout",
     "output_type": "stream",
     "text": [
      "Ordem das classes no predict_proba: [0 1]\n",
      "Exemplos de probabilidades de classes: [9.99976395e-01 2.36052344e-05]\n"
     ]
    }
   ],
   "source": [
    "print(\"Ordem das classes no predict_proba:\", nb.classes_)\n",
    "print(\"Exemplos de probabilidades de classes:\", nb.predict_proba(dtm_test)[0])\n"
   ]
  },
  {
   "cell_type": "code",
   "execution_count": 17,
   "id": "571a1f91",
   "metadata": {
    "execution": {
     "iopub.execute_input": "2024-04-09T07:05:41.615974Z",
     "iopub.status.busy": "2024-04-09T07:05:41.615387Z",
     "iopub.status.idle": "2024-04-09T07:05:41.620964Z",
     "shell.execute_reply": "2024-04-09T07:05:41.620477Z",
     "shell.execute_reply.started": "2024-04-09T06:56:20.960566Z"
    },
    "papermill": {
     "duration": 0.028466,
     "end_time": "2024-04-09T07:05:41.621091",
     "exception": false,
     "start_time": "2024-04-09T07:05:41.592625",
     "status": "completed"
    },
    "tags": []
   },
   "outputs": [],
   "source": [
    "# Uma vez que somente ~15% dos rótulos são positivos (spam), a curva precisão-recall é mais informativa que\n",
    "# a curva ROC\n",
    "\n",
    "labels_prob = nb.predict_proba(dtm_test)[:, 1]\n",
    "precisions, recalls, thresholds = metrics.precision_recall_curve(labels_test, labels_prob)"
   ]
  },
  {
   "cell_type": "code",
   "execution_count": 18,
   "id": "607eb8ee",
   "metadata": {
    "execution": {
     "iopub.execute_input": "2024-04-09T07:05:41.662169Z",
     "iopub.status.busy": "2024-04-09T07:05:41.661425Z",
     "iopub.status.idle": "2024-04-09T07:05:41.958352Z",
     "shell.execute_reply": "2024-04-09T07:05:41.958898Z",
     "shell.execute_reply.started": "2024-04-09T06:56:20.973870Z"
    },
    "papermill": {
     "duration": 0.319699,
     "end_time": "2024-04-09T07:05:41.959053",
     "exception": false,
     "start_time": "2024-04-09T07:05:41.639354",
     "status": "completed"
    },
    "tags": []
   },
   "outputs": [
    {
     "data": {
      "image/png": "[encoded data removed]",
      "text/plain": [
       "<Figure size 720x504 with 1 Axes>"
      ]
     },
     "metadata": {
      "needs_background": "light"
     },
     "output_type": "display_data"
    }
   ],
   "source": [
    "# Plotando a curva precisão-recall \n",
    "\n",
    "import matplotlib.pyplot as plt\n",
    "plt.figure(figsize=(10, 7))\n",
    "plt.plot(precisions[:-1], recalls[:-1])\n",
    "plt.xlabel(\"Recalls\")\n",
    "plt.xticks(np.arange(0, 1.1, 0.1))\n",
    "plt.ylabel(\"Precisão\")\n",
    "plt.yticks(np.arange(0, 1.1, 0.1))\n",
    "plt.title(\"Curva Precisão-Recall\")\n",
    "plt.show()"
   ]
  },
  {
   "cell_type": "code",
   "execution_count": 19,
   "id": "59ebfd79",
   "metadata": {
    "execution": {
     "iopub.execute_input": "2024-04-09T07:05:42.002998Z",
     "iopub.status.busy": "2024-04-09T07:05:42.002160Z",
     "iopub.status.idle": "2024-04-09T07:05:42.382544Z",
     "shell.execute_reply": "2024-04-09T07:05:42.383142Z",
     "shell.execute_reply.started": "2024-04-09T07:01:51.765206Z"
    },
    "papermill": {
     "duration": 0.404567,
     "end_time": "2024-04-09T07:05:42.383307",
     "exception": false,
     "start_time": "2024-04-09T07:05:41.978740",
     "status": "completed"
    },
    "tags": []
   },
   "outputs": [
    {
     "name": "stdout",
     "output_type": "stream",
     "text": [
      "Acurácia: 0.9695\n",
      "Precisão: 0.9921\n",
      "Recall: 0.7911\n",
      "Matriz de Confusão:\n",
      " [[956   1]\n",
      " [ 33 125]]\n"
     ]
    },
    {
     "data": {
      "image/png": "[encoded data removed]",
      "text/plain": [
       "<Figure size 360x360 with 1 Axes>"
      ]
     },
     "metadata": {
      "needs_background": "light"
     },
     "output_type": "display_data"
    }
   ],
   "source": [
    "from sklearn.feature_extraction.text import TfidfVectorizer\n",
    "from sklearn.linear_model import LogisticRegression\n",
    "from sklearn.metrics import accuracy_score, precision_score, recall_score, confusion_matrix\n",
    "import matplotlib.pyplot as plt\n",
    "import numpy as np\n",
    "\n",
    "tfidf_vectorizer = TfidfVectorizer()\n",
    "X_tfidf_train = tfidf_vectorizer.fit_transform(features_train)\n",
    "X_tfidf_test = tfidf_vectorizer.transform(features_test)\n",
    "\n",
    "lr_model = LogisticRegression()\n",
    "lr_model.fit(X_tfidf_train, labels_train)\n",
    "\n",
    "labels_pred_lr = lr_model.predict(X_tfidf_test)\n",
    "\n",
    "accuracy_lr = accuracy_score(labels_test, labels_pred_lr)\n",
    "precision_lr = precision_score(labels_test, labels_pred_lr, pos_label=1)\n",
    "recall_lr = recall_score(labels_test, labels_pred_lr, pos_label=1)\n",
    "confusion_lr = confusion_matrix(labels_test, labels_pred_lr)\n",
    "\n",
    "print(f\"Acurácia: {accuracy_lr:.4f}\")\n",
    "print(f\"Precisão: {precision_lr:.4f}\")\n",
    "print(f\"Recall: {recall_lr:.4f}\")\n",
    "print(\"Matriz de Confusão:\\n\", confusion_lr)\n",
    "\n",
    "fig, ax = plt.subplots(figsize=(5, 5))\n",
    "ax.matshow(confusion_lr, cmap=plt.cm.Oranges, alpha=0.3)\n",
    "for i in range(confusion_lr.shape[0]):\n",
    "    for j in range(confusion_lr.shape[1]):\n",
    "        ax.text(x=j, y=i, s=confusion_lr[i, j], va='center', ha='center', size='xx-large')\n",
    "\n",
    "plt.xlabel('Predictions', fontsize=18)\n",
    "plt.ylabel('Actuals', fontsize=18)\n",
    "plt.title('Matriz de Confusão', fontsize=18)\n",
    "plt.show()\n"
   ]
  },
  {
   "cell_type": "markdown",
   "id": "7d0133d5",
   "metadata": {
    "papermill": {
     "duration": 0.024335,
     "end_time": "2024-04-09T07:05:42.431434",
     "exception": false,
     "start_time": "2024-04-09T07:05:42.407099",
     "status": "completed"
    },
    "tags": []
   },
   "source": [
    "# Adicionei o TF IDF com mais análises"
   ]
  }
 ],
 "metadata": {
  "kaggle": {
   "accelerator": "none",
   "dataSources": [
    {
     "datasetId": 483,
     "sourceId": 982,
     "sourceType": "datasetVersion"
    }
   ],
   "dockerImageVersionId": 30145,
   "isGpuEnabled": false,
   "isInternetEnabled": false,
   "language": "python",
   "sourceType": "notebook"
  },
  "kernelspec": {
   "display_name": "Python 3",
   "language": "python",
   "name": "python3"
  },
  "language_info": {
   "codemirror_mode": {
    "name": "ipython",
    "version": 3
   },
   "file_extension": ".py",
   "mimetype": "text/x-python",
   "name": "python",
   "nbconvert_exporter": "python",
   "pygments_lexer": "ipython3",
   "version": "3.7.10"
  },
  "papermill": {
   "default_parameters": {},
   "duration": 11.379102,
   "end_time": "2024-04-09T07:05:43.165887",
   "environment_variables": {},
   "exception": null,
   "input_path": "__notebook__.ipynb",
   "output_path": "__notebook__.ipynb",
   "parameters": {},
   "start_time": "2024-04-09T07:05:31.786785",
   "version": "2.3.3"
  }
 },
 "nbformat": 4,
 "nbformat_minor": 5
}
