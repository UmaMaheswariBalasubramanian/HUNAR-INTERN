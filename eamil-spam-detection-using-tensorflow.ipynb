{
 "cells": [
  {
   "cell_type": "markdown",
   "id": "c922d699",
   "metadata": {
    "id": "D4soT8OzSoX4",
    "papermill": {
     "duration": 0.011409,
     "end_time": "2024-05-03T20:24:51.401787",
     "exception": false,
     "start_time": "2024-05-03T20:24:51.390378",
     "status": "completed"
    },
    "tags": []
   },
   "source": [
    "# Import basic libraries"
   ]
  },
  {
   "cell_type": "code",
   "execution_count": 1,
   "id": "ebadb114",
   "metadata": {
    "execution": {
     "iopub.execute_input": "2024-05-03T20:24:51.427062Z",
     "iopub.status.busy": "2024-05-03T20:24:51.426652Z",
     "iopub.status.idle": "2024-05-03T20:25:05.952033Z",
     "shell.execute_reply": "2024-05-03T20:25:05.951002Z"
    },
    "id": "agh461Rhjq3-",
    "papermill": {
     "duration": 14.541662,
     "end_time": "2024-05-03T20:25:05.954617",
     "exception": false,
     "start_time": "2024-05-03T20:24:51.412955",
     "status": "completed"
    },
    "tags": []
   },
   "outputs": [
    {
     "name": "stderr",
     "output_type": "stream",
     "text": [
      "2024-05-03 20:24:54.326586: E external/local_xla/xla/stream_executor/cuda/cuda_dnn.cc:9261] Unable to register cuDNN factory: Attempting to register factory for plugin cuDNN when one has already been registered\n",
      "2024-05-03 20:24:54.326748: E external/local_xla/xla/stream_executor/cuda/cuda_fft.cc:607] Unable to register cuFFT factory: Attempting to register factory for plugin cuFFT when one has already been registered\n",
      "2024-05-03 20:24:54.486475: E external/local_xla/xla/stream_executor/cuda/cuda_blas.cc:1515] Unable to register cuBLAS factory: Attempting to register factory for plugin cuBLAS when one has already been registered\n"
     ]
    }
   ],
   "source": [
    "import numpy as np\n",
    "import pandas as pd\n",
    "import matplotlib.pyplot as plt\n",
    "import tensorflow as tf\n",
    "from sklearn.model_selection import train_test_split"
   ]
  },
  {
   "cell_type": "markdown",
   "id": "c1d83137",
   "metadata": {
    "id": "e1OSYWC0SnCP",
    "papermill": {
     "duration": 0.010663,
     "end_time": "2024-05-03T20:25:05.976503",
     "exception": false,
     "start_time": "2024-05-03T20:25:05.965840",
     "status": "completed"
    },
    "tags": []
   },
   "source": [
    "# Load dataset"
   ]
  },
  {
   "cell_type": "code",
   "execution_count": 2,
   "id": "f0345d9e",
   "metadata": {
    "execution": {
     "iopub.execute_input": "2024-05-03T20:25:06.001480Z",
     "iopub.status.busy": "2024-05-03T20:25:06.000826Z",
     "iopub.status.idle": "2024-05-03T20:25:06.258170Z",
     "shell.execute_reply": "2024-05-03T20:25:06.257024Z"
    },
    "id": "Z54gQ-tmZk5H",
    "outputId": "23949128-37ed-49dd-f72b-6206cf36fdf1",
    "papermill": {
     "duration": 0.271898,
     "end_time": "2024-05-03T20:25:06.260526",
     "exception": false,
     "start_time": "2024-05-03T20:25:05.988628",
     "status": "completed"
    },
    "tags": []
   },
   "outputs": [
    {
     "data": {
      "text/html": [
       "<div>\n",
       "<style scoped>\n",
       "    .dataframe tbody tr th:only-of-type {\n",
       "        vertical-align: middle;\n",
       "    }\n",
       "\n",
       "    .dataframe tbody tr th {\n",
       "        vertical-align: top;\n",
       "    }\n",
       "\n",
       "    .dataframe thead th {\n",
       "        text-align: right;\n",
       "    }\n",
       "</style>\n",
       "<table border=\"1\" class=\"dataframe\">\n",
       "  <thead>\n",
       "    <tr style=\"text-align: right;\">\n",
       "      <th></th>\n",
       "      <th>v1</th>\n",
       "      <th>v2</th>\n",
       "      <th>Unnamed: 2</th>\n",
       "      <th>Unnamed: 3</th>\n",
       "      <th>Unnamed: 4</th>\n",
       "    </tr>\n",
       "  </thead>\n",
       "  <tbody>\n",
       "    <tr>\n",
       "      <th>0</th>\n",
       "      <td>ham</td>\n",
       "      <td>Go until jurong point, crazy.. Available only ...</td>\n",
       "      <td>NaN</td>\n",
       "      <td>NaN</td>\n",
       "      <td>NaN</td>\n",
       "    </tr>\n",
       "    <tr>\n",
       "      <th>1</th>\n",
       "      <td>ham</td>\n",
       "      <td>Ok lar... Joking wif u oni...</td>\n",
       "      <td>NaN</td>\n",
       "      <td>NaN</td>\n",
       "      <td>NaN</td>\n",
       "    </tr>\n",
       "    <tr>\n",
       "      <th>2</th>\n",
       "      <td>spam</td>\n",
       "      <td>Free entry in 2 a wkly comp to win FA Cup fina...</td>\n",
       "      <td>NaN</td>\n",
       "      <td>NaN</td>\n",
       "      <td>NaN</td>\n",
       "    </tr>\n",
       "    <tr>\n",
       "      <th>3</th>\n",
       "      <td>ham</td>\n",
       "      <td>U dun say so early hor... U c already then say...</td>\n",
       "      <td>NaN</td>\n",
       "      <td>NaN</td>\n",
       "      <td>NaN</td>\n",
       "    </tr>\n",
       "    <tr>\n",
       "      <th>4</th>\n",
       "      <td>ham</td>\n",
       "      <td>Nah I don't think he goes to usf, he lives aro...</td>\n",
       "      <td>NaN</td>\n",
       "      <td>NaN</td>\n",
       "      <td>NaN</td>\n",
       "    </tr>\n",
       "  </tbody>\n",
       "</table>\n",
       "</div>"
      ],
      "text/plain": [
       "     v1                                                 v2 Unnamed: 2  \\\n",
       "0   ham  Go until jurong point, crazy.. Available only ...        NaN   \n",
       "1   ham                      Ok lar... Joking wif u oni...        NaN   \n",
       "2  spam  Free entry in 2 a wkly comp to win FA Cup fina...        NaN   \n",
       "3   ham  U dun say so early hor... U c already then say...        NaN   \n",
       "4   ham  Nah I don't think he goes to usf, he lives aro...        NaN   \n",
       "\n",
       "  Unnamed: 3 Unnamed: 4  \n",
       "0        NaN        NaN  \n",
       "1        NaN        NaN  \n",
       "2        NaN        NaN  \n",
       "3        NaN        NaN  \n",
       "4        NaN        NaN  "
      ]
     },
     "execution_count": 2,
     "metadata": {},
     "output_type": "execute_result"
    }
   ],
   "source": [
    "data = pd.read_csv(\"/kaggle/input/sms-spam-collection-dataset/spam.csv\", encoding='latin-1')\n",
    "data.head()"
   ]
  },
  {
   "cell_type": "markdown",
   "id": "ea5e8101",
   "metadata": {
    "id": "S1TVSz4qSxvX",
    "papermill": {
     "duration": 0.011341,
     "end_time": "2024-05-03T20:25:06.283204",
     "exception": false,
     "start_time": "2024-05-03T20:25:06.271863",
     "status": "completed"
    },
    "tags": []
   },
   "source": [
    "# EDA"
   ]
  },
  {
   "cell_type": "markdown",
   "id": "c6a61e47",
   "metadata": {
    "id": "GgCrCT-sS5Vo",
    "papermill": {
     "duration": 0.010884,
     "end_time": "2024-05-03T20:25:06.305322",
     "exception": false,
     "start_time": "2024-05-03T20:25:06.294438",
     "status": "completed"
    },
    "tags": []
   },
   "source": [
    "## Remove unwanted columns and rename the needed ones"
   ]
  },
  {
   "cell_type": "code",
   "execution_count": 3,
   "id": "d8e2fc0d",
   "metadata": {
    "execution": {
     "iopub.execute_input": "2024-05-03T20:25:06.329772Z",
     "iopub.status.busy": "2024-05-03T20:25:06.328950Z",
     "iopub.status.idle": "2024-05-03T20:25:06.339709Z",
     "shell.execute_reply": "2024-05-03T20:25:06.338731Z"
    },
    "id": "p0-KlnO0w4FP",
    "papermill": {
     "duration": 0.025258,
     "end_time": "2024-05-03T20:25:06.341788",
     "exception": false,
     "start_time": "2024-05-03T20:25:06.316530",
     "status": "completed"
    },
    "tags": []
   },
   "outputs": [],
   "source": [
    "data.drop(['Unnamed: 2', 'Unnamed: 3', 'Unnamed: 4'], axis=1, inplace=True)\n",
    "data.columns = ['label', 'text']"
   ]
  },
  {
   "cell_type": "code",
   "execution_count": 4,
   "id": "027d437f",
   "metadata": {
    "execution": {
     "iopub.execute_input": "2024-05-03T20:25:06.367050Z",
     "iopub.status.busy": "2024-05-03T20:25:06.365986Z",
     "iopub.status.idle": "2024-05-03T20:25:06.375996Z",
     "shell.execute_reply": "2024-05-03T20:25:06.374903Z"
    },
    "id": "p41ygzCxcyYO",
    "outputId": "69c90bf9-6f75-4152-fb56-d310bd9fc95e",
    "papermill": {
     "duration": 0.024766,
     "end_time": "2024-05-03T20:25:06.378212",
     "exception": false,
     "start_time": "2024-05-03T20:25:06.353446",
     "status": "completed"
    },
    "tags": []
   },
   "outputs": [
    {
     "data": {
      "text/plain": [
       "label    0\n",
       "text     0\n",
       "dtype: int64"
      ]
     },
     "execution_count": 4,
     "metadata": {},
     "output_type": "execute_result"
    }
   ],
   "source": [
    "data.isna().sum()"
   ]
  },
  {
   "cell_type": "code",
   "execution_count": 5,
   "id": "32be380a",
   "metadata": {
    "execution": {
     "iopub.execute_input": "2024-05-03T20:25:06.402758Z",
     "iopub.status.busy": "2024-05-03T20:25:06.402035Z",
     "iopub.status.idle": "2024-05-03T20:25:06.412390Z",
     "shell.execute_reply": "2024-05-03T20:25:06.411203Z"
    },
    "id": "vPIx8jynbdoA",
    "outputId": "1b680378-4c94-4d2a-e3b9-a4a36e02f59b",
    "papermill": {
     "duration": 0.025094,
     "end_time": "2024-05-03T20:25:06.414647",
     "exception": false,
     "start_time": "2024-05-03T20:25:06.389553",
     "status": "completed"
    },
    "tags": []
   },
   "outputs": [
    {
     "data": {
      "text/html": [
       "<div>\n",
       "<style scoped>\n",
       "    .dataframe tbody tr th:only-of-type {\n",
       "        vertical-align: middle;\n",
       "    }\n",
       "\n",
       "    .dataframe tbody tr th {\n",
       "        vertical-align: top;\n",
       "    }\n",
       "\n",
       "    .dataframe thead th {\n",
       "        text-align: right;\n",
       "    }\n",
       "</style>\n",
       "<table border=\"1\" class=\"dataframe\">\n",
       "  <thead>\n",
       "    <tr style=\"text-align: right;\">\n",
       "      <th></th>\n",
       "      <th>label</th>\n",
       "      <th>text</th>\n",
       "    </tr>\n",
       "  </thead>\n",
       "  <tbody>\n",
       "    <tr>\n",
       "      <th>0</th>\n",
       "      <td>ham</td>\n",
       "      <td>Go until jurong point, crazy.. Available only ...</td>\n",
       "    </tr>\n",
       "    <tr>\n",
       "      <th>1</th>\n",
       "      <td>ham</td>\n",
       "      <td>Ok lar... Joking wif u oni...</td>\n",
       "    </tr>\n",
       "    <tr>\n",
       "      <th>2</th>\n",
       "      <td>spam</td>\n",
       "      <td>Free entry in 2 a wkly comp to win FA Cup fina...</td>\n",
       "    </tr>\n",
       "    <tr>\n",
       "      <th>3</th>\n",
       "      <td>ham</td>\n",
       "      <td>U dun say so early hor... U c already then say...</td>\n",
       "    </tr>\n",
       "    <tr>\n",
       "      <th>4</th>\n",
       "      <td>ham</td>\n",
       "      <td>Nah I don't think he goes to usf, he lives aro...</td>\n",
       "    </tr>\n",
       "  </tbody>\n",
       "</table>\n",
       "</div>"
      ],
      "text/plain": [
       "  label                                               text\n",
       "0   ham  Go until jurong point, crazy.. Available only ...\n",
       "1   ham                      Ok lar... Joking wif u oni...\n",
       "2  spam  Free entry in 2 a wkly comp to win FA Cup fina...\n",
       "3   ham  U dun say so early hor... U c already then say...\n",
       "4   ham  Nah I don't think he goes to usf, he lives aro..."
      ]
     },
     "execution_count": 5,
     "metadata": {},
     "output_type": "execute_result"
    }
   ],
   "source": [
    "data.head()"
   ]
  },
  {
   "cell_type": "markdown",
   "id": "47bb0498",
   "metadata": {
    "id": "FBX1U1bhS2fn",
    "papermill": {
     "duration": 0.011045,
     "end_time": "2024-05-03T20:25:06.437189",
     "exception": false,
     "start_time": "2024-05-03T20:25:06.426144",
     "status": "completed"
    },
    "tags": []
   },
   "source": [
    "## Check distribution of spam vs. non-spam"
   ]
  },
  {
   "cell_type": "code",
   "execution_count": 6,
   "id": "5c8974e1",
   "metadata": {
    "execution": {
     "iopub.execute_input": "2024-05-03T20:25:06.461651Z",
     "iopub.status.busy": "2024-05-03T20:25:06.461255Z",
     "iopub.status.idle": "2024-05-03T20:25:06.474989Z",
     "shell.execute_reply": "2024-05-03T20:25:06.473775Z"
    },
    "id": "_z55Z2brczPu",
    "outputId": "88575b3b-56a8-49a2-984c-7dc7cbdf2629",
    "papermill": {
     "duration": 0.028811,
     "end_time": "2024-05-03T20:25:06.477345",
     "exception": false,
     "start_time": "2024-05-03T20:25:06.448534",
     "status": "completed"
    },
    "tags": []
   },
   "outputs": [
    {
     "data": {
      "text/plain": [
       "label\n",
       "ham     4825\n",
       "spam     747\n",
       "Name: count, dtype: int64"
      ]
     },
     "execution_count": 6,
     "metadata": {},
     "output_type": "execute_result"
    }
   ],
   "source": [
    "data['label'].value_counts()"
   ]
  },
  {
   "cell_type": "code",
   "execution_count": 7,
   "id": "7d374c44",
   "metadata": {
    "execution": {
     "iopub.execute_input": "2024-05-03T20:25:06.504714Z",
     "iopub.status.busy": "2024-05-03T20:25:06.504295Z",
     "iopub.status.idle": "2024-05-03T20:25:06.731159Z",
     "shell.execute_reply": "2024-05-03T20:25:06.729963Z"
    },
    "id": "B3HMj3PvZbJX",
    "outputId": "968ae7eb-3227-4ee6-931e-86d3d9f3f272",
    "papermill": {
     "duration": 0.242436,
     "end_time": "2024-05-03T20:25:06.733443",
     "exception": false,
     "start_time": "2024-05-03T20:25:06.491007",
     "status": "completed"
    },
    "tags": []
   },
   "outputs": [
    {
     "data": {
      "image/png": "[encoded data removed]",
      "text/plain": [
       "<Figure size 640x480 with 1 Axes>"
      ]
     },
     "metadata": {},
     "output_type": "display_data"
    }
   ],
   "source": [
    "spam_counts = data['label'].value_counts()\n",
    "plt.bar(spam_counts.index, spam_counts.values)\n",
    "plt.xlabel('Label')\n",
    "plt.ylabel('Count')\n",
    "plt.title('Distribution of Spam vs. Non-Spam Emails')\n",
    "plt.show()"
   ]
  },
  {
   "cell_type": "markdown",
   "id": "ed6507bc",
   "metadata": {
    "id": "tsxQADopTNW2",
    "papermill": {
     "duration": 0.011556,
     "end_time": "2024-05-03T20:25:06.756941",
     "exception": false,
     "start_time": "2024-05-03T20:25:06.745385",
     "status": "completed"
    },
    "tags": []
   },
   "source": [
    "## Analyze common words\n",
    "- Analyze common words in spam emails\n",
    "- Visualize top 20 most common words in spam emails"
   ]
  },
  {
   "cell_type": "code",
   "execution_count": 8,
   "id": "3d753414",
   "metadata": {
    "execution": {
     "iopub.execute_input": "2024-05-03T20:25:06.782380Z",
     "iopub.status.busy": "2024-05-03T20:25:06.781982Z",
     "iopub.status.idle": "2024-05-03T20:25:06.813083Z",
     "shell.execute_reply": "2024-05-03T20:25:06.811995Z"
    },
    "id": "2LsUJHfFauWI",
    "papermill": {
     "duration": 0.046528,
     "end_time": "2024-05-03T20:25:06.815430",
     "exception": false,
     "start_time": "2024-05-03T20:25:06.768902",
     "status": "completed"
    },
    "tags": []
   },
   "outputs": [],
   "source": [
    "# first get spam dataset and ham dataset\n",
    "spam_data = data[data['label'] == 'spam']\n",
    "ham_data = data[data['label'] == 'ham']\n",
    "\n",
    "# get every word of each spam and ham email and put them in an array\n",
    "spam_words = ' '.join(spam_data['text']).split()\n",
    "ham_words = ' '.join(ham_data['text']).split()\n",
    "\n",
    "from collections import Counter\n",
    "# count how many each word appeared in the emails\n",
    "spam_word_counts = Counter(spam_words)\n",
    "ham_word_counts = Counter(ham_words)"
   ]
  },
  {
   "cell_type": "code",
   "execution_count": 9,
   "id": "24ae934c",
   "metadata": {
    "execution": {
     "iopub.execute_input": "2024-05-03T20:25:06.841477Z",
     "iopub.status.busy": "2024-05-03T20:25:06.840475Z",
     "iopub.status.idle": "2024-05-03T20:25:06.850635Z",
     "shell.execute_reply": "2024-05-03T20:25:06.849575Z"
    },
    "id": "xw_95puZTwBQ",
    "outputId": "b6f96ba9-83d1-4516-99c3-0e85adfdc750",
    "papermill": {
     "duration": 0.025479,
     "end_time": "2024-05-03T20:25:06.852821",
     "exception": false,
     "start_time": "2024-05-03T20:25:06.827342",
     "status": "completed"
    },
    "tags": []
   },
   "outputs": [
    {
     "data": {
      "text/html": [
       "<div>\n",
       "<style scoped>\n",
       "    .dataframe tbody tr th:only-of-type {\n",
       "        vertical-align: middle;\n",
       "    }\n",
       "\n",
       "    .dataframe tbody tr th {\n",
       "        vertical-align: top;\n",
       "    }\n",
       "\n",
       "    .dataframe thead th {\n",
       "        text-align: right;\n",
       "    }\n",
       "</style>\n",
       "<table border=\"1\" class=\"dataframe\">\n",
       "  <thead>\n",
       "    <tr style=\"text-align: right;\">\n",
       "      <th></th>\n",
       "      <th>label</th>\n",
       "      <th>text</th>\n",
       "    </tr>\n",
       "  </thead>\n",
       "  <tbody>\n",
       "    <tr>\n",
       "      <th>2</th>\n",
       "      <td>spam</td>\n",
       "      <td>Free entry in 2 a wkly comp to win FA Cup fina...</td>\n",
       "    </tr>\n",
       "    <tr>\n",
       "      <th>5</th>\n",
       "      <td>spam</td>\n",
       "      <td>FreeMsg Hey there darling it's been 3 week's n...</td>\n",
       "    </tr>\n",
       "    <tr>\n",
       "      <th>8</th>\n",
       "      <td>spam</td>\n",
       "      <td>WINNER!! As a valued network customer you have...</td>\n",
       "    </tr>\n",
       "    <tr>\n",
       "      <th>9</th>\n",
       "      <td>spam</td>\n",
       "      <td>Had your mobile 11 months or more? U R entitle...</td>\n",
       "    </tr>\n",
       "    <tr>\n",
       "      <th>11</th>\n",
       "      <td>spam</td>\n",
       "      <td>SIX chances to win CASH! From 100 to 20,000 po...</td>\n",
       "    </tr>\n",
       "  </tbody>\n",
       "</table>\n",
       "</div>"
      ],
      "text/plain": [
       "   label                                               text\n",
       "2   spam  Free entry in 2 a wkly comp to win FA Cup fina...\n",
       "5   spam  FreeMsg Hey there darling it's been 3 week's n...\n",
       "8   spam  WINNER!! As a valued network customer you have...\n",
       "9   spam  Had your mobile 11 months or more? U R entitle...\n",
       "11  spam  SIX chances to win CASH! From 100 to 20,000 po..."
      ]
     },
     "execution_count": 9,
     "metadata": {},
     "output_type": "execute_result"
    }
   ],
   "source": [
    "spam_data.head()"
   ]
  },
  {
   "cell_type": "code",
   "execution_count": 10,
   "id": "7bb96e14",
   "metadata": {
    "execution": {
     "iopub.execute_input": "2024-05-03T20:25:06.879545Z",
     "iopub.status.busy": "2024-05-03T20:25:06.878575Z",
     "iopub.status.idle": "2024-05-03T20:25:06.885285Z",
     "shell.execute_reply": "2024-05-03T20:25:06.884284Z"
    },
    "id": "W_7tRg6qTsVJ",
    "outputId": "a1aad206-6ece-49d4-f4ca-ef5f163ad037",
    "papermill": {
     "duration": 0.022266,
     "end_time": "2024-05-03T20:25:06.887407",
     "exception": false,
     "start_time": "2024-05-03T20:25:06.865141",
     "status": "completed"
    },
    "tags": []
   },
   "outputs": [
    {
     "data": {
      "text/plain": [
       "['Free', 'entry', 'in', '2', 'a']"
      ]
     },
     "execution_count": 10,
     "metadata": {},
     "output_type": "execute_result"
    }
   ],
   "source": [
    "spam_words[:5]"
   ]
  },
  {
   "cell_type": "code",
   "execution_count": 11,
   "id": "42f29486",
   "metadata": {
    "execution": {
     "iopub.execute_input": "2024-05-03T20:25:06.914096Z",
     "iopub.status.busy": "2024-05-03T20:25:06.913242Z",
     "iopub.status.idle": "2024-05-03T20:25:06.925170Z",
     "shell.execute_reply": "2024-05-03T20:25:06.924162Z"
    },
    "id": "153bHQkLT2Nn",
    "outputId": "86352ff2-cd04-4ebc-9143-8ac817b65cd2",
    "papermill": {
     "duration": 0.027659,
     "end_time": "2024-05-03T20:25:06.927368",
     "exception": false,
     "start_time": "2024-05-03T20:25:06.899709",
     "status": "completed"
    },
    "tags": []
   },
   "outputs": [
    {
     "data": {
      "text/plain": [
       "{'Free': 35, 'entry': 25, 'in': 64, '2': 169, 'a': 358}"
      ]
     },
     "execution_count": 11,
     "metadata": {},
     "output_type": "execute_result"
    }
   ],
   "source": [
    "dict(list(spam_word_counts.items())[:5])"
   ]
  },
  {
   "cell_type": "code",
   "execution_count": 12,
   "id": "45b91f73",
   "metadata": {
    "execution": {
     "iopub.execute_input": "2024-05-03T20:25:06.954165Z",
     "iopub.status.busy": "2024-05-03T20:25:06.953250Z",
     "iopub.status.idle": "2024-05-03T20:25:07.679234Z",
     "shell.execute_reply": "2024-05-03T20:25:07.678089Z"
    },
    "id": "105e8cASaxx2",
    "outputId": "fc911432-a72d-48c7-8210-a187e3dc10b5",
    "papermill": {
     "duration": 0.742103,
     "end_time": "2024-05-03T20:25:07.681849",
     "exception": false,
     "start_time": "2024-05-03T20:25:06.939746",
     "status": "completed"
    },
    "tags": []
   },
   "outputs": [
    {
     "data": {
      "image/png": "[encoded data removed]",
      "text/plain": [
       "<Figure size 1500x600 with 2 Axes>"
      ]
     },
     "metadata": {},
     "output_type": "display_data"
    }
   ],
   "source": [
    "fig, axes = plt.subplots(1, 2, figsize=(15, 6))\n",
    "\n",
    "axes[0].bar(*zip(*spam_word_counts.most_common(20)), color='red')\n",
    "axes[0].set_xlabel('Word')\n",
    "axes[0].set_ylabel('Frequency')\n",
    "axes[0].set_title('Top 20 Most Common Words in Spam Emails')\n",
    "axes[0].tick_params(axis='x', rotation=45)\n",
    "\n",
    "\n",
    "axes[1].bar(*zip(*ham_word_counts.most_common(20)), color='blue')\n",
    "axes[1].set_xlabel('Word')\n",
    "axes[1].set_ylabel('Frequency')\n",
    "axes[1].set_title('Top 20 Most Common Words in Non-Spam Emails')\n",
    "axes[1].tick_params(axis='x', rotation=45)\n",
    "\n",
    "plt.tight_layout()\n",
    "plt.show()"
   ]
  },
  {
   "cell_type": "markdown",
   "id": "8ccd789b",
   "metadata": {
    "id": "PLhFTVBGVQu-",
    "papermill": {
     "duration": 0.013138,
     "end_time": "2024-05-03T20:25:07.711613",
     "exception": false,
     "start_time": "2024-05-03T20:25:07.698475",
     "status": "completed"
    },
    "tags": []
   },
   "source": [
    "## Create the spam column"
   ]
  },
  {
   "cell_type": "code",
   "execution_count": 13,
   "id": "aa010da6",
   "metadata": {
    "execution": {
     "iopub.execute_input": "2024-05-03T20:25:07.740696Z",
     "iopub.status.busy": "2024-05-03T20:25:07.739834Z",
     "iopub.status.idle": "2024-05-03T20:25:07.748971Z",
     "shell.execute_reply": "2024-05-03T20:25:07.747641Z"
    },
    "id": "ufiWOjEZsgs3",
    "papermill": {
     "duration": 0.026565,
     "end_time": "2024-05-03T20:25:07.751386",
     "exception": false,
     "start_time": "2024-05-03T20:25:07.724821",
     "status": "completed"
    },
    "tags": []
   },
   "outputs": [],
   "source": [
    "data['spam'] = data['label'].apply(lambda x: 1 if x == 'spam' else 0)"
   ]
  },
  {
   "cell_type": "code",
   "execution_count": 14,
   "id": "db0be14a",
   "metadata": {
    "execution": {
     "iopub.execute_input": "2024-05-03T20:25:07.779752Z",
     "iopub.status.busy": "2024-05-03T20:25:07.779336Z",
     "iopub.status.idle": "2024-05-03T20:25:07.789721Z",
     "shell.execute_reply": "2024-05-03T20:25:07.788719Z"
    },
    "id": "YTl3ak14slnv",
    "outputId": "29e6da17-5ca1-4094-a9e3-48dd1786f20e",
    "papermill": {
     "duration": 0.026992,
     "end_time": "2024-05-03T20:25:07.791852",
     "exception": false,
     "start_time": "2024-05-03T20:25:07.764860",
     "status": "completed"
    },
    "tags": []
   },
   "outputs": [
    {
     "data": {
      "text/html": [
       "<div>\n",
       "<style scoped>\n",
       "    .dataframe tbody tr th:only-of-type {\n",
       "        vertical-align: middle;\n",
       "    }\n",
       "\n",
       "    .dataframe tbody tr th {\n",
       "        vertical-align: top;\n",
       "    }\n",
       "\n",
       "    .dataframe thead th {\n",
       "        text-align: right;\n",
       "    }\n",
       "</style>\n",
       "<table border=\"1\" class=\"dataframe\">\n",
       "  <thead>\n",
       "    <tr style=\"text-align: right;\">\n",
       "      <th></th>\n",
       "      <th>label</th>\n",
       "      <th>text</th>\n",
       "      <th>spam</th>\n",
       "    </tr>\n",
       "  </thead>\n",
       "  <tbody>\n",
       "    <tr>\n",
       "      <th>0</th>\n",
       "      <td>ham</td>\n",
       "      <td>Go until jurong point, crazy.. Available only ...</td>\n",
       "      <td>0</td>\n",
       "    </tr>\n",
       "    <tr>\n",
       "      <th>1</th>\n",
       "      <td>ham</td>\n",
       "      <td>Ok lar... Joking wif u oni...</td>\n",
       "      <td>0</td>\n",
       "    </tr>\n",
       "    <tr>\n",
       "      <th>2</th>\n",
       "      <td>spam</td>\n",
       "      <td>Free entry in 2 a wkly comp to win FA Cup fina...</td>\n",
       "      <td>1</td>\n",
       "    </tr>\n",
       "    <tr>\n",
       "      <th>3</th>\n",
       "      <td>ham</td>\n",
       "      <td>U dun say so early hor... U c already then say...</td>\n",
       "      <td>0</td>\n",
       "    </tr>\n",
       "    <tr>\n",
       "      <th>4</th>\n",
       "      <td>ham</td>\n",
       "      <td>Nah I don't think he goes to usf, he lives aro...</td>\n",
       "      <td>0</td>\n",
       "    </tr>\n",
       "  </tbody>\n",
       "</table>\n",
       "</div>"
      ],
      "text/plain": [
       "  label                                               text  spam\n",
       "0   ham  Go until jurong point, crazy.. Available only ...     0\n",
       "1   ham                      Ok lar... Joking wif u oni...     0\n",
       "2  spam  Free entry in 2 a wkly comp to win FA Cup fina...     1\n",
       "3   ham  U dun say so early hor... U c already then say...     0\n",
       "4   ham  Nah I don't think he goes to usf, he lives aro...     0"
      ]
     },
     "execution_count": 14,
     "metadata": {},
     "output_type": "execute_result"
    }
   ],
   "source": [
    "data.head()"
   ]
  },
  {
   "cell_type": "markdown",
   "id": "ab2264f9",
   "metadata": {
    "id": "XbmymIQDVnIO",
    "papermill": {
     "duration": 0.06774,
     "end_time": "2024-05-03T20:25:07.873007",
     "exception": false,
     "start_time": "2024-05-03T20:25:07.805267",
     "status": "completed"
    },
    "tags": []
   },
   "source": [
    "## Create X and Y"
   ]
  },
  {
   "cell_type": "code",
   "execution_count": 15,
   "id": "643358d7",
   "metadata": {
    "execution": {
     "iopub.execute_input": "2024-05-03T20:25:07.901587Z",
     "iopub.status.busy": "2024-05-03T20:25:07.901196Z",
     "iopub.status.idle": "2024-05-03T20:25:07.909068Z",
     "shell.execute_reply": "2024-05-03T20:25:07.907916Z"
    },
    "id": "bAeL3cOQVq7m",
    "outputId": "35140a67-014d-4d3f-a9cf-67e738a1de3f",
    "papermill": {
     "duration": 0.024479,
     "end_time": "2024-05-03T20:25:07.911105",
     "exception": false,
     "start_time": "2024-05-03T20:25:07.886626",
     "status": "completed"
    },
    "tags": []
   },
   "outputs": [
    {
     "data": {
      "text/plain": [
       "0    Go until jurong point, crazy.. Available only ...\n",
       "1                        Ok lar... Joking wif u oni...\n",
       "2    Free entry in 2 a wkly comp to win FA Cup fina...\n",
       "3    U dun say so early hor... U c already then say...\n",
       "4    Nah I don't think he goes to usf, he lives aro...\n",
       "Name: text, dtype: object"
      ]
     },
     "execution_count": 15,
     "metadata": {},
     "output_type": "execute_result"
    }
   ],
   "source": [
    "X = data['text']\n",
    "X.head()"
   ]
  },
  {
   "cell_type": "code",
   "execution_count": 16,
   "id": "9fceffe2",
   "metadata": {
    "execution": {
     "iopub.execute_input": "2024-05-03T20:25:07.940143Z",
     "iopub.status.busy": "2024-05-03T20:25:07.939399Z",
     "iopub.status.idle": "2024-05-03T20:25:07.946910Z",
     "shell.execute_reply": "2024-05-03T20:25:07.945756Z"
    },
    "id": "eiJVgmBdVcDl",
    "outputId": "8421b3d9-c966-46b7-fb9a-c2daa17e3187",
    "papermill": {
     "duration": 0.02431,
     "end_time": "2024-05-03T20:25:07.949078",
     "exception": false,
     "start_time": "2024-05-03T20:25:07.924768",
     "status": "completed"
    },
    "tags": []
   },
   "outputs": [
    {
     "data": {
      "text/plain": [
       "0    0\n",
       "1    0\n",
       "2    1\n",
       "3    0\n",
       "4    0\n",
       "Name: spam, dtype: int64"
      ]
     },
     "execution_count": 16,
     "metadata": {},
     "output_type": "execute_result"
    }
   ],
   "source": [
    "y = data['spam']\n",
    "y.head()"
   ]
  },
  {
   "cell_type": "markdown",
   "id": "b860128a",
   "metadata": {
    "id": "PzWpmryxp2Vi",
    "papermill": {
     "duration": 0.014254,
     "end_time": "2024-05-03T20:25:07.977603",
     "exception": false,
     "start_time": "2024-05-03T20:25:07.963349",
     "status": "completed"
    },
    "tags": []
   },
   "source": [
    "# Feature engineering\n",
    "Text Encoding: Converting text into numerical representations using TF-IDF"
   ]
  },
  {
   "cell_type": "code",
   "execution_count": 17,
   "id": "41945b71",
   "metadata": {
    "execution": {
     "iopub.execute_input": "2024-05-03T20:25:08.007355Z",
     "iopub.status.busy": "2024-05-03T20:25:08.006562Z",
     "iopub.status.idle": "2024-05-03T20:25:08.139666Z",
     "shell.execute_reply": "2024-05-03T20:25:08.138651Z"
    },
    "id": "HfOlxXwjay3m",
    "papermill": {
     "duration": 0.150894,
     "end_time": "2024-05-03T20:25:08.142458",
     "exception": false,
     "start_time": "2024-05-03T20:25:07.991564",
     "status": "completed"
    },
    "tags": []
   },
   "outputs": [],
   "source": [
    "from sklearn.feature_extraction.text import TfidfVectorizer\n",
    "\n",
    "tfidf_vectorizer = TfidfVectorizer()\n",
    "X_tfidf = tfidf_vectorizer.fit_transform(X)"
   ]
  },
  {
   "cell_type": "code",
   "execution_count": 18,
   "id": "95bd208c",
   "metadata": {
    "execution": {
     "iopub.execute_input": "2024-05-03T20:25:08.171883Z",
     "iopub.status.busy": "2024-05-03T20:25:08.171470Z",
     "iopub.status.idle": "2024-05-03T20:25:08.448440Z",
     "shell.execute_reply": "2024-05-03T20:25:08.447233Z"
    },
    "id": "j_VD5fwOrN0B",
    "outputId": "3adce0b5-dfb1-4f2e-9295-1be9e3f3215f",
    "papermill": {
     "duration": 0.294586,
     "end_time": "2024-05-03T20:25:08.450918",
     "exception": false,
     "start_time": "2024-05-03T20:25:08.156332",
     "status": "completed"
    },
    "tags": []
   },
   "outputs": [
    {
     "data": {
      "text/plain": [
       "array([[0., 0., 0., ..., 0., 0., 0.],\n",
       "       [0., 0., 0., ..., 0., 0., 0.],\n",
       "       [0., 0., 0., ..., 0., 0., 0.],\n",
       "       ...,\n",
       "       [0., 0., 0., ..., 0., 0., 0.],\n",
       "       [0., 0., 0., ..., 0., 0., 0.],\n",
       "       [0., 0., 0., ..., 0., 0., 0.]])"
      ]
     },
     "execution_count": 18,
     "metadata": {},
     "output_type": "execute_result"
    }
   ],
   "source": [
    "X_tfidf.toarray()"
   ]
  },
  {
   "cell_type": "markdown",
   "id": "48284bd6",
   "metadata": {
    "id": "TMo2E-4KrgRQ",
    "papermill": {
     "duration": 0.013635,
     "end_time": "2024-05-03T20:25:08.478605",
     "exception": false,
     "start_time": "2024-05-03T20:25:08.464970",
     "status": "completed"
    },
    "tags": []
   },
   "source": [
    "# Handling imbalanced data\n",
    "Oversampling: Creating synthetic samples of the minority class (spam) to balance the dataset."
   ]
  },
  {
   "cell_type": "markdown",
   "id": "9bf32845",
   "metadata": {
    "id": "aFfdrfsVV8Au",
    "papermill": {
     "duration": 0.015017,
     "end_time": "2024-05-03T20:25:08.507673",
     "exception": false,
     "start_time": "2024-05-03T20:25:08.492656",
     "status": "completed"
    },
    "tags": []
   },
   "source": [
    "### Show the count of spam and ham"
   ]
  },
  {
   "cell_type": "code",
   "execution_count": 19,
   "id": "48200747",
   "metadata": {
    "execution": {
     "iopub.execute_input": "2024-05-03T20:25:08.548827Z",
     "iopub.status.busy": "2024-05-03T20:25:08.548148Z",
     "iopub.status.idle": "2024-05-03T20:25:08.558554Z",
     "shell.execute_reply": "2024-05-03T20:25:08.557478Z"
    },
    "id": "h71ycXJDrQkG",
    "outputId": "a8d217d3-f17f-4e62-e963-8ea0e168bf88",
    "papermill": {
     "duration": 0.035259,
     "end_time": "2024-05-03T20:25:08.562088",
     "exception": false,
     "start_time": "2024-05-03T20:25:08.526829",
     "status": "completed"
    },
    "tags": []
   },
   "outputs": [
    {
     "data": {
      "text/plain": [
       "label\n",
       "ham     4825\n",
       "spam     747\n",
       "Name: count, dtype: int64"
      ]
     },
     "execution_count": 19,
     "metadata": {},
     "output_type": "execute_result"
    }
   ],
   "source": [
    "data['label'].value_counts()"
   ]
  },
  {
   "cell_type": "markdown",
   "id": "cad77124",
   "metadata": {
    "id": "W0b8vf33WAyZ",
    "papermill": {
     "duration": 0.015817,
     "end_time": "2024-05-03T20:25:08.596985",
     "exception": false,
     "start_time": "2024-05-03T20:25:08.581168",
     "status": "completed"
    },
    "tags": []
   },
   "source": [
    "### Resample training data using RandomOverSampler"
   ]
  },
  {
   "cell_type": "code",
   "execution_count": 20,
   "id": "cc7aaca6",
   "metadata": {
    "execution": {
     "iopub.execute_input": "2024-05-03T20:25:08.627408Z",
     "iopub.status.busy": "2024-05-03T20:25:08.626974Z",
     "iopub.status.idle": "2024-05-03T20:25:09.011517Z",
     "shell.execute_reply": "2024-05-03T20:25:09.010412Z"
    },
    "id": "wdLmw4P3r1hX",
    "papermill": {
     "duration": 0.402599,
     "end_time": "2024-05-03T20:25:09.014038",
     "exception": false,
     "start_time": "2024-05-03T20:25:08.611439",
     "status": "completed"
    },
    "tags": []
   },
   "outputs": [],
   "source": [
    "from sklearn.model_selection import train_test_split\n",
    "from imblearn.over_sampling import RandomOverSampler\n",
    "\n",
    "X_train, X_test, y_train, y_test = train_test_split(X_tfidf, y, test_size=0.2, random_state=42)\n",
    "\n",
    "over_sampler = RandomOverSampler(random_state=42)\n",
    "X_train_resampled, y_train_resampled = over_sampler.fit_resample(X_train, y_train)"
   ]
  },
  {
   "cell_type": "code",
   "execution_count": 21,
   "id": "d31b2dd3",
   "metadata": {
    "execution": {
     "iopub.execute_input": "2024-05-03T20:25:09.044504Z",
     "iopub.status.busy": "2024-05-03T20:25:09.043754Z",
     "iopub.status.idle": "2024-05-03T20:25:09.050969Z",
     "shell.execute_reply": "2024-05-03T20:25:09.049969Z"
    },
    "id": "W_3VNdRwI31J",
    "outputId": "f858441c-962a-4da5-fda2-72f14e922f5c",
    "papermill": {
     "duration": 0.024869,
     "end_time": "2024-05-03T20:25:09.053278",
     "exception": false,
     "start_time": "2024-05-03T20:25:09.028409",
     "status": "completed"
    },
    "tags": []
   },
   "outputs": [
    {
     "data": {
      "text/plain": [
       "((4457, 8672), (1115, 8672), (4457,), (1115,))"
      ]
     },
     "execution_count": 21,
     "metadata": {},
     "output_type": "execute_result"
    }
   ],
   "source": [
    "X_train.shape, X_test.shape, y_train.shape, y_test.shape"
   ]
  },
  {
   "cell_type": "code",
   "execution_count": 22,
   "id": "fc56b244",
   "metadata": {
    "execution": {
     "iopub.execute_input": "2024-05-03T20:25:09.083422Z",
     "iopub.status.busy": "2024-05-03T20:25:09.083034Z",
     "iopub.status.idle": "2024-05-03T20:25:09.089555Z",
     "shell.execute_reply": "2024-05-03T20:25:09.088576Z"
    },
    "id": "FOOAIIPkI5jv",
    "outputId": "4ac5b402-4ab8-4b0e-f3eb-f3744dbd848b",
    "papermill": {
     "duration": 0.024006,
     "end_time": "2024-05-03T20:25:09.091563",
     "exception": false,
     "start_time": "2024-05-03T20:25:09.067557",
     "status": "completed"
    },
    "tags": []
   },
   "outputs": [
    {
     "data": {
      "text/plain": [
       "((7720, 8672), (7720,))"
      ]
     },
     "execution_count": 22,
     "metadata": {},
     "output_type": "execute_result"
    }
   ],
   "source": [
    "X_train_resampled.shape, y_train_resampled.shape"
   ]
  },
  {
   "cell_type": "code",
   "execution_count": 23,
   "id": "60d5ac50",
   "metadata": {
    "execution": {
     "iopub.execute_input": "2024-05-03T20:25:09.121984Z",
     "iopub.status.busy": "2024-05-03T20:25:09.121187Z",
     "iopub.status.idle": "2024-05-03T20:25:09.128945Z",
     "shell.execute_reply": "2024-05-03T20:25:09.127943Z"
    },
    "id": "w9AWJEkPLdEh",
    "outputId": "ee5768c0-b6eb-49b4-e82f-b7e39203b849",
    "papermill": {
     "duration": 0.025161,
     "end_time": "2024-05-03T20:25:09.131099",
     "exception": false,
     "start_time": "2024-05-03T20:25:09.105938",
     "status": "completed"
    },
    "tags": []
   },
   "outputs": [
    {
     "data": {
      "text/plain": [
       "0       0\n",
       "1       1\n",
       "2       0\n",
       "3       0\n",
       "4       1\n",
       "       ..\n",
       "7715    1\n",
       "7716    1\n",
       "7717    1\n",
       "7718    1\n",
       "7719    1\n",
       "Name: spam, Length: 7720, dtype: int64"
      ]
     },
     "execution_count": 23,
     "metadata": {},
     "output_type": "execute_result"
    }
   ],
   "source": [
    "y_train_resampled"
   ]
  },
  {
   "cell_type": "markdown",
   "id": "d718e7c3",
   "metadata": {
    "id": "oYSiVCoMKhRB",
    "papermill": {
     "duration": 0.014009,
     "end_time": "2024-05-03T20:25:09.159432",
     "exception": false,
     "start_time": "2024-05-03T20:25:09.145423",
     "status": "completed"
    },
    "tags": []
   },
   "source": [
    "# Neural Network model"
   ]
  },
  {
   "cell_type": "markdown",
   "id": "dae1e356",
   "metadata": {
    "id": "B0LN-IBBXPhw",
    "papermill": {
     "duration": 0.014208,
     "end_time": "2024-05-03T20:25:09.187972",
     "exception": false,
     "start_time": "2024-05-03T20:25:09.173764",
     "status": "completed"
    },
    "tags": []
   },
   "source": [
    "### create a NN model using Tensorflow"
   ]
  },
  {
   "cell_type": "code",
   "execution_count": 24,
   "id": "72646268",
   "metadata": {
    "execution": {
     "iopub.execute_input": "2024-05-03T20:25:09.218366Z",
     "iopub.status.busy": "2024-05-03T20:25:09.217960Z",
     "iopub.status.idle": "2024-05-03T20:25:21.138755Z",
     "shell.execute_reply": "2024-05-03T20:25:21.137734Z"
    },
    "id": "0Uak1JGxJ5xj",
    "outputId": "1126799e-332f-4424-a26e-1e9445c4f724",
    "papermill": {
     "duration": 11.938614,
     "end_time": "2024-05-03T20:25:21.141036",
     "exception": false,
     "start_time": "2024-05-03T20:25:09.202422",
     "status": "completed"
    },
    "tags": []
   },
   "outputs": [
    {
     "name": "stdout",
     "output_type": "stream",
     "text": [
      "Epoch 1/5\n",
      "\u001b[1m242/242\u001b[0m \u001b[32m━━━━━━━━━━━━━━━━━━━━\u001b[0m\u001b[37m\u001b[0m \u001b[1m4s\u001b[0m 8ms/step - accuracy: 0.9177 - loss: 0.3496\n",
      "Epoch 2/5\n",
      "\u001b[1m242/242\u001b[0m \u001b[32m━━━━━━━━━━━━━━━━━━━━\u001b[0m\u001b[37m\u001b[0m \u001b[1m2s\u001b[0m 8ms/step - accuracy: 1.0000 - loss: 0.0016\n",
      "Epoch 3/5\n",
      "\u001b[1m242/242\u001b[0m \u001b[32m━━━━━━━━━━━━━━━━━━━━\u001b[0m\u001b[37m\u001b[0m \u001b[1m2s\u001b[0m 7ms/step - accuracy: 1.0000 - loss: 2.4585e-04\n",
      "Epoch 4/5\n",
      "\u001b[1m242/242\u001b[0m \u001b[32m━━━━━━━━━━━━━━━━━━━━\u001b[0m\u001b[37m\u001b[0m \u001b[1m2s\u001b[0m 7ms/step - accuracy: 1.0000 - loss: 1.1209e-04\n",
      "Epoch 5/5\n",
      "\u001b[1m242/242\u001b[0m \u001b[32m━━━━━━━━━━━━━━━━━━━━\u001b[0m\u001b[37m\u001b[0m \u001b[1m2s\u001b[0m 7ms/step - accuracy: 1.0000 - loss: 6.3371e-05\n"
     ]
    },
    {
     "data": {
      "text/plain": [
       "<keras.src.callbacks.history.History at 0x7c0fe235d6f0>"
      ]
     },
     "execution_count": 24,
     "metadata": {},
     "output_type": "execute_result"
    }
   ],
   "source": [
    "tf.random.set_seed(42)\n",
    "from tensorflow.keras.layers import Dense\n",
    "from tensorflow.keras.models import Sequential\n",
    "from sklearn.metrics import classification_report\n",
    "\n",
    "# Define model architecture\n",
    "model = Sequential([\n",
    "    Dense(100, activation='relu'),\n",
    "    Dense(50, activation='relu'),\n",
    "    Dense(20, activation='relu'),\n",
    "    Dense(1, activation='sigmoid')\n",
    "])\n",
    "\n",
    "# Compile the model\n",
    "model.compile(loss='binary_crossentropy', optimizer='adam', metrics=['accuracy'])\n",
    "\n",
    "# Train the model\n",
    "model.fit(X_train_resampled.toarray(), y_train_resampled, epochs=5, batch_size=32)"
   ]
  },
  {
   "cell_type": "code",
   "execution_count": 25,
   "id": "7f49f617",
   "metadata": {
    "execution": {
     "iopub.execute_input": "2024-05-03T20:25:21.194711Z",
     "iopub.status.busy": "2024-05-03T20:25:21.194295Z",
     "iopub.status.idle": "2024-05-03T20:25:21.216329Z",
     "shell.execute_reply": "2024-05-03T20:25:21.215294Z"
    },
    "id": "7lvS2pynXGmu",
    "outputId": "e7d0c959-b57a-407e-9e6e-a712c629becf",
    "papermill": {
     "duration": 0.051424,
     "end_time": "2024-05-03T20:25:21.218505",
     "exception": false,
     "start_time": "2024-05-03T20:25:21.167081",
     "status": "completed"
    },
    "tags": []
   },
   "outputs": [
    {
     "data": {
      "text/html": [
       "<pre style=\"white-space:pre;overflow-x:auto;line-height:normal;font-family:Menlo,'DejaVu Sans Mono',consolas,'Courier New',monospace\"><span style=\"font-weight: bold\">Model: \"sequential\"</span>\n",
       "</pre>\n"
      ],
      "text/plain": [
       "\u001b[1mModel: \"sequential\"\u001b[0m\n"
      ]
     },
     "metadata": {},
     "output_type": "display_data"
    },
    {
     "data": {
      "text/html": [
       "<pre style=\"white-space:pre;overflow-x:auto;line-height:normal;font-family:Menlo,'DejaVu Sans Mono',consolas,'Courier New',monospace\">┏━━━━━━━━━━━━━━━━━━━━━━━━━━━━━━━━━┳━━━━━━━━━━━━━━━━━━━━━━━━┳━━━━━━━━━━━━━━━┓\n",
       "┃<span style=\"font-weight: bold\"> Layer (type)                    </span>┃<span style=\"font-weight: bold\"> Output Shape           </span>┃<span style=\"font-weight: bold\">       Param # </span>┃\n",
       "┡━━━━━━━━━━━━━━━━━━━━━━━━━━━━━━━━━╇━━━━━━━━━━━━━━━━━━━━━━━━╇━━━━━━━━━━━━━━━┩\n",
       "│ dense (<span style=\"color: #0087ff; text-decoration-color: #0087ff\">Dense</span>)                   │ (<span style=\"color: #00d7ff; text-decoration-color: #00d7ff\">None</span>, <span style=\"color: #00af00; text-decoration-color: #00af00\">100</span>)            │       <span style=\"color: #00af00; text-decoration-color: #00af00\">867,300</span> │\n",
       "├─────────────────────────────────┼────────────────────────┼───────────────┤\n",
       "│ dense_1 (<span style=\"color: #0087ff; text-decoration-color: #0087ff\">Dense</span>)                 │ (<span style=\"color: #00d7ff; text-decoration-color: #00d7ff\">None</span>, <span style=\"color: #00af00; text-decoration-color: #00af00\">50</span>)             │         <span style=\"color: #00af00; text-decoration-color: #00af00\">5,050</span> │\n",
       "├─────────────────────────────────┼────────────────────────┼───────────────┤\n",
       "│ dense_2 (<span style=\"color: #0087ff; text-decoration-color: #0087ff\">Dense</span>)                 │ (<span style=\"color: #00d7ff; text-decoration-color: #00d7ff\">None</span>, <span style=\"color: #00af00; text-decoration-color: #00af00\">20</span>)             │         <span style=\"color: #00af00; text-decoration-color: #00af00\">1,020</span> │\n",
       "├─────────────────────────────────┼────────────────────────┼───────────────┤\n",
       "│ dense_3 (<span style=\"color: #0087ff; text-decoration-color: #0087ff\">Dense</span>)                 │ (<span style=\"color: #00d7ff; text-decoration-color: #00d7ff\">None</span>, <span style=\"color: #00af00; text-decoration-color: #00af00\">1</span>)              │            <span style=\"color: #00af00; text-decoration-color: #00af00\">21</span> │\n",
       "└─────────────────────────────────┴────────────────────────┴───────────────┘\n",
       "</pre>\n"
      ],
      "text/plain": [
       "┏━━━━━━━━━━━━━━━━━━━━━━━━━━━━━━━━━┳━━━━━━━━━━━━━━━━━━━━━━━━┳━━━━━━━━━━━━━━━┓\n",
       "┃\u001b[1m \u001b[0m\u001b[1mLayer (type)                   \u001b[0m\u001b[1m \u001b[0m┃\u001b[1m \u001b[0m\u001b[1mOutput Shape          \u001b[0m\u001b[1m \u001b[0m┃\u001b[1m \u001b[0m\u001b[1m      Param #\u001b[0m\u001b[1m \u001b[0m┃\n",
       "┡━━━━━━━━━━━━━━━━━━━━━━━━━━━━━━━━━╇━━━━━━━━━━━━━━━━━━━━━━━━╇━━━━━━━━━━━━━━━┩\n",
       "│ dense (\u001b[38;5;33mDense\u001b[0m)                   │ (\u001b[38;5;45mNone\u001b[0m, \u001b[38;5;34m100\u001b[0m)            │       \u001b[38;5;34m867,300\u001b[0m │\n",
       "├─────────────────────────────────┼────────────────────────┼───────────────┤\n",
       "│ dense_1 (\u001b[38;5;33mDense\u001b[0m)                 │ (\u001b[38;5;45mNone\u001b[0m, \u001b[38;5;34m50\u001b[0m)             │         \u001b[38;5;34m5,050\u001b[0m │\n",
       "├─────────────────────────────────┼────────────────────────┼───────────────┤\n",
       "│ dense_2 (\u001b[38;5;33mDense\u001b[0m)                 │ (\u001b[38;5;45mNone\u001b[0m, \u001b[38;5;34m20\u001b[0m)             │         \u001b[38;5;34m1,020\u001b[0m │\n",
       "├─────────────────────────────────┼────────────────────────┼───────────────┤\n",
       "│ dense_3 (\u001b[38;5;33mDense\u001b[0m)                 │ (\u001b[38;5;45mNone\u001b[0m, \u001b[38;5;34m1\u001b[0m)              │            \u001b[38;5;34m21\u001b[0m │\n",
       "└─────────────────────────────────┴────────────────────────┴───────────────┘\n"
      ]
     },
     "metadata": {},
     "output_type": "display_data"
    },
    {
     "data": {
      "text/html": [
       "<pre style=\"white-space:pre;overflow-x:auto;line-height:normal;font-family:Menlo,'DejaVu Sans Mono',consolas,'Courier New',monospace\"><span style=\"font-weight: bold\"> Total params: </span><span style=\"color: #00af00; text-decoration-color: #00af00\">2,620,175</span> (10.00 MB)\n",
       "</pre>\n"
      ],
      "text/plain": [
       "\u001b[1m Total params: \u001b[0m\u001b[38;5;34m2,620,175\u001b[0m (10.00 MB)\n"
      ]
     },
     "metadata": {},
     "output_type": "display_data"
    },
    {
     "data": {
      "text/html": [
       "<pre style=\"white-space:pre;overflow-x:auto;line-height:normal;font-family:Menlo,'DejaVu Sans Mono',consolas,'Courier New',monospace\"><span style=\"font-weight: bold\"> Trainable params: </span><span style=\"color: #00af00; text-decoration-color: #00af00\">873,391</span> (3.33 MB)\n",
       "</pre>\n"
      ],
      "text/plain": [
       "\u001b[1m Trainable params: \u001b[0m\u001b[38;5;34m873,391\u001b[0m (3.33 MB)\n"
      ]
     },
     "metadata": {},
     "output_type": "display_data"
    },
    {
     "data": {
      "text/html": [
       "<pre style=\"white-space:pre;overflow-x:auto;line-height:normal;font-family:Menlo,'DejaVu Sans Mono',consolas,'Courier New',monospace\"><span style=\"font-weight: bold\"> Non-trainable params: </span><span style=\"color: #00af00; text-decoration-color: #00af00\">0</span> (0.00 B)\n",
       "</pre>\n"
      ],
      "text/plain": [
       "\u001b[1m Non-trainable params: \u001b[0m\u001b[38;5;34m0\u001b[0m (0.00 B)\n"
      ]
     },
     "metadata": {},
     "output_type": "display_data"
    },
    {
     "data": {
      "text/html": [
       "<pre style=\"white-space:pre;overflow-x:auto;line-height:normal;font-family:Menlo,'DejaVu Sans Mono',consolas,'Courier New',monospace\"><span style=\"font-weight: bold\"> Optimizer params: </span><span style=\"color: #00af00; text-decoration-color: #00af00\">1,746,784</span> (6.66 MB)\n",
       "</pre>\n"
      ],
      "text/plain": [
       "\u001b[1m Optimizer params: \u001b[0m\u001b[38;5;34m1,746,784\u001b[0m (6.66 MB)\n"
      ]
     },
     "metadata": {},
     "output_type": "display_data"
    }
   ],
   "source": [
    "model.summary()"
   ]
  },
  {
   "cell_type": "markdown",
   "id": "1472302d",
   "metadata": {
    "id": "wbgl5D7JXR4G",
    "papermill": {
     "duration": 0.026018,
     "end_time": "2024-05-03T20:25:21.271236",
     "exception": false,
     "start_time": "2024-05-03T20:25:21.245218",
     "status": "completed"
    },
    "tags": []
   },
   "source": [
    "### Evaluate model"
   ]
  },
  {
   "cell_type": "code",
   "execution_count": 26,
   "id": "0c16bb85",
   "metadata": {
    "execution": {
     "iopub.execute_input": "2024-05-03T20:25:21.325627Z",
     "iopub.status.busy": "2024-05-03T20:25:21.325228Z",
     "iopub.status.idle": "2024-05-03T20:25:21.749747Z",
     "shell.execute_reply": "2024-05-03T20:25:21.748666Z"
    },
    "id": "owBC5gFtJEWv",
    "outputId": "a06874c4-e2b1-4298-be9f-512c9b0258d4",
    "papermill": {
     "duration": 0.454421,
     "end_time": "2024-05-03T20:25:21.751911",
     "exception": false,
     "start_time": "2024-05-03T20:25:21.297490",
     "status": "completed"
    },
    "tags": []
   },
   "outputs": [
    {
     "name": "stdout",
     "output_type": "stream",
     "text": [
      "\u001b[1m35/35\u001b[0m \u001b[32m━━━━━━━━━━━━━━━━━━━━\u001b[0m\u001b[37m\u001b[0m \u001b[1m0s\u001b[0m 3ms/step - accuracy: 0.9834 - loss: 0.0663\n"
     ]
    },
    {
     "data": {
      "text/plain": [
       "[0.10845909267663956, 0.9784753322601318]"
      ]
     },
     "execution_count": 26,
     "metadata": {},
     "output_type": "execute_result"
    }
   ],
   "source": [
    "model.evaluate(X_test.toarray(), y_test)"
   ]
  },
  {
   "cell_type": "markdown",
   "id": "bff5c52a",
   "metadata": {
    "id": "qLJWt4ozXUtQ",
    "papermill": {
     "duration": 0.026531,
     "end_time": "2024-05-03T20:25:21.805129",
     "exception": false,
     "start_time": "2024-05-03T20:25:21.778598",
     "status": "completed"
    },
    "tags": []
   },
   "source": [
    "### Make predictions"
   ]
  },
  {
   "cell_type": "code",
   "execution_count": 27,
   "id": "c487eff7",
   "metadata": {
    "execution": {
     "iopub.execute_input": "2024-05-03T20:25:21.861168Z",
     "iopub.status.busy": "2024-05-03T20:25:21.860735Z",
     "iopub.status.idle": "2024-05-03T20:25:22.253827Z",
     "shell.execute_reply": "2024-05-03T20:25:22.252667Z"
    },
    "id": "V4jvbGIvLza3",
    "outputId": "13f578b6-dda2-4521-9418-dbb358eb06d6",
    "papermill": {
     "duration": 0.424543,
     "end_time": "2024-05-03T20:25:22.256486",
     "exception": false,
     "start_time": "2024-05-03T20:25:21.831943",
     "status": "completed"
    },
    "tags": []
   },
   "outputs": [
    {
     "name": "stdout",
     "output_type": "stream",
     "text": [
      "\u001b[1m35/35\u001b[0m \u001b[32m━━━━━━━━━━━━━━━━━━━━\u001b[0m\u001b[37m\u001b[0m \u001b[1m0s\u001b[0m 3ms/step\n"
     ]
    }
   ],
   "source": [
    "preds = model.predict(X_test.toarray())"
   ]
  },
  {
   "cell_type": "code",
   "execution_count": 28,
   "id": "94cdfae2",
   "metadata": {
    "execution": {
     "iopub.execute_input": "2024-05-03T20:25:22.313305Z",
     "iopub.status.busy": "2024-05-03T20:25:22.312234Z",
     "iopub.status.idle": "2024-05-03T20:25:22.319270Z",
     "shell.execute_reply": "2024-05-03T20:25:22.318286Z"
    },
    "id": "3Mvb1Mi_W-9_",
    "outputId": "8bb87ee1-2e73-4981-83b7-6e4c52e8735c",
    "papermill": {
     "duration": 0.037342,
     "end_time": "2024-05-03T20:25:22.321335",
     "exception": false,
     "start_time": "2024-05-03T20:25:22.283993",
     "status": "completed"
    },
    "tags": []
   },
   "outputs": [
    {
     "data": {
      "text/plain": [
       "array([[2.5702114e-04],\n",
       "       [8.6247774e-06],\n",
       "       [9.7710228e-01],\n",
       "       [1.4398109e-06],\n",
       "       [9.9999839e-01]], dtype=float32)"
      ]
     },
     "execution_count": 28,
     "metadata": {},
     "output_type": "execute_result"
    }
   ],
   "source": [
    "preds[:5]"
   ]
  },
  {
   "cell_type": "markdown",
   "id": "573f4c6e",
   "metadata": {
    "id": "ZEnf4chKXX0Y",
    "papermill": {
     "duration": 0.027282,
     "end_time": "2024-05-03T20:25:22.376608",
     "exception": false,
     "start_time": "2024-05-03T20:25:22.349326",
     "status": "completed"
    },
    "tags": []
   },
   "source": [
    "### Classification report"
   ]
  },
  {
   "cell_type": "code",
   "execution_count": 29,
   "id": "31ff10b0",
   "metadata": {
    "execution": {
     "iopub.execute_input": "2024-05-03T20:25:22.433732Z",
     "iopub.status.busy": "2024-05-03T20:25:22.433310Z",
     "iopub.status.idle": "2024-05-03T20:25:22.450342Z",
     "shell.execute_reply": "2024-05-03T20:25:22.449140Z"
    },
    "id": "cYmmKtWbWkow",
    "outputId": "c6b7d483-f0e1-4aab-dfb7-c21b0b3d1625",
    "papermill": {
     "duration": 0.048119,
     "end_time": "2024-05-03T20:25:22.452769",
     "exception": false,
     "start_time": "2024-05-03T20:25:22.404650",
     "status": "completed"
    },
    "tags": []
   },
   "outputs": [
    {
     "name": "stdout",
     "output_type": "stream",
     "text": [
      "              precision    recall  f1-score   support\n",
      "\n",
      "           0       0.98      1.00      0.99       965\n",
      "           1       0.98      0.86      0.91       150\n",
      "\n",
      "    accuracy                           0.98      1115\n",
      "   macro avg       0.98      0.93      0.95      1115\n",
      "weighted avg       0.98      0.98      0.98      1115\n",
      "\n"
     ]
    }
   ],
   "source": [
    "from sklearn.metrics import classification_report\n",
    "\n",
    "binary_preds = (preds > 0.5).astype(int)\n",
    "report = classification_report(y_test, binary_preds)\n",
    "\n",
    "print(report)"
   ]
  },
  {
   "cell_type": "markdown",
   "id": "d49059ba",
   "metadata": {
    "id": "x1-Nx3DvXhjW",
    "papermill": {
     "duration": 0.027629,
     "end_time": "2024-05-03T20:25:22.508495",
     "exception": false,
     "start_time": "2024-05-03T20:25:22.480866",
     "status": "completed"
    },
    "tags": []
   },
   "source": [
    "### Predict on new Eamils"
   ]
  },
  {
   "cell_type": "code",
   "execution_count": 30,
   "id": "91b869c0",
   "metadata": {
    "execution": {
     "iopub.execute_input": "2024-05-03T20:25:22.566638Z",
     "iopub.status.busy": "2024-05-03T20:25:22.566259Z",
     "iopub.status.idle": "2024-05-03T20:25:22.645135Z",
     "shell.execute_reply": "2024-05-03T20:25:22.643848Z"
    },
    "id": "h9Sc_QEgMqnv",
    "outputId": "c2e623d5-1e6f-4daa-8952-d5d2d2cc9918",
    "papermill": {
     "duration": 0.111098,
     "end_time": "2024-05-03T20:25:22.647263",
     "exception": false,
     "start_time": "2024-05-03T20:25:22.536165",
     "status": "completed"
    },
    "tags": []
   },
   "outputs": [
    {
     "name": "stdout",
     "output_type": "stream",
     "text": [
      "\u001b[1m1/1\u001b[0m \u001b[32m━━━━━━━━━━━━━━━━━━━━\u001b[0m\u001b[37m\u001b[0m \u001b[1m0s\u001b[0m 19ms/step\n",
      "Email: Congratulations! You've won a free trip to Hawaii. Click here to claim your prize.. spam❌\n",
      "Email: Dear valued customer, we're offering a 50% discount on all our products. Don't miss out!. ham✅\n",
      "Email: Reminder: Your appointment with Dr. Smith is scheduled for tomorrow at 10:00 AM.. ham✅\n",
      "Email: URGENT: Your account has been locked. Please verify your identity to unlock it.. spam❌\n",
      "Email: Hi there, just wanted to check in and see how you're doing. Let's catch up soon!. ham✅\n"
     ]
    }
   ],
   "source": [
    "new_emails_array = [\n",
    "    \"Congratulations! You've won a free trip to Hawaii. Click here to claim your prize.\",\n",
    "    \"Dear valued customer, we're offering a 50% discount on all our products. Don't miss out!\",\n",
    "    \"Reminder: Your appointment with Dr. Smith is scheduled for tomorrow at 10:00 AM.\",\n",
    "    \"URGENT: Your account has been locked. Please verify your identity to unlock it.\",\n",
    "    \"Hi there, just wanted to check in and see how you're doing. Let's catch up soon!\"\n",
    "]\n",
    "new_emails_tfidf = tfidf_vectorizer.transform(new_emails_array)\n",
    "new_emails_preds = model.predict(new_emails_tfidf.toarray())\n",
    "\n",
    "binary_pred = (new_emails_preds> 0.5).astype(int)\n",
    "for i in range(len(new_emails_preds)):\n",
    "  print(f\"Email: {new_emails_array[i]}. {'spam❌' if binary_pred[i] == 1 else 'ham✅'}\")"
   ]
  },
  {
   "cell_type": "markdown",
   "id": "bb8f7e73",
   "metadata": {
    "id": "ZL0PHtoH617h",
    "papermill": {
     "duration": 0.027242,
     "end_time": "2024-05-03T20:25:22.702227",
     "exception": false,
     "start_time": "2024-05-03T20:25:22.674985",
     "status": "completed"
    },
    "tags": []
   },
   "source": [
    "# SKlearn models"
   ]
  },
  {
   "cell_type": "markdown",
   "id": "b3b66df2",
   "metadata": {
    "id": "4tAiEyzHb5w3",
    "papermill": {
     "duration": 0.027965,
     "end_time": "2024-05-03T20:25:22.758005",
     "exception": false,
     "start_time": "2024-05-03T20:25:22.730040",
     "status": "completed"
    },
    "tags": []
   },
   "source": [
    "## Initialize classifiers"
   ]
  },
  {
   "cell_type": "code",
   "execution_count": 31,
   "id": "e4482e86",
   "metadata": {
    "execution": {
     "iopub.execute_input": "2024-05-03T20:25:22.814584Z",
     "iopub.status.busy": "2024-05-03T20:25:22.814186Z",
     "iopub.status.idle": "2024-05-03T20:25:22.822053Z",
     "shell.execute_reply": "2024-05-03T20:25:22.821048Z"
    },
    "id": "dCAUQjXAu28Z",
    "papermill": {
     "duration": 0.038809,
     "end_time": "2024-05-03T20:25:22.824371",
     "exception": false,
     "start_time": "2024-05-03T20:25:22.785562",
     "status": "completed"
    },
    "tags": []
   },
   "outputs": [],
   "source": [
    "from sklearn.naive_bayes import MultinomialNB\n",
    "from sklearn.svm import SVC\n",
    "from sklearn.tree import DecisionTreeClassifier\n",
    "from sklearn.metrics import accuracy_score\n",
    "\n",
    "nb_classifier = MultinomialNB()\n",
    "svm_classifier = SVC()\n",
    "dt_classifier = DecisionTreeClassifier()\n",
    "\n",
    "my_models = [nb_classifier, svm_classifier, dt_classifier]"
   ]
  },
  {
   "cell_type": "markdown",
   "id": "dc26df5d",
   "metadata": {
    "id": "YAuwac3wb74d",
    "papermill": {
     "duration": 0.028265,
     "end_time": "2024-05-03T20:25:22.881713",
     "exception": false,
     "start_time": "2024-05-03T20:25:22.853448",
     "status": "completed"
    },
    "tags": []
   },
   "source": [
    "## Train classifiers"
   ]
  },
  {
   "cell_type": "code",
   "execution_count": 32,
   "id": "ea083bf8",
   "metadata": {
    "execution": {
     "iopub.execute_input": "2024-05-03T20:25:22.940623Z",
     "iopub.status.busy": "2024-05-03T20:25:22.939596Z",
     "iopub.status.idle": "2024-05-03T20:25:24.918511Z",
     "shell.execute_reply": "2024-05-03T20:25:24.917415Z"
    },
    "id": "8hWT0-zUbhMN",
    "papermill": {
     "duration": 2.010627,
     "end_time": "2024-05-03T20:25:24.921091",
     "exception": false,
     "start_time": "2024-05-03T20:25:22.910464",
     "status": "completed"
    },
    "tags": []
   },
   "outputs": [],
   "source": [
    "for m in (my_models):\n",
    "  m.fit(X_train, y_train)"
   ]
  },
  {
   "cell_type": "markdown",
   "id": "79662e73",
   "metadata": {
    "id": "8vJA9gDDcCwX",
    "papermill": {
     "duration": 0.027283,
     "end_time": "2024-05-03T20:25:24.975995",
     "exception": false,
     "start_time": "2024-05-03T20:25:24.948712",
     "status": "completed"
    },
    "tags": []
   },
   "source": [
    "## Make predictions"
   ]
  },
  {
   "cell_type": "code",
   "execution_count": 33,
   "id": "ad6077fb",
   "metadata": {
    "execution": {
     "iopub.execute_input": "2024-05-03T20:25:25.032948Z",
     "iopub.status.busy": "2024-05-03T20:25:25.032413Z",
     "iopub.status.idle": "2024-05-03T20:25:25.416398Z",
     "shell.execute_reply": "2024-05-03T20:25:25.415242Z"
    },
    "id": "hCTPklEibX_8",
    "outputId": "2fbc28f0-9c7a-4e32-f421-5f17d5dc774a",
    "papermill": {
     "duration": 0.414892,
     "end_time": "2024-05-03T20:25:25.418665",
     "exception": false,
     "start_time": "2024-05-03T20:25:25.003773",
     "status": "completed"
    },
    "tags": []
   },
   "outputs": [
    {
     "name": "stdout",
     "output_type": "stream",
     "text": [
      "MultinomialNB() Accuracy on test set: 96.23\n",
      "SVC() Accuracy on test set: 97.67\n",
      "DecisionTreeClassifier() Accuracy on test set: 96.95\n"
     ]
    }
   ],
   "source": [
    "for m in (my_models):\n",
    "  y_pred = m.predict(X_test)\n",
    "  accuracy = accuracy_score(y_test, y_pred)\n",
    "  print(f\"{m} Accuracy on test set: {accuracy * 100:.2f}\")"
   ]
  },
  {
   "cell_type": "code",
   "execution_count": 34,
   "id": "3eb6ffbf",
   "metadata": {
    "execution": {
     "iopub.execute_input": "2024-05-03T20:25:25.475674Z",
     "iopub.status.busy": "2024-05-03T20:25:25.475301Z",
     "iopub.status.idle": "2024-05-03T20:25:25.488071Z",
     "shell.execute_reply": "2024-05-03T20:25:25.486886Z"
    },
    "id": "YJnawyR3aVnT",
    "outputId": "5d270d53-3b16-4432-ada8-10cbc61d0be0",
    "papermill": {
     "duration": 0.043669,
     "end_time": "2024-05-03T20:25:25.490181",
     "exception": false,
     "start_time": "2024-05-03T20:25:25.446512",
     "status": "completed"
    },
    "tags": []
   },
   "outputs": [
    {
     "name": "stdout",
     "output_type": "stream",
     "text": [
      "Email: Congratulations! You've won a free trip to Hawaii. Click here to claim your prize.. spam❌\n",
      "Email: Dear valued customer, we're offering a 50% discount on all our products. Don't miss out!. ham✅\n",
      "Email: Reminder: Your appointment with Dr. Smith is scheduled for tomorrow at 10:00 AM.. ham✅\n",
      "Email: URGENT: Your account has been locked. Please verify your identity to unlock it.. ham✅\n",
      "Email: Hi there, just wanted to check in and see how you're doing. Let's catch up soon!. ham✅\n"
     ]
    }
   ],
   "source": [
    "new_emails_array = [\n",
    "    \"Congratulations! You've won a free trip to Hawaii. Click here to claim your prize.\",\n",
    "    \"Dear valued customer, we're offering a 50% discount on all our products. Don't miss out!\",\n",
    "    \"Reminder: Your appointment with Dr. Smith is scheduled for tomorrow at 10:00 AM.\",\n",
    "    \"URGENT: Your account has been locked. Please verify your identity to unlock it.\",\n",
    "    \"Hi there, just wanted to check in and see how you're doing. Let's catch up soon!\"\n",
    "]\n",
    "new_emails_tfidf = tfidf_vectorizer.transform(new_emails_array)\n",
    "new_emails_preds = svm_classifier.predict(new_emails_tfidf.toarray())\n",
    "\n",
    "binary_pred = (new_emails_preds> 0.5).astype(int)\n",
    "for i in range(len(new_emails_preds)):\n",
    "  print(f\"Email: {new_emails_array[i]}. {'spam❌' if binary_pred[i] == 1 else 'ham✅'}\")"
   ]
  }
 ],
 "metadata": {
  "colab": {
   "provenance": [],
   "toc_visible": true
  },
  "kaggle": {
   "accelerator": "none",
   "dataSources": [
    {
     "datasetId": 483,
     "sourceId": 982,
     "sourceType": "datasetVersion"
    }
   ],
   "dockerImageVersionId": 30698,
   "isGpuEnabled": false,
   "isInternetEnabled": true,
   "language": "python",
   "sourceType": "notebook"
  },
  "kernelspec": {
   "display_name": "Python 3",
   "name": "python3"
  },
  "language_info": {
   "codemirror_mode": {
    "name": "ipython",
    "version": 3
   },
   "file_extension": ".py",
   "mimetype": "text/x-python",
   "name": "python",
   "nbconvert_exporter": "python",
   "pygments_lexer": "ipython3",
   "version": "3.10.13"
  },
  "papermill": {
   "default_parameters": {},
   "duration": 38.428588,
   "end_time": "2024-05-03T20:25:27.143186",
   "environment_variables": {},
   "exception": null,
   "input_path": "__notebook__.ipynb",
   "output_path": "__notebook__.ipynb",
   "parameters": {},
   "start_time": "2024-05-03T20:24:48.714598",
   "version": "2.5.0"
  }
 },
 "nbformat": 4,
 "nbformat_minor": 5
}
