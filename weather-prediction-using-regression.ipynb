{
 "cells": [
  {
   "cell_type": "code",
   "execution_count": 1,
   "id": "8a0d5c07",
   "metadata": {
    "_cell_guid": "b1076dfc-b9ad-4769-8c92-a6c4dae69d19",
    "_uuid": "8f2839f25d086af736a60e9eeb907d3b93b6e0e5",
    "execution": {
     "iopub.execute_input": "2023-09-21T05:54:19.706034Z",
     "iopub.status.busy": "2023-09-21T05:54:19.705571Z",
     "iopub.status.idle": "2023-09-21T05:54:21.633574Z",
     "shell.execute_reply": "2023-09-21T05:54:21.632388Z"
    },
    "papermill": {
     "duration": 1.942147,
     "end_time": "2023-09-21T05:54:21.636137",
     "exception": false,
     "start_time": "2023-09-21T05:54:19.693990",
     "status": "completed"
    },
    "tags": []
   },
   "outputs": [
    {
     "name": "stdout",
     "output_type": "stream",
     "text": [
      "/kaggle/input/szeged-weather/weatherHistory.csv\n"
     ]
    }
   ],
   "source": [
    "# This Python 3 environment comes with many helpful analytics libraries installed\n",
    "# It is defined by the kaggle/python Docker image: https://github.com/kaggle/docker-python\n",
    "# For example, here's several helpful packages to load\n",
    "\n",
    "import numpy as np # linear algebra\n",
    "import pandas as pd # data processing, CSV file I/O (e.g. pd.read_csv)\n",
    "import matplotlib.pyplot as plt\n",
    "import seaborn as sns\n",
    "\n",
    "# Input data files are available in the read-only \"../input/\" directory\n",
    "# For example, running this (by clicking run or pressing Shift+Enter) will list all files under the input directory\n",
    "\n",
    "import os\n",
    "for dirname, _, filenames in os.walk('/kaggle/input'):\n",
    "    for filename in filenames:\n",
    "        print(os.path.join(dirname, filename))\n",
    "\n",
    "# You can write up to 20GB to the current directory (/kaggle/working/) that gets preserved as output when you create a version using \"Save & Run All\" \n",
    "# You can also write temporary files to /kaggle/temp/, but they won't be saved outside of the current session"
   ]
  },
  {
   "cell_type": "code",
   "execution_count": 2,
   "id": "1d0c64de",
   "metadata": {
    "execution": {
     "iopub.execute_input": "2023-09-21T05:54:21.654942Z",
     "iopub.status.busy": "2023-09-21T05:54:21.654405Z",
     "iopub.status.idle": "2023-09-21T05:54:22.141791Z",
     "shell.execute_reply": "2023-09-21T05:54:22.140801Z"
    },
    "papermill": {
     "duration": 0.499715,
     "end_time": "2023-09-21T05:54:22.144362",
     "exception": false,
     "start_time": "2023-09-21T05:54:21.644647",
     "status": "completed"
    },
    "tags": []
   },
   "outputs": [
    {
     "data": {
      "text/html": [
       "<div>\n",
       "<style scoped>\n",
       "    .dataframe tbody tr th:only-of-type {\n",
       "        vertical-align: middle;\n",
       "    }\n",
       "\n",
       "    .dataframe tbody tr th {\n",
       "        vertical-align: top;\n",
       "    }\n",
       "\n",
       "    .dataframe thead th {\n",
       "        text-align: right;\n",
       "    }\n",
       "</style>\n",
       "<table border=\"1\" class=\"dataframe\">\n",
       "  <thead>\n",
       "    <tr style=\"text-align: right;\">\n",
       "      <th></th>\n",
       "      <th>Formatted Date</th>\n",
       "      <th>Summary</th>\n",
       "      <th>Precip Type</th>\n",
       "      <th>Temperature (C)</th>\n",
       "      <th>Apparent Temperature (C)</th>\n",
       "      <th>Humidity</th>\n",
       "      <th>Wind Speed (km/h)</th>\n",
       "      <th>Wind Bearing (degrees)</th>\n",
       "      <th>Visibility (km)</th>\n",
       "      <th>Loud Cover</th>\n",
       "      <th>Pressure (millibars)</th>\n",
       "      <th>Daily Summary</th>\n",
       "    </tr>\n",
       "  </thead>\n",
       "  <tbody>\n",
       "    <tr>\n",
       "      <th>0</th>\n",
       "      <td>2006-04-01 00:00:00.000 +0200</td>\n",
       "      <td>Partly Cloudy</td>\n",
       "      <td>rain</td>\n",
       "      <td>9.472222</td>\n",
       "      <td>7.388889</td>\n",
       "      <td>0.89</td>\n",
       "      <td>14.1197</td>\n",
       "      <td>251.0</td>\n",
       "      <td>15.8263</td>\n",
       "      <td>0.0</td>\n",
       "      <td>1015.13</td>\n",
       "      <td>Partly cloudy throughout the day.</td>\n",
       "    </tr>\n",
       "    <tr>\n",
       "      <th>1</th>\n",
       "      <td>2006-04-01 01:00:00.000 +0200</td>\n",
       "      <td>Partly Cloudy</td>\n",
       "      <td>rain</td>\n",
       "      <td>9.355556</td>\n",
       "      <td>7.227778</td>\n",
       "      <td>0.86</td>\n",
       "      <td>14.2646</td>\n",
       "      <td>259.0</td>\n",
       "      <td>15.8263</td>\n",
       "      <td>0.0</td>\n",
       "      <td>1015.63</td>\n",
       "      <td>Partly cloudy throughout the day.</td>\n",
       "    </tr>\n",
       "    <tr>\n",
       "      <th>2</th>\n",
       "      <td>2006-04-01 02:00:00.000 +0200</td>\n",
       "      <td>Mostly Cloudy</td>\n",
       "      <td>rain</td>\n",
       "      <td>9.377778</td>\n",
       "      <td>9.377778</td>\n",
       "      <td>0.89</td>\n",
       "      <td>3.9284</td>\n",
       "      <td>204.0</td>\n",
       "      <td>14.9569</td>\n",
       "      <td>0.0</td>\n",
       "      <td>1015.94</td>\n",
       "      <td>Partly cloudy throughout the day.</td>\n",
       "    </tr>\n",
       "    <tr>\n",
       "      <th>3</th>\n",
       "      <td>2006-04-01 03:00:00.000 +0200</td>\n",
       "      <td>Partly Cloudy</td>\n",
       "      <td>rain</td>\n",
       "      <td>8.288889</td>\n",
       "      <td>5.944444</td>\n",
       "      <td>0.83</td>\n",
       "      <td>14.1036</td>\n",
       "      <td>269.0</td>\n",
       "      <td>15.8263</td>\n",
       "      <td>0.0</td>\n",
       "      <td>1016.41</td>\n",
       "      <td>Partly cloudy throughout the day.</td>\n",
       "    </tr>\n",
       "    <tr>\n",
       "      <th>4</th>\n",
       "      <td>2006-04-01 04:00:00.000 +0200</td>\n",
       "      <td>Mostly Cloudy</td>\n",
       "      <td>rain</td>\n",
       "      <td>8.755556</td>\n",
       "      <td>6.977778</td>\n",
       "      <td>0.83</td>\n",
       "      <td>11.0446</td>\n",
       "      <td>259.0</td>\n",
       "      <td>15.8263</td>\n",
       "      <td>0.0</td>\n",
       "      <td>1016.51</td>\n",
       "      <td>Partly cloudy throughout the day.</td>\n",
       "    </tr>\n",
       "  </tbody>\n",
       "</table>\n",
       "</div>"
      ],
      "text/plain": [
       "                  Formatted Date        Summary Precip Type  Temperature (C)  \\\n",
       "0  2006-04-01 00:00:00.000 +0200  Partly Cloudy        rain         9.472222   \n",
       "1  2006-04-01 01:00:00.000 +0200  Partly Cloudy        rain         9.355556   \n",
       "2  2006-04-01 02:00:00.000 +0200  Mostly Cloudy        rain         9.377778   \n",
       "3  2006-04-01 03:00:00.000 +0200  Partly Cloudy        rain         8.288889   \n",
       "4  2006-04-01 04:00:00.000 +0200  Mostly Cloudy        rain         8.755556   \n",
       "\n",
       "   Apparent Temperature (C)  Humidity  Wind Speed (km/h)  \\\n",
       "0                  7.388889      0.89            14.1197   \n",
       "1                  7.227778      0.86            14.2646   \n",
       "2                  9.377778      0.89             3.9284   \n",
       "3                  5.944444      0.83            14.1036   \n",
       "4                  6.977778      0.83            11.0446   \n",
       "\n",
       "   Wind Bearing (degrees)  Visibility (km)  Loud Cover  Pressure (millibars)  \\\n",
       "0                   251.0          15.8263         0.0               1015.13   \n",
       "1                   259.0          15.8263         0.0               1015.63   \n",
       "2                   204.0          14.9569         0.0               1015.94   \n",
       "3                   269.0          15.8263         0.0               1016.41   \n",
       "4                   259.0          15.8263         0.0               1016.51   \n",
       "\n",
       "                       Daily Summary  \n",
       "0  Partly cloudy throughout the day.  \n",
       "1  Partly cloudy throughout the day.  \n",
       "2  Partly cloudy throughout the day.  \n",
       "3  Partly cloudy throughout the day.  \n",
       "4  Partly cloudy throughout the day.  "
      ]
     },
     "execution_count": 2,
     "metadata": {},
     "output_type": "execute_result"
    }
   ],
   "source": [
    "df = pd.read_csv('/kaggle/input/szeged-weather/weatherHistory.csv')\n",
    "df.head()"
   ]
  },
  {
   "cell_type": "code",
   "execution_count": 3,
   "id": "ee2cdd38",
   "metadata": {
    "execution": {
     "iopub.execute_input": "2023-09-21T05:54:22.164195Z",
     "iopub.status.busy": "2023-09-21T05:54:22.163457Z",
     "iopub.status.idle": "2023-09-21T05:54:22.232755Z",
     "shell.execute_reply": "2023-09-21T05:54:22.231372Z"
    },
    "papermill": {
     "duration": 0.081601,
     "end_time": "2023-09-21T05:54:22.234952",
     "exception": false,
     "start_time": "2023-09-21T05:54:22.153351",
     "status": "completed"
    },
    "tags": []
   },
   "outputs": [
    {
     "name": "stdout",
     "output_type": "stream",
     "text": [
      "<class 'pandas.core.frame.DataFrame'>\n",
      "RangeIndex: 96453 entries, 0 to 96452\n",
      "Data columns (total 12 columns):\n",
      " #   Column                    Non-Null Count  Dtype  \n",
      "---  ------                    --------------  -----  \n",
      " 0   Formatted Date            96453 non-null  object \n",
      " 1   Summary                   96453 non-null  object \n",
      " 2   Precip Type               95936 non-null  object \n",
      " 3   Temperature (C)           96453 non-null  float64\n",
      " 4   Apparent Temperature (C)  96453 non-null  float64\n",
      " 5   Humidity                  96453 non-null  float64\n",
      " 6   Wind Speed (km/h)         96453 non-null  float64\n",
      " 7   Wind Bearing (degrees)    96453 non-null  float64\n",
      " 8   Visibility (km)           96453 non-null  float64\n",
      " 9   Loud Cover                96453 non-null  float64\n",
      " 10  Pressure (millibars)      96453 non-null  float64\n",
      " 11  Daily Summary             96453 non-null  object \n",
      "dtypes: float64(8), object(4)\n",
      "memory usage: 8.8+ MB\n"
     ]
    }
   ],
   "source": [
    "df.info()"
   ]
  },
  {
   "cell_type": "code",
   "execution_count": 4,
   "id": "58172fe7",
   "metadata": {
    "execution": {
     "iopub.execute_input": "2023-09-21T05:54:22.255332Z",
     "iopub.status.busy": "2023-09-21T05:54:22.254991Z",
     "iopub.status.idle": "2023-09-21T05:54:22.322210Z",
     "shell.execute_reply": "2023-09-21T05:54:22.321095Z"
    },
    "papermill": {
     "duration": 0.079888,
     "end_time": "2023-09-21T05:54:22.324528",
     "exception": false,
     "start_time": "2023-09-21T05:54:22.244640",
     "status": "completed"
    },
    "tags": []
   },
   "outputs": [
    {
     "data": {
      "text/html": [
       "<div>\n",
       "<style scoped>\n",
       "    .dataframe tbody tr th:only-of-type {\n",
       "        vertical-align: middle;\n",
       "    }\n",
       "\n",
       "    .dataframe tbody tr th {\n",
       "        vertical-align: top;\n",
       "    }\n",
       "\n",
       "    .dataframe thead th {\n",
       "        text-align: right;\n",
       "    }\n",
       "</style>\n",
       "<table border=\"1\" class=\"dataframe\">\n",
       "  <thead>\n",
       "    <tr style=\"text-align: right;\">\n",
       "      <th></th>\n",
       "      <th>Temperature (C)</th>\n",
       "      <th>Apparent Temperature (C)</th>\n",
       "      <th>Humidity</th>\n",
       "      <th>Wind Speed (km/h)</th>\n",
       "      <th>Wind Bearing (degrees)</th>\n",
       "      <th>Visibility (km)</th>\n",
       "      <th>Loud Cover</th>\n",
       "      <th>Pressure (millibars)</th>\n",
       "    </tr>\n",
       "  </thead>\n",
       "  <tbody>\n",
       "    <tr>\n",
       "      <th>count</th>\n",
       "      <td>96453.000000</td>\n",
       "      <td>96453.000000</td>\n",
       "      <td>96453.000000</td>\n",
       "      <td>96453.000000</td>\n",
       "      <td>96453.000000</td>\n",
       "      <td>96453.000000</td>\n",
       "      <td>96453.0</td>\n",
       "      <td>96453.000000</td>\n",
       "    </tr>\n",
       "    <tr>\n",
       "      <th>mean</th>\n",
       "      <td>11.932678</td>\n",
       "      <td>10.855029</td>\n",
       "      <td>0.734899</td>\n",
       "      <td>10.810640</td>\n",
       "      <td>187.509232</td>\n",
       "      <td>10.347325</td>\n",
       "      <td>0.0</td>\n",
       "      <td>1003.235956</td>\n",
       "    </tr>\n",
       "    <tr>\n",
       "      <th>std</th>\n",
       "      <td>9.551546</td>\n",
       "      <td>10.696847</td>\n",
       "      <td>0.195473</td>\n",
       "      <td>6.913571</td>\n",
       "      <td>107.383428</td>\n",
       "      <td>4.192123</td>\n",
       "      <td>0.0</td>\n",
       "      <td>116.969906</td>\n",
       "    </tr>\n",
       "    <tr>\n",
       "      <th>min</th>\n",
       "      <td>-21.822222</td>\n",
       "      <td>-27.716667</td>\n",
       "      <td>0.000000</td>\n",
       "      <td>0.000000</td>\n",
       "      <td>0.000000</td>\n",
       "      <td>0.000000</td>\n",
       "      <td>0.0</td>\n",
       "      <td>0.000000</td>\n",
       "    </tr>\n",
       "    <tr>\n",
       "      <th>25%</th>\n",
       "      <td>4.688889</td>\n",
       "      <td>2.311111</td>\n",
       "      <td>0.600000</td>\n",
       "      <td>5.828200</td>\n",
       "      <td>116.000000</td>\n",
       "      <td>8.339800</td>\n",
       "      <td>0.0</td>\n",
       "      <td>1011.900000</td>\n",
       "    </tr>\n",
       "    <tr>\n",
       "      <th>50%</th>\n",
       "      <td>12.000000</td>\n",
       "      <td>12.000000</td>\n",
       "      <td>0.780000</td>\n",
       "      <td>9.965900</td>\n",
       "      <td>180.000000</td>\n",
       "      <td>10.046400</td>\n",
       "      <td>0.0</td>\n",
       "      <td>1016.450000</td>\n",
       "    </tr>\n",
       "    <tr>\n",
       "      <th>75%</th>\n",
       "      <td>18.838889</td>\n",
       "      <td>18.838889</td>\n",
       "      <td>0.890000</td>\n",
       "      <td>14.135800</td>\n",
       "      <td>290.000000</td>\n",
       "      <td>14.812000</td>\n",
       "      <td>0.0</td>\n",
       "      <td>1021.090000</td>\n",
       "    </tr>\n",
       "    <tr>\n",
       "      <th>max</th>\n",
       "      <td>39.905556</td>\n",
       "      <td>39.344444</td>\n",
       "      <td>1.000000</td>\n",
       "      <td>63.852600</td>\n",
       "      <td>359.000000</td>\n",
       "      <td>16.100000</td>\n",
       "      <td>0.0</td>\n",
       "      <td>1046.380000</td>\n",
       "    </tr>\n",
       "  </tbody>\n",
       "</table>\n",
       "</div>"
      ],
      "text/plain": [
       "       Temperature (C)  Apparent Temperature (C)      Humidity  \\\n",
       "count     96453.000000              96453.000000  96453.000000   \n",
       "mean         11.932678                 10.855029      0.734899   \n",
       "std           9.551546                 10.696847      0.195473   \n",
       "min         -21.822222                -27.716667      0.000000   \n",
       "25%           4.688889                  2.311111      0.600000   \n",
       "50%          12.000000                 12.000000      0.780000   \n",
       "75%          18.838889                 18.838889      0.890000   \n",
       "max          39.905556                 39.344444      1.000000   \n",
       "\n",
       "       Wind Speed (km/h)  Wind Bearing (degrees)  Visibility (km)  Loud Cover  \\\n",
       "count       96453.000000            96453.000000     96453.000000     96453.0   \n",
       "mean           10.810640              187.509232        10.347325         0.0   \n",
       "std             6.913571              107.383428         4.192123         0.0   \n",
       "min             0.000000                0.000000         0.000000         0.0   \n",
       "25%             5.828200              116.000000         8.339800         0.0   \n",
       "50%             9.965900              180.000000        10.046400         0.0   \n",
       "75%            14.135800              290.000000        14.812000         0.0   \n",
       "max            63.852600              359.000000        16.100000         0.0   \n",
       "\n",
       "       Pressure (millibars)  \n",
       "count          96453.000000  \n",
       "mean            1003.235956  \n",
       "std              116.969906  \n",
       "min                0.000000  \n",
       "25%             1011.900000  \n",
       "50%             1016.450000  \n",
       "75%             1021.090000  \n",
       "max             1046.380000  "
      ]
     },
     "execution_count": 4,
     "metadata": {},
     "output_type": "execute_result"
    }
   ],
   "source": [
    "df.describe()"
   ]
  },
  {
   "cell_type": "code",
   "execution_count": 5,
   "id": "b6bdd8c8",
   "metadata": {
    "execution": {
     "iopub.execute_input": "2023-09-21T05:54:22.345436Z",
     "iopub.status.busy": "2023-09-21T05:54:22.345035Z",
     "iopub.status.idle": "2023-09-21T05:54:22.394638Z",
     "shell.execute_reply": "2023-09-21T05:54:22.393525Z"
    },
    "papermill": {
     "duration": 0.062688,
     "end_time": "2023-09-21T05:54:22.396821",
     "exception": false,
     "start_time": "2023-09-21T05:54:22.334133",
     "status": "completed"
    },
    "tags": []
   },
   "outputs": [
    {
     "data": {
      "text/plain": [
       "Formatted Date                0\n",
       "Summary                       0\n",
       "Precip Type                 517\n",
       "Temperature (C)               0\n",
       "Apparent Temperature (C)      0\n",
       "Humidity                      0\n",
       "Wind Speed (km/h)             0\n",
       "Wind Bearing (degrees)        0\n",
       "Visibility (km)               0\n",
       "Loud Cover                    0\n",
       "Pressure (millibars)          0\n",
       "Daily Summary                 0\n",
       "dtype: int64"
      ]
     },
     "execution_count": 5,
     "metadata": {},
     "output_type": "execute_result"
    }
   ],
   "source": [
    "df.isna().sum()"
   ]
  },
  {
   "cell_type": "code",
   "execution_count": 6,
   "id": "ef509018",
   "metadata": {
    "execution": {
     "iopub.execute_input": "2023-09-21T05:54:22.417500Z",
     "iopub.status.busy": "2023-09-21T05:54:22.417121Z",
     "iopub.status.idle": "2023-09-21T05:54:22.434843Z",
     "shell.execute_reply": "2023-09-21T05:54:22.433783Z"
    },
    "papermill": {
     "duration": 0.030859,
     "end_time": "2023-09-21T05:54:22.437265",
     "exception": false,
     "start_time": "2023-09-21T05:54:22.406406",
     "status": "completed"
    },
    "tags": []
   },
   "outputs": [],
   "source": [
    "df['Precip Type'].fillna('Unknown', inplace = True)"
   ]
  },
  {
   "cell_type": "code",
   "execution_count": 7,
   "id": "d88b24a6",
   "metadata": {
    "execution": {
     "iopub.execute_input": "2023-09-21T05:54:22.458430Z",
     "iopub.status.busy": "2023-09-21T05:54:22.458086Z",
     "iopub.status.idle": "2023-09-21T05:54:22.507726Z",
     "shell.execute_reply": "2023-09-21T05:54:22.506752Z"
    },
    "papermill": {
     "duration": 0.062946,
     "end_time": "2023-09-21T05:54:22.509999",
     "exception": false,
     "start_time": "2023-09-21T05:54:22.447053",
     "status": "completed"
    },
    "tags": []
   },
   "outputs": [
    {
     "data": {
      "text/plain": [
       "Formatted Date              0\n",
       "Summary                     0\n",
       "Precip Type                 0\n",
       "Temperature (C)             0\n",
       "Apparent Temperature (C)    0\n",
       "Humidity                    0\n",
       "Wind Speed (km/h)           0\n",
       "Wind Bearing (degrees)      0\n",
       "Visibility (km)             0\n",
       "Loud Cover                  0\n",
       "Pressure (millibars)        0\n",
       "Daily Summary               0\n",
       "dtype: int64"
      ]
     },
     "execution_count": 7,
     "metadata": {},
     "output_type": "execute_result"
    }
   ],
   "source": [
    "df.isna().sum()"
   ]
  },
  {
   "cell_type": "code",
   "execution_count": 8,
   "id": "f7aebc1d",
   "metadata": {
    "execution": {
     "iopub.execute_input": "2023-09-21T05:54:22.531349Z",
     "iopub.status.busy": "2023-09-21T05:54:22.530665Z",
     "iopub.status.idle": "2023-09-21T05:54:22.537505Z",
     "shell.execute_reply": "2023-09-21T05:54:22.536496Z"
    },
    "papermill": {
     "duration": 0.019923,
     "end_time": "2023-09-21T05:54:22.539609",
     "exception": false,
     "start_time": "2023-09-21T05:54:22.519686",
     "status": "completed"
    },
    "tags": []
   },
   "outputs": [
    {
     "data": {
      "text/plain": [
       "Index(['Formatted Date', 'Summary', 'Precip Type', 'Temperature (C)',\n",
       "       'Apparent Temperature (C)', 'Humidity', 'Wind Speed (km/h)',\n",
       "       'Wind Bearing (degrees)', 'Visibility (km)', 'Loud Cover',\n",
       "       'Pressure (millibars)', 'Daily Summary'],\n",
       "      dtype='object')"
      ]
     },
     "execution_count": 8,
     "metadata": {},
     "output_type": "execute_result"
    }
   ],
   "source": [
    "df.columns"
   ]
  },
  {
   "cell_type": "code",
   "execution_count": 9,
   "id": "e9109d28",
   "metadata": {
    "execution": {
     "iopub.execute_input": "2023-09-21T05:54:22.561184Z",
     "iopub.status.busy": "2023-09-21T05:54:22.560556Z",
     "iopub.status.idle": "2023-09-21T05:54:25.164365Z",
     "shell.execute_reply": "2023-09-21T05:54:25.163478Z"
    },
    "papermill": {
     "duration": 2.618503,
     "end_time": "2023-09-21T05:54:25.167691",
     "exception": false,
     "start_time": "2023-09-21T05:54:22.549188",
     "status": "completed"
    },
    "tags": []
   },
   "outputs": [
    {
     "name": "stderr",
     "output_type": "stream",
     "text": [
      "/opt/conda/lib/python3.10/site-packages/seaborn/axisgrid.py:118: UserWarning: The figure layout has changed to tight\n",
      "  self._figure.tight_layout(*args, **kwargs)\n"
     ]
    },
    {
     "data": {
      "text/plain": [
       "<seaborn.axisgrid.PairGrid at 0x7c8b0141cee0>"
      ]
     },
     "execution_count": 9,
     "metadata": {},
     "output_type": "execute_result"
    },
    {
     "data": {
      "image/png": "[encoded data removed]",
      "text/plain": [
       "<Figure size 1000x250 with 4 Axes>"
      ]
     },
     "metadata": {},
     "output_type": "display_data"
    }
   ],
   "source": [
    "sns.pairplot( df, x_vars = ['Humidity','Wind Speed (km/h)','Loud Cover','Pressure (millibars)'], y_vars = ['Temperature (C)'])"
   ]
  },
  {
   "cell_type": "code",
   "execution_count": 10,
   "id": "7fad46fd",
   "metadata": {
    "execution": {
     "iopub.execute_input": "2023-09-21T05:54:25.195129Z",
     "iopub.status.busy": "2023-09-21T05:54:25.194546Z",
     "iopub.status.idle": "2023-09-21T05:54:40.495725Z",
     "shell.execute_reply": "2023-09-21T05:54:40.494594Z"
    },
    "papermill": {
     "duration": 15.318238,
     "end_time": "2023-09-21T05:54:40.498676",
     "exception": false,
     "start_time": "2023-09-21T05:54:25.180438",
     "status": "completed"
    },
    "tags": []
   },
   "outputs": [
    {
     "data": {
      "text/plain": [
       "<Axes: xlabel='Humidity', ylabel='Temperature (C)'>"
      ]
     },
     "execution_count": 10,
     "metadata": {},
     "output_type": "execute_result"
    },
    {
     "data": {
      "image/png": "[encoded data removed]",
      "text/plain": [
       "<Figure size 640x480 with 1 Axes>"
      ]
     },
     "metadata": {},
     "output_type": "display_data"
    }
   ],
   "source": [
    "sns.regplot(df,x = 'Humidity', y = 'Temperature (C)')"
   ]
  },
  {
   "cell_type": "code",
   "execution_count": 11,
   "id": "d1c75502",
   "metadata": {
    "execution": {
     "iopub.execute_input": "2023-09-21T05:54:40.526612Z",
     "iopub.status.busy": "2023-09-21T05:54:40.526233Z",
     "iopub.status.idle": "2023-09-21T05:54:40.739262Z",
     "shell.execute_reply": "2023-09-21T05:54:40.738122Z"
    },
    "papermill": {
     "duration": 0.229875,
     "end_time": "2023-09-21T05:54:40.741705",
     "exception": false,
     "start_time": "2023-09-21T05:54:40.511830",
     "status": "completed"
    },
    "tags": []
   },
   "outputs": [],
   "source": [
    "from sklearn.preprocessing import LabelEncoder\n",
    "le = LabelEncoder()\n",
    "df['Summary'] = le.fit_transform(df['Summary'])\n",
    "df['Precip Type'] = le.fit_transform(df['Precip Type'])"
   ]
  },
  {
   "cell_type": "code",
   "execution_count": 12,
   "id": "e9ec3730",
   "metadata": {
    "execution": {
     "iopub.execute_input": "2023-09-21T05:54:40.769976Z",
     "iopub.status.busy": "2023-09-21T05:54:40.768935Z",
     "iopub.status.idle": "2023-09-21T05:54:40.787799Z",
     "shell.execute_reply": "2023-09-21T05:54:40.786966Z"
    },
    "papermill": {
     "duration": 0.035128,
     "end_time": "2023-09-21T05:54:40.789867",
     "exception": false,
     "start_time": "2023-09-21T05:54:40.754739",
     "status": "completed"
    },
    "tags": []
   },
   "outputs": [
    {
     "data": {
      "text/html": [
       "<div>\n",
       "<style scoped>\n",
       "    .dataframe tbody tr th:only-of-type {\n",
       "        vertical-align: middle;\n",
       "    }\n",
       "\n",
       "    .dataframe tbody tr th {\n",
       "        vertical-align: top;\n",
       "    }\n",
       "\n",
       "    .dataframe thead th {\n",
       "        text-align: right;\n",
       "    }\n",
       "</style>\n",
       "<table border=\"1\" class=\"dataframe\">\n",
       "  <thead>\n",
       "    <tr style=\"text-align: right;\">\n",
       "      <th></th>\n",
       "      <th>Formatted Date</th>\n",
       "      <th>Summary</th>\n",
       "      <th>Precip Type</th>\n",
       "      <th>Temperature (C)</th>\n",
       "      <th>Apparent Temperature (C)</th>\n",
       "      <th>Humidity</th>\n",
       "      <th>Wind Speed (km/h)</th>\n",
       "      <th>Wind Bearing (degrees)</th>\n",
       "      <th>Visibility (km)</th>\n",
       "      <th>Loud Cover</th>\n",
       "      <th>Pressure (millibars)</th>\n",
       "      <th>Daily Summary</th>\n",
       "    </tr>\n",
       "  </thead>\n",
       "  <tbody>\n",
       "    <tr>\n",
       "      <th>0</th>\n",
       "      <td>2006-04-01 00:00:00.000 +0200</td>\n",
       "      <td>19</td>\n",
       "      <td>1</td>\n",
       "      <td>9.472222</td>\n",
       "      <td>7.388889</td>\n",
       "      <td>0.89</td>\n",
       "      <td>14.1197</td>\n",
       "      <td>251.0</td>\n",
       "      <td>15.8263</td>\n",
       "      <td>0.0</td>\n",
       "      <td>1015.13</td>\n",
       "      <td>Partly cloudy throughout the day.</td>\n",
       "    </tr>\n",
       "    <tr>\n",
       "      <th>1</th>\n",
       "      <td>2006-04-01 01:00:00.000 +0200</td>\n",
       "      <td>19</td>\n",
       "      <td>1</td>\n",
       "      <td>9.355556</td>\n",
       "      <td>7.227778</td>\n",
       "      <td>0.86</td>\n",
       "      <td>14.2646</td>\n",
       "      <td>259.0</td>\n",
       "      <td>15.8263</td>\n",
       "      <td>0.0</td>\n",
       "      <td>1015.63</td>\n",
       "      <td>Partly cloudy throughout the day.</td>\n",
       "    </tr>\n",
       "    <tr>\n",
       "      <th>2</th>\n",
       "      <td>2006-04-01 02:00:00.000 +0200</td>\n",
       "      <td>17</td>\n",
       "      <td>1</td>\n",
       "      <td>9.377778</td>\n",
       "      <td>9.377778</td>\n",
       "      <td>0.89</td>\n",
       "      <td>3.9284</td>\n",
       "      <td>204.0</td>\n",
       "      <td>14.9569</td>\n",
       "      <td>0.0</td>\n",
       "      <td>1015.94</td>\n",
       "      <td>Partly cloudy throughout the day.</td>\n",
       "    </tr>\n",
       "    <tr>\n",
       "      <th>3</th>\n",
       "      <td>2006-04-01 03:00:00.000 +0200</td>\n",
       "      <td>19</td>\n",
       "      <td>1</td>\n",
       "      <td>8.288889</td>\n",
       "      <td>5.944444</td>\n",
       "      <td>0.83</td>\n",
       "      <td>14.1036</td>\n",
       "      <td>269.0</td>\n",
       "      <td>15.8263</td>\n",
       "      <td>0.0</td>\n",
       "      <td>1016.41</td>\n",
       "      <td>Partly cloudy throughout the day.</td>\n",
       "    </tr>\n",
       "    <tr>\n",
       "      <th>4</th>\n",
       "      <td>2006-04-01 04:00:00.000 +0200</td>\n",
       "      <td>17</td>\n",
       "      <td>1</td>\n",
       "      <td>8.755556</td>\n",
       "      <td>6.977778</td>\n",
       "      <td>0.83</td>\n",
       "      <td>11.0446</td>\n",
       "      <td>259.0</td>\n",
       "      <td>15.8263</td>\n",
       "      <td>0.0</td>\n",
       "      <td>1016.51</td>\n",
       "      <td>Partly cloudy throughout the day.</td>\n",
       "    </tr>\n",
       "  </tbody>\n",
       "</table>\n",
       "</div>"
      ],
      "text/plain": [
       "                  Formatted Date  Summary  Precip Type  Temperature (C)  \\\n",
       "0  2006-04-01 00:00:00.000 +0200       19            1         9.472222   \n",
       "1  2006-04-01 01:00:00.000 +0200       19            1         9.355556   \n",
       "2  2006-04-01 02:00:00.000 +0200       17            1         9.377778   \n",
       "3  2006-04-01 03:00:00.000 +0200       19            1         8.288889   \n",
       "4  2006-04-01 04:00:00.000 +0200       17            1         8.755556   \n",
       "\n",
       "   Apparent Temperature (C)  Humidity  Wind Speed (km/h)  \\\n",
       "0                  7.388889      0.89            14.1197   \n",
       "1                  7.227778      0.86            14.2646   \n",
       "2                  9.377778      0.89             3.9284   \n",
       "3                  5.944444      0.83            14.1036   \n",
       "4                  6.977778      0.83            11.0446   \n",
       "\n",
       "   Wind Bearing (degrees)  Visibility (km)  Loud Cover  Pressure (millibars)  \\\n",
       "0                   251.0          15.8263         0.0               1015.13   \n",
       "1                   259.0          15.8263         0.0               1015.63   \n",
       "2                   204.0          14.9569         0.0               1015.94   \n",
       "3                   269.0          15.8263         0.0               1016.41   \n",
       "4                   259.0          15.8263         0.0               1016.51   \n",
       "\n",
       "                       Daily Summary  \n",
       "0  Partly cloudy throughout the day.  \n",
       "1  Partly cloudy throughout the day.  \n",
       "2  Partly cloudy throughout the day.  \n",
       "3  Partly cloudy throughout the day.  \n",
       "4  Partly cloudy throughout the day.  "
      ]
     },
     "execution_count": 12,
     "metadata": {},
     "output_type": "execute_result"
    }
   ],
   "source": [
    "df.head()"
   ]
  },
  {
   "cell_type": "code",
   "execution_count": 13,
   "id": "7744ac11",
   "metadata": {
    "execution": {
     "iopub.execute_input": "2023-09-21T05:54:40.818156Z",
     "iopub.status.busy": "2023-09-21T05:54:40.817556Z",
     "iopub.status.idle": "2023-09-21T05:54:40.826976Z",
     "shell.execute_reply": "2023-09-21T05:54:40.825854Z"
    },
    "papermill": {
     "duration": 0.026366,
     "end_time": "2023-09-21T05:54:40.829487",
     "exception": false,
     "start_time": "2023-09-21T05:54:40.803121",
     "status": "completed"
    },
    "tags": []
   },
   "outputs": [],
   "source": [
    "X = df.drop(['Formatted Date', 'Temperature (C)', 'Daily Summary'], axis = 1)\n",
    "y = df['Temperature (C)']"
   ]
  },
  {
   "cell_type": "code",
   "execution_count": 14,
   "id": "029ccd50",
   "metadata": {
    "execution": {
     "iopub.execute_input": "2023-09-21T05:54:40.857894Z",
     "iopub.status.busy": "2023-09-21T05:54:40.857449Z",
     "iopub.status.idle": "2023-09-21T05:54:40.875008Z",
     "shell.execute_reply": "2023-09-21T05:54:40.874214Z"
    },
    "papermill": {
     "duration": 0.034353,
     "end_time": "2023-09-21T05:54:40.877204",
     "exception": false,
     "start_time": "2023-09-21T05:54:40.842851",
     "status": "completed"
    },
    "tags": []
   },
   "outputs": [
    {
     "data": {
      "text/html": [
       "<div>\n",
       "<style scoped>\n",
       "    .dataframe tbody tr th:only-of-type {\n",
       "        vertical-align: middle;\n",
       "    }\n",
       "\n",
       "    .dataframe tbody tr th {\n",
       "        vertical-align: top;\n",
       "    }\n",
       "\n",
       "    .dataframe thead th {\n",
       "        text-align: right;\n",
       "    }\n",
       "</style>\n",
       "<table border=\"1\" class=\"dataframe\">\n",
       "  <thead>\n",
       "    <tr style=\"text-align: right;\">\n",
       "      <th></th>\n",
       "      <th>Summary</th>\n",
       "      <th>Precip Type</th>\n",
       "      <th>Apparent Temperature (C)</th>\n",
       "      <th>Humidity</th>\n",
       "      <th>Wind Speed (km/h)</th>\n",
       "      <th>Wind Bearing (degrees)</th>\n",
       "      <th>Visibility (km)</th>\n",
       "      <th>Loud Cover</th>\n",
       "      <th>Pressure (millibars)</th>\n",
       "    </tr>\n",
       "  </thead>\n",
       "  <tbody>\n",
       "    <tr>\n",
       "      <th>0</th>\n",
       "      <td>19</td>\n",
       "      <td>1</td>\n",
       "      <td>7.388889</td>\n",
       "      <td>0.89</td>\n",
       "      <td>14.1197</td>\n",
       "      <td>251.0</td>\n",
       "      <td>15.8263</td>\n",
       "      <td>0.0</td>\n",
       "      <td>1015.13</td>\n",
       "    </tr>\n",
       "    <tr>\n",
       "      <th>1</th>\n",
       "      <td>19</td>\n",
       "      <td>1</td>\n",
       "      <td>7.227778</td>\n",
       "      <td>0.86</td>\n",
       "      <td>14.2646</td>\n",
       "      <td>259.0</td>\n",
       "      <td>15.8263</td>\n",
       "      <td>0.0</td>\n",
       "      <td>1015.63</td>\n",
       "    </tr>\n",
       "    <tr>\n",
       "      <th>2</th>\n",
       "      <td>17</td>\n",
       "      <td>1</td>\n",
       "      <td>9.377778</td>\n",
       "      <td>0.89</td>\n",
       "      <td>3.9284</td>\n",
       "      <td>204.0</td>\n",
       "      <td>14.9569</td>\n",
       "      <td>0.0</td>\n",
       "      <td>1015.94</td>\n",
       "    </tr>\n",
       "    <tr>\n",
       "      <th>3</th>\n",
       "      <td>19</td>\n",
       "      <td>1</td>\n",
       "      <td>5.944444</td>\n",
       "      <td>0.83</td>\n",
       "      <td>14.1036</td>\n",
       "      <td>269.0</td>\n",
       "      <td>15.8263</td>\n",
       "      <td>0.0</td>\n",
       "      <td>1016.41</td>\n",
       "    </tr>\n",
       "    <tr>\n",
       "      <th>4</th>\n",
       "      <td>17</td>\n",
       "      <td>1</td>\n",
       "      <td>6.977778</td>\n",
       "      <td>0.83</td>\n",
       "      <td>11.0446</td>\n",
       "      <td>259.0</td>\n",
       "      <td>15.8263</td>\n",
       "      <td>0.0</td>\n",
       "      <td>1016.51</td>\n",
       "    </tr>\n",
       "  </tbody>\n",
       "</table>\n",
       "</div>"
      ],
      "text/plain": [
       "   Summary  Precip Type  Apparent Temperature (C)  Humidity  \\\n",
       "0       19            1                  7.388889      0.89   \n",
       "1       19            1                  7.227778      0.86   \n",
       "2       17            1                  9.377778      0.89   \n",
       "3       19            1                  5.944444      0.83   \n",
       "4       17            1                  6.977778      0.83   \n",
       "\n",
       "   Wind Speed (km/h)  Wind Bearing (degrees)  Visibility (km)  Loud Cover  \\\n",
       "0            14.1197                   251.0          15.8263         0.0   \n",
       "1            14.2646                   259.0          15.8263         0.0   \n",
       "2             3.9284                   204.0          14.9569         0.0   \n",
       "3            14.1036                   269.0          15.8263         0.0   \n",
       "4            11.0446                   259.0          15.8263         0.0   \n",
       "\n",
       "   Pressure (millibars)  \n",
       "0               1015.13  \n",
       "1               1015.63  \n",
       "2               1015.94  \n",
       "3               1016.41  \n",
       "4               1016.51  "
      ]
     },
     "execution_count": 14,
     "metadata": {},
     "output_type": "execute_result"
    }
   ],
   "source": [
    "X.head()"
   ]
  },
  {
   "cell_type": "code",
   "execution_count": 15,
   "id": "772d86ed",
   "metadata": {
    "execution": {
     "iopub.execute_input": "2023-09-21T05:54:40.906826Z",
     "iopub.status.busy": "2023-09-21T05:54:40.906041Z",
     "iopub.status.idle": "2023-09-21T05:54:40.914461Z",
     "shell.execute_reply": "2023-09-21T05:54:40.913342Z"
    },
    "papermill": {
     "duration": 0.025629,
     "end_time": "2023-09-21T05:54:40.916751",
     "exception": false,
     "start_time": "2023-09-21T05:54:40.891122",
     "status": "completed"
    },
    "tags": []
   },
   "outputs": [
    {
     "data": {
      "text/plain": [
       "0    9.472222\n",
       "1    9.355556\n",
       "2    9.377778\n",
       "3    8.288889\n",
       "4    8.755556\n",
       "Name: Temperature (C), dtype: float64"
      ]
     },
     "execution_count": 15,
     "metadata": {},
     "output_type": "execute_result"
    }
   ],
   "source": [
    "y.head()"
   ]
  },
  {
   "cell_type": "code",
   "execution_count": 16,
   "id": "65658717",
   "metadata": {
    "execution": {
     "iopub.execute_input": "2023-09-21T05:54:40.946128Z",
     "iopub.status.busy": "2023-09-21T05:54:40.945664Z",
     "iopub.status.idle": "2023-09-21T05:54:40.953242Z",
     "shell.execute_reply": "2023-09-21T05:54:40.952134Z"
    },
    "papermill": {
     "duration": 0.025013,
     "end_time": "2023-09-21T05:54:40.955399",
     "exception": false,
     "start_time": "2023-09-21T05:54:40.930386",
     "status": "completed"
    },
    "tags": []
   },
   "outputs": [
    {
     "data": {
      "text/plain": [
       "Index(['Summary', 'Precip Type', 'Apparent Temperature (C)', 'Humidity',\n",
       "       'Wind Speed (km/h)', 'Wind Bearing (degrees)', 'Visibility (km)',\n",
       "       'Loud Cover', 'Pressure (millibars)'],\n",
       "      dtype='object')"
      ]
     },
     "execution_count": 16,
     "metadata": {},
     "output_type": "execute_result"
    }
   ],
   "source": [
    "cols = X.columns\n",
    "cols"
   ]
  },
  {
   "cell_type": "code",
   "execution_count": 17,
   "id": "ac58b31b",
   "metadata": {
    "execution": {
     "iopub.execute_input": "2023-09-21T05:54:40.985559Z",
     "iopub.status.busy": "2023-09-21T05:54:40.984476Z",
     "iopub.status.idle": "2023-09-21T05:54:41.009160Z",
     "shell.execute_reply": "2023-09-21T05:54:41.007947Z"
    },
    "papermill": {
     "duration": 0.042615,
     "end_time": "2023-09-21T05:54:41.011958",
     "exception": false,
     "start_time": "2023-09-21T05:54:40.969343",
     "status": "completed"
    },
    "tags": []
   },
   "outputs": [],
   "source": [
    "from sklearn.preprocessing import MinMaxScaler\n",
    "ms = MinMaxScaler()\n",
    "X = ms.fit_transform(X)"
   ]
  },
  {
   "cell_type": "code",
   "execution_count": 18,
   "id": "99818d63",
   "metadata": {
    "execution": {
     "iopub.execute_input": "2023-09-21T05:54:41.042430Z",
     "iopub.status.busy": "2023-09-21T05:54:41.041798Z",
     "iopub.status.idle": "2023-09-21T05:54:41.059187Z",
     "shell.execute_reply": "2023-09-21T05:54:41.058083Z"
    },
    "papermill": {
     "duration": 0.035007,
     "end_time": "2023-09-21T05:54:41.061404",
     "exception": false,
     "start_time": "2023-09-21T05:54:41.026397",
     "status": "completed"
    },
    "tags": []
   },
   "outputs": [
    {
     "data": {
      "text/html": [
       "<div>\n",
       "<style scoped>\n",
       "    .dataframe tbody tr th:only-of-type {\n",
       "        vertical-align: middle;\n",
       "    }\n",
       "\n",
       "    .dataframe tbody tr th {\n",
       "        vertical-align: top;\n",
       "    }\n",
       "\n",
       "    .dataframe thead th {\n",
       "        text-align: right;\n",
       "    }\n",
       "</style>\n",
       "<table border=\"1\" class=\"dataframe\">\n",
       "  <thead>\n",
       "    <tr style=\"text-align: right;\">\n",
       "      <th></th>\n",
       "      <th>Summary</th>\n",
       "      <th>Precip Type</th>\n",
       "      <th>Apparent Temperature (C)</th>\n",
       "      <th>Humidity</th>\n",
       "      <th>Wind Speed (km/h)</th>\n",
       "      <th>Wind Bearing (degrees)</th>\n",
       "      <th>Visibility (km)</th>\n",
       "      <th>Loud Cover</th>\n",
       "      <th>Pressure (millibars)</th>\n",
       "    </tr>\n",
       "  </thead>\n",
       "  <tbody>\n",
       "    <tr>\n",
       "      <th>0</th>\n",
       "      <td>0.730769</td>\n",
       "      <td>0.5</td>\n",
       "      <td>0.523486</td>\n",
       "      <td>0.89</td>\n",
       "      <td>0.221130</td>\n",
       "      <td>0.699164</td>\n",
       "      <td>0.983</td>\n",
       "      <td>0.0</td>\n",
       "      <td>0.970135</td>\n",
       "    </tr>\n",
       "    <tr>\n",
       "      <th>1</th>\n",
       "      <td>0.730769</td>\n",
       "      <td>0.5</td>\n",
       "      <td>0.521084</td>\n",
       "      <td>0.86</td>\n",
       "      <td>0.223399</td>\n",
       "      <td>0.721448</td>\n",
       "      <td>0.983</td>\n",
       "      <td>0.0</td>\n",
       "      <td>0.970613</td>\n",
       "    </tr>\n",
       "    <tr>\n",
       "      <th>2</th>\n",
       "      <td>0.653846</td>\n",
       "      <td>0.5</td>\n",
       "      <td>0.553144</td>\n",
       "      <td>0.89</td>\n",
       "      <td>0.061523</td>\n",
       "      <td>0.568245</td>\n",
       "      <td>0.929</td>\n",
       "      <td>0.0</td>\n",
       "      <td>0.970909</td>\n",
       "    </tr>\n",
       "    <tr>\n",
       "      <th>3</th>\n",
       "      <td>0.730769</td>\n",
       "      <td>0.5</td>\n",
       "      <td>0.501947</td>\n",
       "      <td>0.83</td>\n",
       "      <td>0.220877</td>\n",
       "      <td>0.749304</td>\n",
       "      <td>0.983</td>\n",
       "      <td>0.0</td>\n",
       "      <td>0.971358</td>\n",
       "    </tr>\n",
       "    <tr>\n",
       "      <th>4</th>\n",
       "      <td>0.653846</td>\n",
       "      <td>0.5</td>\n",
       "      <td>0.517356</td>\n",
       "      <td>0.83</td>\n",
       "      <td>0.172970</td>\n",
       "      <td>0.721448</td>\n",
       "      <td>0.983</td>\n",
       "      <td>0.0</td>\n",
       "      <td>0.971454</td>\n",
       "    </tr>\n",
       "  </tbody>\n",
       "</table>\n",
       "</div>"
      ],
      "text/plain": [
       "    Summary  Precip Type  Apparent Temperature (C)  Humidity  \\\n",
       "0  0.730769          0.5                  0.523486      0.89   \n",
       "1  0.730769          0.5                  0.521084      0.86   \n",
       "2  0.653846          0.5                  0.553144      0.89   \n",
       "3  0.730769          0.5                  0.501947      0.83   \n",
       "4  0.653846          0.5                  0.517356      0.83   \n",
       "\n",
       "   Wind Speed (km/h)  Wind Bearing (degrees)  Visibility (km)  Loud Cover  \\\n",
       "0           0.221130                0.699164            0.983         0.0   \n",
       "1           0.223399                0.721448            0.983         0.0   \n",
       "2           0.061523                0.568245            0.929         0.0   \n",
       "3           0.220877                0.749304            0.983         0.0   \n",
       "4           0.172970                0.721448            0.983         0.0   \n",
       "\n",
       "   Pressure (millibars)  \n",
       "0              0.970135  \n",
       "1              0.970613  \n",
       "2              0.970909  \n",
       "3              0.971358  \n",
       "4              0.971454  "
      ]
     },
     "execution_count": 18,
     "metadata": {},
     "output_type": "execute_result"
    }
   ],
   "source": [
    "X = pd.DataFrame(X, columns = cols)\n",
    "X.head()"
   ]
  },
  {
   "cell_type": "code",
   "execution_count": 19,
   "id": "8b04ec75",
   "metadata": {
    "execution": {
     "iopub.execute_input": "2023-09-21T05:54:41.091967Z",
     "iopub.status.busy": "2023-09-21T05:54:41.091347Z",
     "iopub.status.idle": "2023-09-21T05:54:41.207801Z",
     "shell.execute_reply": "2023-09-21T05:54:41.206940Z"
    },
    "papermill": {
     "duration": 0.134866,
     "end_time": "2023-09-21T05:54:41.210222",
     "exception": false,
     "start_time": "2023-09-21T05:54:41.075356",
     "status": "completed"
    },
    "tags": []
   },
   "outputs": [],
   "source": [
    "from sklearn.model_selection import train_test_split\n",
    "Xtrain, Xtest, ytrain, ytest = train_test_split(X,y, test_size = 0.3, random_state = 42)"
   ]
  },
  {
   "cell_type": "code",
   "execution_count": 20,
   "id": "9372fc41",
   "metadata": {
    "execution": {
     "iopub.execute_input": "2023-09-21T05:54:41.240350Z",
     "iopub.status.busy": "2023-09-21T05:54:41.239652Z",
     "iopub.status.idle": "2023-09-21T05:54:41.245632Z",
     "shell.execute_reply": "2023-09-21T05:54:41.244319Z"
    },
    "papermill": {
     "duration": 0.023432,
     "end_time": "2023-09-21T05:54:41.247825",
     "exception": false,
     "start_time": "2023-09-21T05:54:41.224393",
     "status": "completed"
    },
    "tags": []
   },
   "outputs": [
    {
     "name": "stdout",
     "output_type": "stream",
     "text": [
      "X training set shape  (67517, 9)\n",
      "X testing set shape  (28936, 9)\n",
      "y training set shape  (67517,)\n",
      "y testing set shape  (28936,)\n"
     ]
    }
   ],
   "source": [
    "print('X training set shape ', Xtrain.shape)\n",
    "print('X testing set shape ', Xtest.shape)\n",
    "print('y training set shape ', ytrain.shape)\n",
    "print('y testing set shape ', ytest.shape)"
   ]
  },
  {
   "cell_type": "code",
   "execution_count": 21,
   "id": "456a8059",
   "metadata": {
    "execution": {
     "iopub.execute_input": "2023-09-21T05:54:41.278254Z",
     "iopub.status.busy": "2023-09-21T05:54:41.277608Z",
     "iopub.status.idle": "2023-09-21T05:54:41.372025Z",
     "shell.execute_reply": "2023-09-21T05:54:41.371183Z"
    },
    "papermill": {
     "duration": 0.112406,
     "end_time": "2023-09-21T05:54:41.374499",
     "exception": false,
     "start_time": "2023-09-21T05:54:41.262093",
     "status": "completed"
    },
    "tags": []
   },
   "outputs": [],
   "source": [
    "from sklearn.linear_model import LinearRegression\n",
    "lr = LinearRegression()"
   ]
  },
  {
   "cell_type": "code",
   "execution_count": 22,
   "id": "04dd4a13",
   "metadata": {
    "execution": {
     "iopub.execute_input": "2023-09-21T05:54:41.404909Z",
     "iopub.status.busy": "2023-09-21T05:54:41.404252Z",
     "iopub.status.idle": "2023-09-21T05:54:41.467345Z",
     "shell.execute_reply": "2023-09-21T05:54:41.466562Z"
    },
    "papermill": {
     "duration": 0.081017,
     "end_time": "2023-09-21T05:54:41.469780",
     "exception": false,
     "start_time": "2023-09-21T05:54:41.388763",
     "status": "completed"
    },
    "tags": []
   },
   "outputs": [
    {
     "data": {
      "text/html": [
       "<style>#sk-container-id-1 {color: black;background-color: white;}#sk-container-id-1 pre{padding: 0;}#sk-container-id-1 div.sk-toggleable {background-color: white;}#sk-container-id-1 label.sk-toggleable__label {cursor: pointer;display: block;width: 100%;margin-bottom: 0;padding: 0.3em;box-sizing: border-box;text-align: center;}#sk-container-id-1 label.sk-toggleable__label-arrow:before {content: \"▸\";float: left;margin-right: 0.25em;color: #696969;}#sk-container-id-1 label.sk-toggleable__label-arrow:hover:before {color: black;}#sk-container-id-1 div.sk-estimator:hover label.sk-toggleable__label-arrow:before {color: black;}#sk-container-id-1 div.sk-toggleable__content {max-height: 0;max-width: 0;overflow: hidden;text-align: left;background-color: #f0f8ff;}#sk-container-id-1 div.sk-toggleable__content pre {margin: 0.2em;color: black;border-radius: 0.25em;background-color: #f0f8ff;}#sk-container-id-1 input.sk-toggleable__control:checked~div.sk-toggleable__content {max-height: 200px;max-width: 100%;overflow: auto;}#sk-container-id-1 input.sk-toggleable__control:checked~label.sk-toggleable__label-arrow:before {content: \"▾\";}#sk-container-id-1 div.sk-estimator input.sk-toggleable__control:checked~label.sk-toggleable__label {background-color: #d4ebff;}#sk-container-id-1 div.sk-label input.sk-toggleable__control:checked~label.sk-toggleable__label {background-color: #d4ebff;}#sk-container-id-1 input.sk-hidden--visually {border: 0;clip: rect(1px 1px 1px 1px);clip: rect(1px, 1px, 1px, 1px);height: 1px;margin: -1px;overflow: hidden;padding: 0;position: absolute;width: 1px;}#sk-container-id-1 div.sk-estimator {font-family: monospace;background-color: #f0f8ff;border: 1px dotted black;border-radius: 0.25em;box-sizing: border-box;margin-bottom: 0.5em;}#sk-container-id-1 div.sk-estimator:hover {background-color: #d4ebff;}#sk-container-id-1 div.sk-parallel-item::after {content: \"\";width: 100%;border-bottom: 1px solid gray;flex-grow: 1;}#sk-container-id-1 div.sk-label:hover label.sk-toggleable__label {background-color: #d4ebff;}#sk-container-id-1 div.sk-serial::before {content: \"\";position: absolute;border-left: 1px solid gray;box-sizing: border-box;top: 0;bottom: 0;left: 50%;z-index: 0;}#sk-container-id-1 div.sk-serial {display: flex;flex-direction: column;align-items: center;background-color: white;padding-right: 0.2em;padding-left: 0.2em;position: relative;}#sk-container-id-1 div.sk-item {position: relative;z-index: 1;}#sk-container-id-1 div.sk-parallel {display: flex;align-items: stretch;justify-content: center;background-color: white;position: relative;}#sk-container-id-1 div.sk-item::before, #sk-container-id-1 div.sk-parallel-item::before {content: \"\";position: absolute;border-left: 1px solid gray;box-sizing: border-box;top: 0;bottom: 0;left: 50%;z-index: -1;}#sk-container-id-1 div.sk-parallel-item {display: flex;flex-direction: column;z-index: 1;position: relative;background-color: white;}#sk-container-id-1 div.sk-parallel-item:first-child::after {align-self: flex-end;width: 50%;}#sk-container-id-1 div.sk-parallel-item:last-child::after {align-self: flex-start;width: 50%;}#sk-container-id-1 div.sk-parallel-item:only-child::after {width: 0;}#sk-container-id-1 div.sk-dashed-wrapped {border: 1px dashed gray;margin: 0 0.4em 0.5em 0.4em;box-sizing: border-box;padding-bottom: 0.4em;background-color: white;}#sk-container-id-1 div.sk-label label {font-family: monospace;font-weight: bold;display: inline-block;line-height: 1.2em;}#sk-container-id-1 div.sk-label-container {text-align: center;}#sk-container-id-1 div.sk-container {/* jupyter's `normalize.less` sets `[hidden] { display: none; }` but bootstrap.min.css set `[hidden] { display: none !important; }` so we also need the `!important` here to be able to override the default hidden behavior on the sphinx rendered scikit-learn.org. See: https://github.com/scikit-learn/scikit-learn/issues/21755 */display: inline-block !important;position: relative;}#sk-container-id-1 div.sk-text-repr-fallback {display: none;}</style><div id=\"sk-container-id-1\" class=\"sk-top-container\"><div class=\"sk-text-repr-fallback\"><pre>LinearRegression()</pre><b>In a Jupyter environment, please rerun this cell to show the HTML representation or trust the notebook. <br />On GitHub, the HTML representation is unable to render, please try loading this page with nbviewer.org.</b></div><div class=\"sk-container\" hidden><div class=\"sk-item\"><div class=\"sk-estimator sk-toggleable\"><input class=\"sk-toggleable__control sk-hidden--visually\" id=\"sk-estimator-id-1\" type=\"checkbox\" checked><label for=\"sk-estimator-id-1\" class=\"sk-toggleable__label sk-toggleable__label-arrow\">LinearRegression</label><div class=\"sk-toggleable__content\"><pre>LinearRegression()</pre></div></div></div></div></div>"
      ],
      "text/plain": [
       "LinearRegression()"
      ]
     },
     "execution_count": 22,
     "metadata": {},
     "output_type": "execute_result"
    }
   ],
   "source": [
    "lr.fit(Xtrain,ytrain)"
   ]
  },
  {
   "cell_type": "code",
   "execution_count": 23,
   "id": "06cd8e18",
   "metadata": {
    "execution": {
     "iopub.execute_input": "2023-09-21T05:54:41.501410Z",
     "iopub.status.busy": "2023-09-21T05:54:41.500614Z",
     "iopub.status.idle": "2023-09-21T05:54:41.507453Z",
     "shell.execute_reply": "2023-09-21T05:54:41.506587Z"
    },
    "papermill": {
     "duration": 0.025175,
     "end_time": "2023-09-21T05:54:41.509678",
     "exception": false,
     "start_time": "2023-09-21T05:54:41.484503",
     "status": "completed"
    },
    "tags": []
   },
   "outputs": [
    {
     "data": {
      "text/plain": [
       "-21.61337277214811"
      ]
     },
     "execution_count": 23,
     "metadata": {},
     "output_type": "execute_result"
    }
   ],
   "source": [
    "lr.intercept_"
   ]
  },
  {
   "cell_type": "code",
   "execution_count": 24,
   "id": "08091d9e",
   "metadata": {
    "execution": {
     "iopub.execute_input": "2023-09-21T05:54:41.541475Z",
     "iopub.status.busy": "2023-09-21T05:54:41.540680Z",
     "iopub.status.idle": "2023-09-21T05:54:41.547587Z",
     "shell.execute_reply": "2023-09-21T05:54:41.546750Z"
    },
    "papermill": {
     "duration": 0.025229,
     "end_time": "2023-09-21T05:54:41.549873",
     "exception": false,
     "start_time": "2023-09-21T05:54:41.524644",
     "status": "completed"
    },
    "tags": []
   },
   "outputs": [
    {
     "data": {
      "text/plain": [
       "array([ 0.20943276,  0.14323868, 58.60923912, -1.37544672,  5.14662828,\n",
       "       -0.134599  ,  0.14275495,  0.        , -0.26736728])"
      ]
     },
     "execution_count": 24,
     "metadata": {},
     "output_type": "execute_result"
    }
   ],
   "source": [
    "lr.coef_"
   ]
  },
  {
   "cell_type": "code",
   "execution_count": 25,
   "id": "89ef1e5e",
   "metadata": {
    "execution": {
     "iopub.execute_input": "2023-09-21T05:54:41.581966Z",
     "iopub.status.busy": "2023-09-21T05:54:41.581575Z",
     "iopub.status.idle": "2023-09-21T05:54:41.598595Z",
     "shell.execute_reply": "2023-09-21T05:54:41.597227Z"
    },
    "papermill": {
     "duration": 0.037544,
     "end_time": "2023-09-21T05:54:41.602349",
     "exception": false,
     "start_time": "2023-09-21T05:54:41.564805",
     "status": "completed"
    },
    "tags": []
   },
   "outputs": [
    {
     "data": {
      "text/plain": [
       "array([28.12481451,  9.59915913, 15.17019924, ..., 19.20054547,\n",
       "       12.82848935, 13.6155072 ])"
      ]
     },
     "execution_count": 25,
     "metadata": {},
     "output_type": "execute_result"
    }
   ],
   "source": [
    "y_pred = lr.predict(Xtest)\n",
    "y_pred"
   ]
  },
  {
   "cell_type": "code",
   "execution_count": 26,
   "id": "d25bf189",
   "metadata": {
    "execution": {
     "iopub.execute_input": "2023-09-21T05:54:41.668482Z",
     "iopub.status.busy": "2023-09-21T05:54:41.667821Z",
     "iopub.status.idle": "2023-09-21T05:54:41.682576Z",
     "shell.execute_reply": "2023-09-21T05:54:41.680956Z"
    },
    "papermill": {
     "duration": 0.052941,
     "end_time": "2023-09-21T05:54:41.687048",
     "exception": false,
     "start_time": "2023-09-21T05:54:41.634107",
     "status": "completed"
    },
    "tags": []
   },
   "outputs": [
    {
     "name": "stdout",
     "output_type": "stream",
     "text": [
      "Mean Absolute Error  0.7398172849536235\n",
      "Mean squared error  0.8938866527950491\n",
      "R squared  0.9902004612085823\n"
     ]
    }
   ],
   "source": [
    "from sklearn.metrics import accuracy_score,mean_absolute_error, mean_squared_error, r2_score\n",
    "print(\"Mean Absolute Error \", mean_absolute_error(ytest, y_pred))\n",
    "print(\"Mean squared error \", mean_squared_error(ytest,y_pred))\n",
    "print('R squared ', r2_score(ytest,y_pred))"
   ]
  }
 ],
 "metadata": {
  "kernelspec": {
   "display_name": "Python 3",
   "language": "python",
   "name": "python3"
  },
  "language_info": {
   "codemirror_mode": {
    "name": "ipython",
    "version": 3
   },
   "file_extension": ".py",
   "mimetype": "text/x-python",
   "name": "python",
   "nbconvert_exporter": "python",
   "pygments_lexer": "ipython3",
   "version": "3.10.12"
  },
  "papermill": {
   "default_parameters": {},
   "duration": 26.19327,
   "end_time": "2023-09-21T05:54:42.339559",
   "environment_variables": {},
   "exception": null,
   "input_path": "__notebook__.ipynb",
   "output_path": "__notebook__.ipynb",
   "parameters": {},
   "start_time": "2023-09-21T05:54:16.146289",
   "version": "2.4.0"
  }
 },
 "nbformat": 4,
 "nbformat_minor": 5
}
